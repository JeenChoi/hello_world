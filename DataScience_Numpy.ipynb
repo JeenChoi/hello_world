{
  "nbformat": 4,
  "nbformat_minor": 0,
  "metadata": {
    "colab": {
      "name": "DataScience_Numpy.ipynb",
      "version": "0.3.2",
      "provenance": [],
      "collapsed_sections": [],
      "include_colab_link": true
    },
    "kernelspec": {
      "name": "python3",
      "display_name": "Python 3"
    }
  },
  "cells": [
    {
      "cell_type": "markdown",
      "metadata": {
        "id": "view-in-github",
        "colab_type": "text"
      },
      "source": [
        "<a href=\"https://colab.research.google.com/github/JeenChoi/hello_world/blob/master/DataScience_Numpy.ipynb\" target=\"_parent\"><img src=\"https://colab.research.google.com/assets/colab-badge.svg\" alt=\"Open In Colab\"/></a>"
      ]
    },
    {
      "metadata": {
        "id": "m5Nj8DPxudj3",
        "colab_type": "text"
      },
      "cell_type": "markdown",
      "source": [
        "# Introduction to Numpy"
      ]
    },
    {
      "metadata": {
        "id": "c8Mxg4bItjI6",
        "colab_type": "code",
        "colab": {
          "base_uri": "https://localhost:8080/",
          "height": 35
        },
        "outputId": "262ce10f-2c3e-4b90-8576-c68e36c431b8"
      },
      "cell_type": "code",
      "source": [
        "import numpy\n",
        "numpy.__version__"
      ],
      "execution_count": 1,
      "outputs": [
        {
          "output_type": "execute_result",
          "data": {
            "text/plain": [
              "'1.14.6'"
            ]
          },
          "metadata": {
            "tags": []
          },
          "execution_count": 1
        }
      ]
    },
    {
      "metadata": {
        "id": "hkHw2OkQuFxa",
        "colab_type": "code",
        "colab": {}
      },
      "cell_type": "code",
      "source": [
        "import numpy as np"
      ],
      "execution_count": 0,
      "outputs": []
    },
    {
      "metadata": {
        "id": "utICYBqauoQM",
        "colab_type": "text"
      },
      "cell_type": "markdown",
      "source": [
        "# Understnading Data Types in Python"
      ]
    },
    {
      "metadata": {
        "id": "8qu_jJlNuJew",
        "colab_type": "code",
        "colab": {
          "base_uri": "https://localhost:8080/",
          "height": 35
        },
        "outputId": "352b49ec-2516-4495-c68e-e0a300c54349"
      },
      "cell_type": "code",
      "source": [
        "result = 0\n",
        "for i in range(100):\n",
        "  result += i\n",
        "  \n",
        "result"
      ],
      "execution_count": 4,
      "outputs": [
        {
          "output_type": "execute_result",
          "data": {
            "text/plain": [
              "4950"
            ]
          },
          "metadata": {
            "tags": []
          },
          "execution_count": 4
        }
      ]
    },
    {
      "metadata": {
        "id": "la1AOjYuuVSe",
        "colab_type": "code",
        "colab": {
          "base_uri": "https://localhost:8080/",
          "height": 35
        },
        "outputId": "2f43eea4-ef2a-4e5f-db57-022ec265b5e8"
      },
      "cell_type": "code",
      "source": [
        "L = list(range(10))\n",
        "L"
      ],
      "execution_count": 5,
      "outputs": [
        {
          "output_type": "execute_result",
          "data": {
            "text/plain": [
              "[0, 1, 2, 3, 4, 5, 6, 7, 8, 9]"
            ]
          },
          "metadata": {
            "tags": []
          },
          "execution_count": 5
        }
      ]
    },
    {
      "metadata": {
        "id": "E_EIg8ckuxuL",
        "colab_type": "code",
        "colab": {
          "base_uri": "https://localhost:8080/",
          "height": 35
        },
        "outputId": "c7aed21f-7f4c-400a-8b3f-cb556298aa2e"
      },
      "cell_type": "code",
      "source": [
        "type(L)"
      ],
      "execution_count": 6,
      "outputs": [
        {
          "output_type": "execute_result",
          "data": {
            "text/plain": [
              "list"
            ]
          },
          "metadata": {
            "tags": []
          },
          "execution_count": 6
        }
      ]
    },
    {
      "metadata": {
        "id": "u2a0SSw9uzvU",
        "colab_type": "code",
        "colab": {
          "base_uri": "https://localhost:8080/",
          "height": 35
        },
        "outputId": "2dcba454-c72c-41ab-b6a7-7a145b8083a2"
      },
      "cell_type": "code",
      "source": [
        "type(L[2])"
      ],
      "execution_count": 7,
      "outputs": [
        {
          "output_type": "execute_result",
          "data": {
            "text/plain": [
              "int"
            ]
          },
          "metadata": {
            "tags": []
          },
          "execution_count": 7
        }
      ]
    },
    {
      "metadata": {
        "id": "sG34PMj4u3Sa",
        "colab_type": "code",
        "colab": {
          "base_uri": "https://localhost:8080/",
          "height": 35
        },
        "outputId": "63065487-29ce-4597-83f4-445b9655f6e8"
      },
      "cell_type": "code",
      "source": [
        "L2 = [str(c) for c in L]\n",
        "L2"
      ],
      "execution_count": 9,
      "outputs": [
        {
          "output_type": "execute_result",
          "data": {
            "text/plain": [
              "['0', '1', '2', '3', '4', '5', '6', '7', '8', '9']"
            ]
          },
          "metadata": {
            "tags": []
          },
          "execution_count": 9
        }
      ]
    },
    {
      "metadata": {
        "id": "B_Zc1KAeu_US",
        "colab_type": "code",
        "colab": {
          "base_uri": "https://localhost:8080/",
          "height": 35
        },
        "outputId": "855216c9-98fa-4491-8da3-77d8d0dd2fd7"
      },
      "cell_type": "code",
      "source": [
        "type(L2[2])"
      ],
      "execution_count": 10,
      "outputs": [
        {
          "output_type": "execute_result",
          "data": {
            "text/plain": [
              "str"
            ]
          },
          "metadata": {
            "tags": []
          },
          "execution_count": 10
        }
      ]
    },
    {
      "metadata": {
        "id": "daoNLbZmvEIE",
        "colab_type": "code",
        "colab": {
          "base_uri": "https://localhost:8080/",
          "height": 35
        },
        "outputId": "9935d4f6-71c7-4868-98f5-dd79cef23dcf"
      },
      "cell_type": "code",
      "source": [
        "L3 = [True, \"2\", 4.0, 5]\n",
        "A = [type(item) for item in L3]\n",
        "A"
      ],
      "execution_count": 13,
      "outputs": [
        {
          "output_type": "execute_result",
          "data": {
            "text/plain": [
              "[bool, str, float, int]"
            ]
          },
          "metadata": {
            "tags": []
          },
          "execution_count": 13
        }
      ]
    },
    {
      "metadata": {
        "id": "U3Bl5cAqvQlu",
        "colab_type": "code",
        "colab": {}
      },
      "cell_type": "code",
      "source": [
        "import array"
      ],
      "execution_count": 0,
      "outputs": []
    },
    {
      "metadata": {
        "id": "gl9EUshovTWA",
        "colab_type": "code",
        "colab": {
          "base_uri": "https://localhost:8080/",
          "height": 35
        },
        "outputId": "d24ce86c-a004-441c-887b-7d6da938fbc1"
      },
      "cell_type": "code",
      "source": [
        "L = list(range(10))\n",
        "A = array.array('i', L)\n",
        "A"
      ],
      "execution_count": 15,
      "outputs": [
        {
          "output_type": "execute_result",
          "data": {
            "text/plain": [
              "array('i', [0, 1, 2, 3, 4, 5, 6, 7, 8, 9])"
            ]
          },
          "metadata": {
            "tags": []
          },
          "execution_count": 15
        }
      ]
    },
    {
      "metadata": {
        "id": "O0V5Gy19vbua",
        "colab_type": "code",
        "colab": {}
      },
      "cell_type": "code",
      "source": [
        "array.array?"
      ],
      "execution_count": 0,
      "outputs": []
    },
    {
      "metadata": {
        "id": "62Q441jsvjTf",
        "colab_type": "code",
        "colab": {}
      },
      "cell_type": "code",
      "source": [
        "array?"
      ],
      "execution_count": 0,
      "outputs": []
    },
    {
      "metadata": {
        "id": "F7R1hl_Avt2N",
        "colab_type": "code",
        "colab": {
          "base_uri": "https://localhost:8080/",
          "height": 35
        },
        "outputId": "bdb7b8fc-da9f-4eee-9e07-a54c700b665f"
      },
      "cell_type": "code",
      "source": [
        "np.array([1,6,4,2,4])"
      ],
      "execution_count": 18,
      "outputs": [
        {
          "output_type": "execute_result",
          "data": {
            "text/plain": [
              "array([1, 6, 4, 2, 4])"
            ]
          },
          "metadata": {
            "tags": []
          },
          "execution_count": 18
        }
      ]
    },
    {
      "metadata": {
        "id": "ZDC5EUz2v2IR",
        "colab_type": "code",
        "colab": {
          "base_uri": "https://localhost:8080/",
          "height": 35
        },
        "outputId": "5e431f54-a6b8-4c92-cceb-2ece65a47548"
      },
      "cell_type": "code",
      "source": [
        "np.array([3.14, 5, 3, 1])"
      ],
      "execution_count": 19,
      "outputs": [
        {
          "output_type": "execute_result",
          "data": {
            "text/plain": [
              "array([3.14, 5.  , 3.  , 1.  ])"
            ]
          },
          "metadata": {
            "tags": []
          },
          "execution_count": 19
        }
      ]
    },
    {
      "metadata": {
        "id": "nn5Pg_B2v93v",
        "colab_type": "code",
        "colab": {
          "base_uri": "https://localhost:8080/",
          "height": 35
        },
        "outputId": "1dc0ca22-b827-4294-856f-204b9e345893"
      },
      "cell_type": "code",
      "source": [
        "B = np.array([1,2,3,4], dtype = 'float32')\n",
        "B"
      ],
      "execution_count": 26,
      "outputs": [
        {
          "output_type": "execute_result",
          "data": {
            "text/plain": [
              "array([1., 2., 3., 4.], dtype=float32)"
            ]
          },
          "metadata": {
            "tags": []
          },
          "execution_count": 26
        }
      ]
    },
    {
      "metadata": {
        "id": "A5mvg683wIy0",
        "colab_type": "code",
        "colab": {
          "base_uri": "https://localhost:8080/",
          "height": 35
        },
        "outputId": "2a7a5de4-9aad-4adc-a7d8-18f7d04af351"
      },
      "cell_type": "code",
      "source": [
        "type(B[0])"
      ],
      "execution_count": 27,
      "outputs": [
        {
          "output_type": "execute_result",
          "data": {
            "text/plain": [
              "numpy.float32"
            ]
          },
          "metadata": {
            "tags": []
          },
          "execution_count": 27
        }
      ]
    },
    {
      "metadata": {
        "id": "vE4JCjP_wdLl",
        "colab_type": "code",
        "colab": {
          "base_uri": "https://localhost:8080/",
          "height": 70
        },
        "outputId": "4465c776-e819-4697-c9a4-31647f043a91"
      },
      "cell_type": "code",
      "source": [
        "N = np.array([range(i, i+3) for i in [2,4,6]])\n",
        "N"
      ],
      "execution_count": 31,
      "outputs": [
        {
          "output_type": "execute_result",
          "data": {
            "text/plain": [
              "array([[2, 3, 4],\n",
              "       [4, 5, 6],\n",
              "       [6, 7, 8]])"
            ]
          },
          "metadata": {
            "tags": []
          },
          "execution_count": 31
        }
      ]
    },
    {
      "metadata": {
        "id": "NXSTrI2FxPk9",
        "colab_type": "code",
        "colab": {
          "base_uri": "https://localhost:8080/",
          "height": 35
        },
        "outputId": "814fbe52-6f27-4c11-f92c-b2972ee6b8ee"
      },
      "cell_type": "code",
      "source": [
        "K = np.zeros(10, dtype = int)\n",
        "K"
      ],
      "execution_count": 33,
      "outputs": [
        {
          "output_type": "execute_result",
          "data": {
            "text/plain": [
              "array([0, 0, 0, 0, 0, 0, 0, 0, 0, 0])"
            ]
          },
          "metadata": {
            "tags": []
          },
          "execution_count": 33
        }
      ]
    },
    {
      "metadata": {
        "id": "g8RCOZLuxUwM",
        "colab_type": "code",
        "colab": {
          "base_uri": "https://localhost:8080/",
          "height": 35
        },
        "outputId": "fd09c8f3-55ec-49f6-85f1-789e5589d002"
      },
      "cell_type": "code",
      "source": [
        "type(K[1])"
      ],
      "execution_count": 34,
      "outputs": [
        {
          "output_type": "execute_result",
          "data": {
            "text/plain": [
              "numpy.int64"
            ]
          },
          "metadata": {
            "tags": []
          },
          "execution_count": 34
        }
      ]
    },
    {
      "metadata": {
        "id": "Gn1UrMi5xhAR",
        "colab_type": "code",
        "colab": {
          "base_uri": "https://localhost:8080/",
          "height": 70
        },
        "outputId": "017900be-b5ae-4786-b60d-e8a11a1135d8"
      },
      "cell_type": "code",
      "source": [
        "np.ones((3,5), dtype = float)"
      ],
      "execution_count": 35,
      "outputs": [
        {
          "output_type": "execute_result",
          "data": {
            "text/plain": [
              "array([[1., 1., 1., 1., 1.],\n",
              "       [1., 1., 1., 1., 1.],\n",
              "       [1., 1., 1., 1., 1.]])"
            ]
          },
          "metadata": {
            "tags": []
          },
          "execution_count": 35
        }
      ]
    },
    {
      "metadata": {
        "id": "iAqKyZ7wxpp8",
        "colab_type": "code",
        "colab": {
          "base_uri": "https://localhost:8080/",
          "height": 70
        },
        "outputId": "bd8f93db-bbce-4296-cceb-5c34e5e9eb78"
      },
      "cell_type": "code",
      "source": [
        "np.ones((3,5))"
      ],
      "execution_count": 36,
      "outputs": [
        {
          "output_type": "execute_result",
          "data": {
            "text/plain": [
              "array([[1., 1., 1., 1., 1.],\n",
              "       [1., 1., 1., 1., 1.],\n",
              "       [1., 1., 1., 1., 1.]])"
            ]
          },
          "metadata": {
            "tags": []
          },
          "execution_count": 36
        }
      ]
    },
    {
      "metadata": {
        "id": "ORppICINxt2X",
        "colab_type": "code",
        "colab": {
          "base_uri": "https://localhost:8080/",
          "height": 70
        },
        "outputId": "0fbb75a9-ec36-43d3-820c-53034bd65ff3"
      },
      "cell_type": "code",
      "source": [
        "np.ones((3,5), dtype = int)"
      ],
      "execution_count": 37,
      "outputs": [
        {
          "output_type": "execute_result",
          "data": {
            "text/plain": [
              "array([[1, 1, 1, 1, 1],\n",
              "       [1, 1, 1, 1, 1],\n",
              "       [1, 1, 1, 1, 1]])"
            ]
          },
          "metadata": {
            "tags": []
          },
          "execution_count": 37
        }
      ]
    },
    {
      "metadata": {
        "id": "aE4YhHrNx3ex",
        "colab_type": "code",
        "colab": {
          "base_uri": "https://localhost:8080/",
          "height": 70
        },
        "outputId": "78a6b31d-c405-449d-85b7-fa62a3c5ef9d"
      },
      "cell_type": "code",
      "source": [
        "np.full((3,5), 3.14)"
      ],
      "execution_count": 38,
      "outputs": [
        {
          "output_type": "execute_result",
          "data": {
            "text/plain": [
              "array([[3.14, 3.14, 3.14, 3.14, 3.14],\n",
              "       [3.14, 3.14, 3.14, 3.14, 3.14],\n",
              "       [3.14, 3.14, 3.14, 3.14, 3.14]])"
            ]
          },
          "metadata": {
            "tags": []
          },
          "execution_count": 38
        }
      ]
    },
    {
      "metadata": {
        "id": "jSpOYcgGx9J7",
        "colab_type": "code",
        "colab": {
          "base_uri": "https://localhost:8080/",
          "height": 35
        },
        "outputId": "7bd843e6-59a0-4f16-9b2a-4032fe1a3ffb"
      },
      "cell_type": "code",
      "source": [
        "np.arange(0,30,2)"
      ],
      "execution_count": 41,
      "outputs": [
        {
          "output_type": "execute_result",
          "data": {
            "text/plain": [
              "array([ 0,  2,  4,  6,  8, 10, 12, 14, 16, 18, 20, 22, 24, 26, 28])"
            ]
          },
          "metadata": {
            "tags": []
          },
          "execution_count": 41
        }
      ]
    },
    {
      "metadata": {
        "id": "bYoPuj2-yKmQ",
        "colab_type": "code",
        "colab": {
          "base_uri": "https://localhost:8080/",
          "height": 35
        },
        "outputId": "713834d5-2d3b-430e-e5e1-3647e4eba2e7"
      },
      "cell_type": "code",
      "source": [
        "np.linspace(0,1,3)"
      ],
      "execution_count": 44,
      "outputs": [
        {
          "output_type": "execute_result",
          "data": {
            "text/plain": [
              "array([0. , 0.5, 1. ])"
            ]
          },
          "metadata": {
            "tags": []
          },
          "execution_count": 44
        }
      ]
    },
    {
      "metadata": {
        "id": "inTVW_w7ySUQ",
        "colab_type": "code",
        "colab": {
          "base_uri": "https://localhost:8080/",
          "height": 88
        },
        "outputId": "885f2d75-12ed-4f6c-d3f0-6dc0ded112f8"
      },
      "cell_type": "code",
      "source": [
        "np.random.random((4,4))"
      ],
      "execution_count": 46,
      "outputs": [
        {
          "output_type": "execute_result",
          "data": {
            "text/plain": [
              "array([[0.43145525, 0.79368589, 0.60772737, 0.73827822],\n",
              "       [0.38523902, 0.5062542 , 0.75038102, 0.4325521 ],\n",
              "       [0.52613441, 0.91775602, 0.83937646, 0.57000616],\n",
              "       [0.55083993, 0.53457733, 0.23484857, 0.14762906]])"
            ]
          },
          "metadata": {
            "tags": []
          },
          "execution_count": 46
        }
      ]
    },
    {
      "metadata": {
        "id": "N0hpHQ8oyX6n",
        "colab_type": "code",
        "colab": {}
      },
      "cell_type": "code",
      "source": [
        "np.random?"
      ],
      "execution_count": 0,
      "outputs": []
    },
    {
      "metadata": {
        "id": "GveVCd1VycGP",
        "colab_type": "code",
        "colab": {
          "base_uri": "https://localhost:8080/",
          "height": 88
        },
        "outputId": "8c525f95-b3b8-43bf-aeef-3a62795cf351"
      },
      "cell_type": "code",
      "source": [
        "np.random.normal(0,2,(4,4))\n",
        "#mean = 0, deviation = 2"
      ],
      "execution_count": 48,
      "outputs": [
        {
          "output_type": "execute_result",
          "data": {
            "text/plain": [
              "array([[ 2.40953417, -3.41978545,  0.95024429,  0.12807351],\n",
              "       [ 1.35647789,  0.76856204,  0.04504123,  0.14587249],\n",
              "       [ 1.54779393,  0.27867002,  0.61011762,  2.67006851],\n",
              "       [ 0.90146586,  0.22956693, -0.66889486, -2.0316309 ]])"
            ]
          },
          "metadata": {
            "tags": []
          },
          "execution_count": 48
        }
      ]
    },
    {
      "metadata": {
        "id": "kakZgelnyy2b",
        "colab_type": "code",
        "colab": {
          "base_uri": "https://localhost:8080/",
          "height": 70
        },
        "outputId": "7a92e3c1-8edc-410a-d736-9c9bbaf81d31"
      },
      "cell_type": "code",
      "source": [
        "np.random.randint(0, 10, (3,3))\n",
        "#randint = random int 0 to 10"
      ],
      "execution_count": 49,
      "outputs": [
        {
          "output_type": "execute_result",
          "data": {
            "text/plain": [
              "array([[2, 5, 7],\n",
              "       [0, 7, 9],\n",
              "       [4, 9, 1]])"
            ]
          },
          "metadata": {
            "tags": []
          },
          "execution_count": 49
        }
      ]
    },
    {
      "metadata": {
        "id": "SuLIgEXkzFw8",
        "colab_type": "code",
        "colab": {
          "base_uri": "https://localhost:8080/",
          "height": 70
        },
        "outputId": "41270751-fd02-493b-a07e-715c4e33b29c"
      },
      "cell_type": "code",
      "source": [
        "np.eye(3)\n",
        "#identity matrix!! 항등행렬(identity matrix)/ 대칭(symmatic matrix)"
      ],
      "execution_count": 50,
      "outputs": [
        {
          "output_type": "execute_result",
          "data": {
            "text/plain": [
              "array([[1., 0., 0.],\n",
              "       [0., 1., 0.],\n",
              "       [0., 0., 1.]])"
            ]
          },
          "metadata": {
            "tags": []
          },
          "execution_count": 50
        }
      ]
    },
    {
      "metadata": {
        "id": "ktZfaEUczr8s",
        "colab_type": "code",
        "colab": {
          "base_uri": "https://localhost:8080/",
          "height": 35
        },
        "outputId": "83a8dc40-22a5-4c5b-d0b3-6e21b45be2c5"
      },
      "cell_type": "code",
      "source": [
        "np.empty(3)"
      ],
      "execution_count": 51,
      "outputs": [
        {
          "output_type": "execute_result",
          "data": {
            "text/plain": [
              "array([1., 1., 1.])"
            ]
          },
          "metadata": {
            "tags": []
          },
          "execution_count": 51
        }
      ]
    },
    {
      "metadata": {
        "id": "3xRbK-ROz_xX",
        "colab_type": "code",
        "colab": {
          "base_uri": "https://localhost:8080/",
          "height": 35
        },
        "outputId": "ffec7043-b014-4554-8bf2-e55bcf87ac64"
      },
      "cell_type": "code",
      "source": [
        "np.zeros(10, dtype = 'int16') #'int16' = np.int16"
      ],
      "execution_count": 52,
      "outputs": [
        {
          "output_type": "execute_result",
          "data": {
            "text/plain": [
              "array([0, 0, 0, 0, 0, 0, 0, 0, 0, 0], dtype=int16)"
            ]
          },
          "metadata": {
            "tags": []
          },
          "execution_count": 52
        }
      ]
    },
    {
      "metadata": {
        "id": "kUTFMv-q0X6A",
        "colab_type": "text"
      },
      "cell_type": "markdown",
      "source": [
        "#The Basics of NumPy Arrays"
      ]
    },
    {
      "metadata": {
        "id": "EvSy4dGS0q2M",
        "colab_type": "code",
        "colab": {
          "base_uri": "https://localhost:8080/",
          "height": 266
        },
        "outputId": "f10eeeed-6378-4ec2-a905-eda9aea210a7"
      },
      "cell_type": "code",
      "source": [
        "x1 = np.random.randint(10, size=6)\n",
        "x2 = np.random.randint(10, size=(3,4))\n",
        "x3 = np.random.randint(10, size=(3,4,5))\n",
        "x1\n",
        "x2\n",
        "x3"
      ],
      "execution_count": 55,
      "outputs": [
        {
          "output_type": "execute_result",
          "data": {
            "text/plain": [
              "array([[[5, 9, 7, 8, 7],\n",
              "        [9, 9, 6, 6, 0],\n",
              "        [9, 5, 5, 5, 5],\n",
              "        [4, 3, 3, 9, 0]],\n",
              "\n",
              "       [[7, 9, 9, 4, 2],\n",
              "        [0, 1, 1, 4, 4],\n",
              "        [4, 4, 9, 1, 8],\n",
              "        [0, 7, 1, 4, 2]],\n",
              "\n",
              "       [[6, 0, 5, 4, 0],\n",
              "        [4, 9, 0, 9, 5],\n",
              "        [3, 4, 6, 7, 6],\n",
              "        [6, 5, 9, 4, 8]]])"
            ]
          },
          "metadata": {
            "tags": []
          },
          "execution_count": 55
        }
      ]
    },
    {
      "metadata": {
        "id": "_m9OnKoN07JD",
        "colab_type": "code",
        "colab": {
          "base_uri": "https://localhost:8080/",
          "height": 70
        },
        "outputId": "be16a74d-d60e-4c72-db30-dfadd20368b1"
      },
      "cell_type": "code",
      "source": [
        "print(\"x3 ndim:\", x3.ndim)\n",
        "print(\"x3 shape:\", x3.shape)\n",
        "print(\"x3 size:\", x3.size)"
      ],
      "execution_count": 54,
      "outputs": [
        {
          "output_type": "stream",
          "text": [
            "x3 ndim: 3\n",
            "x3 shape: (3, 4, 5)\n",
            "x3 size: 60\n"
          ],
          "name": "stdout"
        }
      ]
    },
    {
      "metadata": {
        "id": "PqXfZGLx1TSZ",
        "colab_type": "code",
        "colab": {
          "base_uri": "https://localhost:8080/",
          "height": 35
        },
        "outputId": "1da28c38-fd1a-408e-8194-be0e69df3e9a"
      },
      "cell_type": "code",
      "source": [
        "print(\"dtype:\", x3.dtype)"
      ],
      "execution_count": 56,
      "outputs": [
        {
          "output_type": "stream",
          "text": [
            "dtype: int64\n"
          ],
          "name": "stdout"
        }
      ]
    },
    {
      "metadata": {
        "id": "gBVF_W3U1atk",
        "colab_type": "code",
        "colab": {
          "base_uri": "https://localhost:8080/",
          "height": 52
        },
        "outputId": "7867c9e0-31c1-41c1-9013-0b34f335d651"
      },
      "cell_type": "code",
      "source": [
        "print(\"itemsize:\", x3.itemsize, \"bytes\")\n",
        "print(\"nbytes:\", x3.nbytes, \"bytes\")"
      ],
      "execution_count": 57,
      "outputs": [
        {
          "output_type": "stream",
          "text": [
            "itemsize: 8 bytes\n",
            "nbytes: 480 bytes\n"
          ],
          "name": "stdout"
        }
      ]
    },
    {
      "metadata": {
        "id": "xeqkQQoT1dj2",
        "colab_type": "code",
        "colab": {
          "base_uri": "https://localhost:8080/",
          "height": 35
        },
        "outputId": "ba031fb4-2ae6-4f7e-abb5-da96948b029e"
      },
      "cell_type": "code",
      "source": [
        "x1"
      ],
      "execution_count": 61,
      "outputs": [
        {
          "output_type": "execute_result",
          "data": {
            "text/plain": [
              "array([3, 2, 7, 3, 8, 0])"
            ]
          },
          "metadata": {
            "tags": []
          },
          "execution_count": 61
        }
      ]
    },
    {
      "metadata": {
        "id": "ZQ-ZoKus2C0y",
        "colab_type": "code",
        "colab": {
          "base_uri": "https://localhost:8080/",
          "height": 35
        },
        "outputId": "ffa5517a-d826-4a7c-b7c1-2a132ec09f62"
      },
      "cell_type": "code",
      "source": [
        "#Array Slicing: Accessing Subarrays\n",
        "#start index 2/ stop = size of dimension/step by index 1\n",
        "x1[2:10:1] "
      ],
      "execution_count": 65,
      "outputs": [
        {
          "output_type": "execute_result",
          "data": {
            "text/plain": [
              "array([7, 3, 8, 0])"
            ]
          },
          "metadata": {
            "tags": []
          },
          "execution_count": 65
        }
      ]
    },
    {
      "metadata": {
        "id": "K7e-BPtV2n0Z",
        "colab_type": "code",
        "colab": {
          "base_uri": "https://localhost:8080/",
          "height": 35
        },
        "outputId": "d3fc403f-2842-4a43-d91d-73c1d744f9d2"
      },
      "cell_type": "code",
      "source": [
        "x= np.arange(10)\n",
        "x"
      ],
      "execution_count": 69,
      "outputs": [
        {
          "output_type": "execute_result",
          "data": {
            "text/plain": [
              "array([0, 1, 2, 3, 4, 5, 6, 7, 8, 9])"
            ]
          },
          "metadata": {
            "tags": []
          },
          "execution_count": 69
        }
      ]
    },
    {
      "metadata": {
        "id": "ytrzyi3o2tg_",
        "colab_type": "code",
        "colab": {
          "base_uri": "https://localhost:8080/",
          "height": 35
        },
        "outputId": "86d864b5-fd9f-46c8-a5ab-62fa0fd152c0"
      },
      "cell_type": "code",
      "source": [
        "x[:6]"
      ],
      "execution_count": 70,
      "outputs": [
        {
          "output_type": "execute_result",
          "data": {
            "text/plain": [
              "array([0, 1, 2, 3, 4, 5])"
            ]
          },
          "metadata": {
            "tags": []
          },
          "execution_count": 70
        }
      ]
    },
    {
      "metadata": {
        "id": "fBesiXs02xXN",
        "colab_type": "code",
        "colab": {
          "base_uri": "https://localhost:8080/",
          "height": 35
        },
        "outputId": "d0df67d2-95ab-4781-d32c-4f8983f88b39"
      },
      "cell_type": "code",
      "source": [
        "x[6:]"
      ],
      "execution_count": 72,
      "outputs": [
        {
          "output_type": "execute_result",
          "data": {
            "text/plain": [
              "array([6, 7, 8, 9])"
            ]
          },
          "metadata": {
            "tags": []
          },
          "execution_count": 72
        }
      ]
    },
    {
      "metadata": {
        "id": "Gl1C5UJR2z-I",
        "colab_type": "code",
        "colab": {
          "base_uri": "https://localhost:8080/",
          "height": 35
        },
        "outputId": "c5d56101-5928-4f8e-b134-541b4b790e9d"
      },
      "cell_type": "code",
      "source": [
        "x[3:5]"
      ],
      "execution_count": 74,
      "outputs": [
        {
          "output_type": "execute_result",
          "data": {
            "text/plain": [
              "array([3, 4])"
            ]
          },
          "metadata": {
            "tags": []
          },
          "execution_count": 74
        }
      ]
    },
    {
      "metadata": {
        "id": "L1pqKMCs24AP",
        "colab_type": "code",
        "colab": {
          "base_uri": "https://localhost:8080/",
          "height": 35
        },
        "outputId": "f2adb08e-081f-4bc4-fcea-79aeb102a874"
      },
      "cell_type": "code",
      "source": [
        "x[::2]"
      ],
      "execution_count": 76,
      "outputs": [
        {
          "output_type": "execute_result",
          "data": {
            "text/plain": [
              "array([0, 2, 4, 6, 8])"
            ]
          },
          "metadata": {
            "tags": []
          },
          "execution_count": 76
        }
      ]
    },
    {
      "metadata": {
        "id": "vEjmAqrI28GK",
        "colab_type": "code",
        "colab": {
          "base_uri": "https://localhost:8080/",
          "height": 35
        },
        "outputId": "da77a3ee-2e9a-4b7f-97ff-86f5f85d24db"
      },
      "cell_type": "code",
      "source": [
        "x[1::2]"
      ],
      "execution_count": 77,
      "outputs": [
        {
          "output_type": "execute_result",
          "data": {
            "text/plain": [
              "array([1, 3, 5, 7, 9])"
            ]
          },
          "metadata": {
            "tags": []
          },
          "execution_count": 77
        }
      ]
    },
    {
      "metadata": {
        "id": "d1L1LfSu29uS",
        "colab_type": "code",
        "colab": {
          "base_uri": "https://localhost:8080/",
          "height": 35
        },
        "outputId": "059569de-181d-4620-c9b1-d7ba1e09aa63"
      },
      "cell_type": "code",
      "source": [
        "# all elements, reversed\n",
        "x[::-1]"
      ],
      "execution_count": 78,
      "outputs": [
        {
          "output_type": "execute_result",
          "data": {
            "text/plain": [
              "array([9, 8, 7, 6, 5, 4, 3, 2, 1, 0])"
            ]
          },
          "metadata": {
            "tags": []
          },
          "execution_count": 78
        }
      ]
    },
    {
      "metadata": {
        "id": "z9qAWtr63FwZ",
        "colab_type": "code",
        "colab": {
          "base_uri": "https://localhost:8080/",
          "height": 35
        },
        "outputId": "7eda9c10-bff4-4037-a379-4b4f4a310c7e"
      },
      "cell_type": "code",
      "source": [
        "x[5::-2] "
      ],
      "execution_count": 79,
      "outputs": [
        {
          "output_type": "execute_result",
          "data": {
            "text/plain": [
              "array([5, 3, 1])"
            ]
          },
          "metadata": {
            "tags": []
          },
          "execution_count": 79
        }
      ]
    },
    {
      "metadata": {
        "id": "YdYidwRW3XVE",
        "colab_type": "code",
        "colab": {
          "base_uri": "https://localhost:8080/",
          "height": 70
        },
        "outputId": "84d0c3f3-a709-4f6a-e7df-85a60e86d243"
      },
      "cell_type": "code",
      "source": [
        "x2"
      ],
      "execution_count": 81,
      "outputs": [
        {
          "output_type": "execute_result",
          "data": {
            "text/plain": [
              "array([[2, 2, 6, 9],\n",
              "       [2, 3, 7, 3],\n",
              "       [0, 1, 5, 7]])"
            ]
          },
          "metadata": {
            "tags": []
          },
          "execution_count": 81
        }
      ]
    },
    {
      "metadata": {
        "id": "LIiPz6VD3abD",
        "colab_type": "code",
        "colab": {
          "base_uri": "https://localhost:8080/",
          "height": 52
        },
        "outputId": "0ee958cf-0d95-45f5-93b4-03d9f58f5155"
      },
      "cell_type": "code",
      "source": [
        "x2[:2, :3]"
      ],
      "execution_count": 82,
      "outputs": [
        {
          "output_type": "execute_result",
          "data": {
            "text/plain": [
              "array([[2, 2, 6],\n",
              "       [2, 3, 7]])"
            ]
          },
          "metadata": {
            "tags": []
          },
          "execution_count": 82
        }
      ]
    },
    {
      "metadata": {
        "id": "yCdXkZI_3Pb6",
        "colab_type": "code",
        "colab": {
          "base_uri": "https://localhost:8080/",
          "height": 70
        },
        "outputId": "34add80a-d0b7-485d-b413-1c4c6ecb6aba"
      },
      "cell_type": "code",
      "source": [
        "x2[:3, ::2]"
      ],
      "execution_count": 84,
      "outputs": [
        {
          "output_type": "execute_result",
          "data": {
            "text/plain": [
              "array([[2, 6],\n",
              "       [2, 7],\n",
              "       [0, 5]])"
            ]
          },
          "metadata": {
            "tags": []
          },
          "execution_count": 84
        }
      ]
    },
    {
      "metadata": {
        "id": "q_kgHoK63iX9",
        "colab_type": "code",
        "colab": {
          "base_uri": "https://localhost:8080/",
          "height": 70
        },
        "outputId": "9c021a0d-8fd5-471b-b2d3-ca22898d6aee"
      },
      "cell_type": "code",
      "source": [
        "x2[::-1,  ::-1]"
      ],
      "execution_count": 85,
      "outputs": [
        {
          "output_type": "execute_result",
          "data": {
            "text/plain": [
              "array([[7, 5, 1, 0],\n",
              "       [3, 7, 3, 2],\n",
              "       [9, 6, 2, 2]])"
            ]
          },
          "metadata": {
            "tags": []
          },
          "execution_count": 85
        }
      ]
    },
    {
      "metadata": {
        "id": "1cdpnjO23lXY",
        "colab_type": "code",
        "colab": {
          "base_uri": "https://localhost:8080/",
          "height": 35
        },
        "outputId": "9f129efd-ce66-49ed-f321-3ac4cff6576f"
      },
      "cell_type": "code",
      "source": [
        "print(x2[:, 0])"
      ],
      "execution_count": 87,
      "outputs": [
        {
          "output_type": "stream",
          "text": [
            "[2 2 0]\n"
          ],
          "name": "stdout"
        }
      ]
    },
    {
      "metadata": {
        "id": "hzJE6Rgq3p2B",
        "colab_type": "code",
        "colab": {
          "base_uri": "https://localhost:8080/",
          "height": 35
        },
        "outputId": "75834385-0c49-4750-e391-13cb4dd52063"
      },
      "cell_type": "code",
      "source": [
        "print(x2[0, :])"
      ],
      "execution_count": 88,
      "outputs": [
        {
          "output_type": "stream",
          "text": [
            "[2 2 6 9]\n"
          ],
          "name": "stdout"
        }
      ]
    },
    {
      "metadata": {
        "id": "WB3o6LtK3vwO",
        "colab_type": "code",
        "colab": {
          "base_uri": "https://localhost:8080/",
          "height": 52
        },
        "outputId": "a8be01aa-fec7-43f8-f978-e0942d52b0de"
      },
      "cell_type": "code",
      "source": [
        "x2_sub = x2[:2, :2]\n",
        "print(x2_sub)"
      ],
      "execution_count": 89,
      "outputs": [
        {
          "output_type": "stream",
          "text": [
            "[[2 2]\n",
            " [2 3]]\n"
          ],
          "name": "stdout"
        }
      ]
    },
    {
      "metadata": {
        "id": "0ytg9fk-34Ac",
        "colab_type": "code",
        "colab": {
          "base_uri": "https://localhost:8080/",
          "height": 52
        },
        "outputId": "078e3a3d-eef5-4e9a-c6c6-930b1218afe7"
      },
      "cell_type": "code",
      "source": [
        "x2_sub[0, 0] = 99\n",
        "print(x2_sub)"
      ],
      "execution_count": 91,
      "outputs": [
        {
          "output_type": "stream",
          "text": [
            "[[99  2]\n",
            " [ 2  3]]\n"
          ],
          "name": "stdout"
        }
      ]
    },
    {
      "metadata": {
        "id": "aG37BUb6379n",
        "colab_type": "code",
        "colab": {
          "base_uri": "https://localhost:8080/",
          "height": 70
        },
        "outputId": "10a9151a-3174-4d98-ba71-d877cf23b43c"
      },
      "cell_type": "code",
      "source": [
        "print(x2)"
      ],
      "execution_count": 92,
      "outputs": [
        {
          "output_type": "stream",
          "text": [
            "[[99  2  6  9]\n",
            " [ 2  3  7  3]\n",
            " [ 0  1  5  7]]\n"
          ],
          "name": "stdout"
        }
      ]
    },
    {
      "metadata": {
        "id": "kEn9rEYY39-b",
        "colab_type": "code",
        "colab": {
          "base_uri": "https://localhost:8080/",
          "height": 52
        },
        "outputId": "2e3e63a3-48f0-44a8-9843-c7153a9f5702"
      },
      "cell_type": "code",
      "source": [
        "x2_sub_copy = x2[:2, :2].copy()\n",
        "print(x2_sub_copy)"
      ],
      "execution_count": 93,
      "outputs": [
        {
          "output_type": "stream",
          "text": [
            "[[99  2]\n",
            " [ 2  3]]\n"
          ],
          "name": "stdout"
        }
      ]
    },
    {
      "metadata": {
        "id": "PlWfBl8W4BZh",
        "colab_type": "code",
        "colab": {
          "base_uri": "https://localhost:8080/",
          "height": 52
        },
        "outputId": "384f7390-0604-4422-c371-3e6b0a92739e"
      },
      "cell_type": "code",
      "source": [
        "x2_sub_copy[0, 0] = 42\n",
        "print(x2_sub_copy)"
      ],
      "execution_count": 94,
      "outputs": [
        {
          "output_type": "stream",
          "text": [
            "[[42  2]\n",
            " [ 2  3]]\n"
          ],
          "name": "stdout"
        }
      ]
    },
    {
      "metadata": {
        "id": "lSHNNjUU4DiG",
        "colab_type": "code",
        "colab": {
          "base_uri": "https://localhost:8080/",
          "height": 70
        },
        "outputId": "7d19721f-d569-4d20-a7cd-af92cadd36b2"
      },
      "cell_type": "code",
      "source": [
        "print(x2)"
      ],
      "execution_count": 95,
      "outputs": [
        {
          "output_type": "stream",
          "text": [
            "[[99  2  6  9]\n",
            " [ 2  3  7  3]\n",
            " [ 0  1  5  7]]\n"
          ],
          "name": "stdout"
        }
      ]
    },
    {
      "metadata": {
        "id": "hzvQZWim4F3_",
        "colab_type": "code",
        "colab": {
          "base_uri": "https://localhost:8080/",
          "height": 70
        },
        "outputId": "6a4704b4-bf54-4d7b-cd25-11a0f1e4058a"
      },
      "cell_type": "code",
      "source": [
        "grid = np.arange(1, 10).reshape((3, 3))\n",
        "print(grid)"
      ],
      "execution_count": 96,
      "outputs": [
        {
          "output_type": "stream",
          "text": [
            "[[1 2 3]\n",
            " [4 5 6]\n",
            " [7 8 9]]\n"
          ],
          "name": "stdout"
        }
      ]
    },
    {
      "metadata": {
        "id": "VIe3fFUu4Ne-",
        "colab_type": "code",
        "colab": {
          "base_uri": "https://localhost:8080/",
          "height": 35
        },
        "outputId": "781edfc3-cfa5-4a93-edf4-6f7867f5cfb5"
      },
      "cell_type": "code",
      "source": [
        "x = np.array([1, 2, 3])\n",
        "x.reshape((1, 3))  #same as// x[np.newaxis, :]"
      ],
      "execution_count": 97,
      "outputs": [
        {
          "output_type": "execute_result",
          "data": {
            "text/plain": [
              "array([[1, 2, 3]])"
            ]
          },
          "metadata": {
            "tags": []
          },
          "execution_count": 97
        }
      ]
    },
    {
      "metadata": {
        "id": "g2quWk3-363z",
        "colab_type": "code",
        "colab": {
          "base_uri": "https://localhost:8080/",
          "height": 70
        },
        "outputId": "32ca3926-92ef-42b4-b32f-08cbed07ce1c"
      },
      "cell_type": "code",
      "source": [
        "x.reshape((3, 1)) #same as //x[:, np.newaxis]"
      ],
      "execution_count": 98,
      "outputs": [
        {
          "output_type": "execute_result",
          "data": {
            "text/plain": [
              "array([[1],\n",
              "       [2],\n",
              "       [3]])"
            ]
          },
          "metadata": {
            "tags": []
          },
          "execution_count": 98
        }
      ]
    },
    {
      "metadata": {
        "id": "voujkieZ4d5v",
        "colab_type": "code",
        "colab": {
          "base_uri": "https://localhost:8080/",
          "height": 35
        },
        "outputId": "0000c0c6-0be7-4be5-8541-d059a6c31bf2"
      },
      "cell_type": "code",
      "source": [
        "x = np.array([1, 2, 3])\n",
        "y = np.array([3, 2, 1])\n",
        "np.concatenate([x, y])"
      ],
      "execution_count": 99,
      "outputs": [
        {
          "output_type": "execute_result",
          "data": {
            "text/plain": [
              "array([1, 2, 3, 3, 2, 1])"
            ]
          },
          "metadata": {
            "tags": []
          },
          "execution_count": 99
        }
      ]
    },
    {
      "metadata": {
        "id": "2qQ4UTnn4qcS",
        "colab_type": "code",
        "colab": {
          "base_uri": "https://localhost:8080/",
          "height": 35
        },
        "outputId": "0319ed25-b4d0-4fb4-9020-cc8de71210ad"
      },
      "cell_type": "code",
      "source": [
        "z = [99, 99, 99]\n",
        "print(np.concatenate([x, y, z]))"
      ],
      "execution_count": 100,
      "outputs": [
        {
          "output_type": "stream",
          "text": [
            "[ 1  2  3  3  2  1 99 99 99]\n"
          ],
          "name": "stdout"
        }
      ]
    },
    {
      "metadata": {
        "id": "I7Qw-lt-4s5P",
        "colab_type": "code",
        "colab": {}
      },
      "cell_type": "code",
      "source": [
        "grid = np.array([[1, 2, 3],\n",
        "                 [4, 5, 6]])"
      ],
      "execution_count": 0,
      "outputs": []
    },
    {
      "metadata": {
        "id": "jQPT5g7i4wjR",
        "colab_type": "code",
        "colab": {
          "base_uri": "https://localhost:8080/",
          "height": 88
        },
        "outputId": "f671f1d4-9dc4-4fe3-b395-9db7055a3213"
      },
      "cell_type": "code",
      "source": [
        "np.concatenate([grid, grid])\n"
      ],
      "execution_count": 103,
      "outputs": [
        {
          "output_type": "execute_result",
          "data": {
            "text/plain": [
              "array([[1, 2, 3],\n",
              "       [4, 5, 6],\n",
              "       [1, 2, 3],\n",
              "       [4, 5, 6]])"
            ]
          },
          "metadata": {
            "tags": []
          },
          "execution_count": 103
        }
      ]
    },
    {
      "metadata": {
        "id": "Wir_9N_e40dW",
        "colab_type": "code",
        "colab": {
          "base_uri": "https://localhost:8080/",
          "height": 52
        },
        "outputId": "c3c99fa1-bf25-484c-fcd7-208071503e37"
      },
      "cell_type": "code",
      "source": [
        "np.concatenate([grid, grid], axis=1)"
      ],
      "execution_count": 104,
      "outputs": [
        {
          "output_type": "execute_result",
          "data": {
            "text/plain": [
              "array([[1, 2, 3, 1, 2, 3],\n",
              "       [4, 5, 6, 4, 5, 6]])"
            ]
          },
          "metadata": {
            "tags": []
          },
          "execution_count": 104
        }
      ]
    },
    {
      "metadata": {
        "id": "wl-RzluB44Ax",
        "colab_type": "code",
        "colab": {}
      },
      "cell_type": "code",
      "source": [
        "x = np.array([1, 2, 3])\n",
        "grid = np.array([[9, 8, 7],\n",
        "                 [6, 5, 4]])"
      ],
      "execution_count": 0,
      "outputs": []
    },
    {
      "metadata": {
        "id": "MWVx_N4R4-AX",
        "colab_type": "code",
        "colab": {
          "base_uri": "https://localhost:8080/",
          "height": 70
        },
        "outputId": "5db76b77-a88a-42ad-9081-398bbc5f87e5"
      },
      "cell_type": "code",
      "source": [
        "np.vstack([x, grid]) #vertically stack"
      ],
      "execution_count": 106,
      "outputs": [
        {
          "output_type": "execute_result",
          "data": {
            "text/plain": [
              "array([[1, 2, 3],\n",
              "       [9, 8, 7],\n",
              "       [6, 5, 4]])"
            ]
          },
          "metadata": {
            "tags": []
          },
          "execution_count": 106
        }
      ]
    },
    {
      "metadata": {
        "id": "uBOhXnDQ5AH_",
        "colab_type": "code",
        "colab": {
          "base_uri": "https://localhost:8080/",
          "height": 52
        },
        "outputId": "1072167b-a0cc-4ba5-969f-10309d8a4ae3"
      },
      "cell_type": "code",
      "source": [
        "y = np.array([[99],\n",
        "              [99]])\n",
        "np.hstack([grid, y])  #horizontally stack"
      ],
      "execution_count": 107,
      "outputs": [
        {
          "output_type": "execute_result",
          "data": {
            "text/plain": [
              "array([[ 9,  8,  7, 99],\n",
              "       [ 6,  5,  4, 99]])"
            ]
          },
          "metadata": {
            "tags": []
          },
          "execution_count": 107
        }
      ]
    },
    {
      "metadata": {
        "id": "JqO6Kfto5M7j",
        "colab_type": "code",
        "colab": {
          "base_uri": "https://localhost:8080/",
          "height": 35
        },
        "outputId": "aec864d0-a2ba-41aa-fdaf-8e27bd137400"
      },
      "cell_type": "code",
      "source": [
        "x = [1, 2, 3, 99, 99, 3, 2, 1]\n",
        "x1, x2, x3 = np.split(x, [3, 5])\n",
        "print(x1, x2, x3)"
      ],
      "execution_count": 108,
      "outputs": [
        {
          "output_type": "stream",
          "text": [
            "[1 2 3] [99 99] [3 2 1]\n"
          ],
          "name": "stdout"
        }
      ]
    },
    {
      "metadata": {
        "id": "aBMlhZio5Rs5",
        "colab_type": "code",
        "colab": {
          "base_uri": "https://localhost:8080/",
          "height": 88
        },
        "outputId": "7a486fda-7961-4fc4-f951-59beedc4a349"
      },
      "cell_type": "code",
      "source": [
        "grid = np.arange(16).reshape((4, 4))\n",
        "grid"
      ],
      "execution_count": 109,
      "outputs": [
        {
          "output_type": "execute_result",
          "data": {
            "text/plain": [
              "array([[ 0,  1,  2,  3],\n",
              "       [ 4,  5,  6,  7],\n",
              "       [ 8,  9, 10, 11],\n",
              "       [12, 13, 14, 15]])"
            ]
          },
          "metadata": {
            "tags": []
          },
          "execution_count": 109
        }
      ]
    },
    {
      "metadata": {
        "id": "ryB55yE95Zxq",
        "colab_type": "code",
        "colab": {
          "base_uri": "https://localhost:8080/",
          "height": 88
        },
        "outputId": "1eca71e0-1294-409a-9182-aba9f13c8e53"
      },
      "cell_type": "code",
      "source": [
        "upper, lower = np.vsplit(grid, [2])\n",
        "print(upper)\n",
        "print(lower)"
      ],
      "execution_count": 110,
      "outputs": [
        {
          "output_type": "stream",
          "text": [
            "[[0 1 2 3]\n",
            " [4 5 6 7]]\n",
            "[[ 8  9 10 11]\n",
            " [12 13 14 15]]\n"
          ],
          "name": "stdout"
        }
      ]
    },
    {
      "metadata": {
        "id": "73DCQgPh5lGl",
        "colab_type": "code",
        "colab": {
          "base_uri": "https://localhost:8080/",
          "height": 159
        },
        "outputId": "2a8e9f9f-5670-48cd-8851-e8b4d3a12df8"
      },
      "cell_type": "code",
      "source": [
        "left, right = np.hsplit(grid, [2])\n",
        "print(left)\n",
        "print(right)"
      ],
      "execution_count": 111,
      "outputs": [
        {
          "output_type": "stream",
          "text": [
            "[[ 0  1]\n",
            " [ 4  5]\n",
            " [ 8  9]\n",
            " [12 13]]\n",
            "[[ 2  3]\n",
            " [ 6  7]\n",
            " [10 11]\n",
            " [14 15]]\n"
          ],
          "name": "stdout"
        }
      ]
    },
    {
      "metadata": {
        "id": "X4MlvkTh5oO9",
        "colab_type": "text"
      },
      "cell_type": "markdown",
      "source": [
        "#Computation on NumPy Arrays: Universal Functions"
      ]
    },
    {
      "metadata": {
        "id": "aDiHzXEd5nAj",
        "colab_type": "code",
        "colab": {
          "base_uri": "https://localhost:8080/",
          "height": 35
        },
        "outputId": "b14a09f4-b88c-4a78-f2d1-e629169f0b68"
      },
      "cell_type": "code",
      "source": [
        "np.random.seed(0)\n",
        "\n",
        "def compute_reciprocals(val):\n",
        "    output = np.empty(len(val))\n",
        "    for i in range(len(val)):\n",
        "        output[i] = 1.0 / val[i]\n",
        "    return output\n",
        "        \n",
        "values = np.random.randint(1, 10, size=5)\n",
        "compute_reciprocals(values)"
      ],
      "execution_count": 113,
      "outputs": [
        {
          "output_type": "execute_result",
          "data": {
            "text/plain": [
              "array([0.16666667, 1.        , 0.25      , 0.25      , 0.125     ])"
            ]
          },
          "metadata": {
            "tags": []
          },
          "execution_count": 113
        }
      ]
    },
    {
      "metadata": {
        "id": "4GM8UePH6B3j",
        "colab_type": "code",
        "colab": {
          "base_uri": "https://localhost:8080/",
          "height": 35
        },
        "outputId": "1a5ba7e9-9f96-4a6c-9887-68de044c0bf2"
      },
      "cell_type": "code",
      "source": [
        "big_array = np.random.randint(1, 100, size=1000000)\n",
        "%timeit compute_reciprocals(big_array)"
      ],
      "execution_count": 114,
      "outputs": [
        {
          "output_type": "stream",
          "text": [
            "1 loop, best of 3: 2.25 s per loop\n"
          ],
          "name": "stdout"
        }
      ]
    },
    {
      "metadata": {
        "id": "7F7j8XGY6Iql",
        "colab_type": "code",
        "colab": {
          "base_uri": "https://localhost:8080/",
          "height": 52
        },
        "outputId": "7118fc79-7abe-4896-a104-cf2ed08e5d0c"
      },
      "cell_type": "code",
      "source": [
        "print(compute_reciprocals(values))\n",
        "print(1.0 / values)"
      ],
      "execution_count": 115,
      "outputs": [
        {
          "output_type": "stream",
          "text": [
            "[0.16666667 1.         0.25       0.25       0.125     ]\n",
            "[0.16666667 1.         0.25       0.25       0.125     ]\n"
          ],
          "name": "stdout"
        }
      ]
    },
    {
      "metadata": {
        "id": "isinVBjZ6NEf",
        "colab_type": "code",
        "colab": {
          "base_uri": "https://localhost:8080/",
          "height": 35
        },
        "outputId": "c5360fa3-a619-4eb9-bec8-01ac85a1954b"
      },
      "cell_type": "code",
      "source": [
        "%timeit (1.0 / big_array)"
      ],
      "execution_count": 116,
      "outputs": [
        {
          "output_type": "stream",
          "text": [
            "100 loops, best of 3: 3.38 ms per loop\n"
          ],
          "name": "stdout"
        }
      ]
    },
    {
      "metadata": {
        "id": "wKGWUq3U9RDL",
        "colab_type": "code",
        "colab": {
          "base_uri": "https://localhost:8080/",
          "height": 35
        },
        "outputId": "e6605f01-b190-4a37-fec2-03675864eb4a"
      },
      "cell_type": "code",
      "source": [
        "np.arange(5) / np.arange(1, 6)"
      ],
      "execution_count": 117,
      "outputs": [
        {
          "output_type": "execute_result",
          "data": {
            "text/plain": [
              "array([0.        , 0.5       , 0.66666667, 0.75      , 0.8       ])"
            ]
          },
          "metadata": {
            "tags": []
          },
          "execution_count": 117
        }
      ]
    },
    {
      "metadata": {
        "id": "sCu7us7E9VnD",
        "colab_type": "code",
        "colab": {
          "base_uri": "https://localhost:8080/",
          "height": 70
        },
        "outputId": "3ed8df76-35ce-4242-a7e8-f7bb7b1231bf"
      },
      "cell_type": "code",
      "source": [
        "x = np.arange(9).reshape((3, 3))\n",
        "2 ** x"
      ],
      "execution_count": 118,
      "outputs": [
        {
          "output_type": "execute_result",
          "data": {
            "text/plain": [
              "array([[  1,   2,   4],\n",
              "       [  8,  16,  32],\n",
              "       [ 64, 128, 256]])"
            ]
          },
          "metadata": {
            "tags": []
          },
          "execution_count": 118
        }
      ]
    },
    {
      "metadata": {
        "id": "VeIapQyb9Zsz",
        "colab_type": "code",
        "colab": {
          "base_uri": "https://localhost:8080/",
          "height": 124
        },
        "outputId": "33304265-e100-4584-e5f3-bdb8329c87a8"
      },
      "cell_type": "code",
      "source": [
        "x = np.arange(4)\n",
        "print(\"x     =\", x)\n",
        "print(\"x + 5 =\", x + 5)\n",
        "print(\"x - 5 =\", x - 5)\n",
        "print(\"x * 2 =\", x * 2)\n",
        "print(\"x / 2 =\", x / 2)\n",
        "print(\"x // 2 =\", x // 2)"
      ],
      "execution_count": 119,
      "outputs": [
        {
          "output_type": "stream",
          "text": [
            "x     = [0 1 2 3]\n",
            "x + 5 = [5 6 7 8]\n",
            "x - 5 = [-5 -4 -3 -2]\n",
            "x * 2 = [0 2 4 6]\n",
            "x / 2 = [0.  0.5 1.  1.5]\n",
            "x // 2 = [0 0 1 1]\n"
          ],
          "name": "stdout"
        }
      ]
    },
    {
      "metadata": {
        "id": "SUM8cbwf9s9u",
        "colab_type": "code",
        "colab": {
          "base_uri": "https://localhost:8080/",
          "height": 70
        },
        "outputId": "d6ceb957-8c79-4c79-9e5b-a89ebed6cdd8"
      },
      "cell_type": "code",
      "source": [
        "print(\"-x     = \", -x)\n",
        "print(\"x ** 2 = \", x ** 2)\n",
        "print(\"x % 2  = \", x % 2)"
      ],
      "execution_count": 120,
      "outputs": [
        {
          "output_type": "stream",
          "text": [
            "-x     =  [ 0 -1 -2 -3]\n",
            "x ** 2 =  [0 1 4 9]\n",
            "x % 2  =  [0 1 0 1]\n"
          ],
          "name": "stdout"
        }
      ]
    },
    {
      "metadata": {
        "id": "AOGogXOW9zym",
        "colab_type": "code",
        "colab": {
          "base_uri": "https://localhost:8080/",
          "height": 35
        },
        "outputId": "4a0a136f-9786-4fc7-ee83-6a1c5938a99d"
      },
      "cell_type": "code",
      "source": [
        "-(0.5*x + 1) ** 2"
      ],
      "execution_count": 121,
      "outputs": [
        {
          "output_type": "execute_result",
          "data": {
            "text/plain": [
              "array([-1.  , -2.25, -4.  , -6.25])"
            ]
          },
          "metadata": {
            "tags": []
          },
          "execution_count": 121
        }
      ]
    },
    {
      "metadata": {
        "id": "Qgs9U2lF91vM",
        "colab_type": "code",
        "colab": {
          "base_uri": "https://localhost:8080/",
          "height": 35
        },
        "outputId": "64cf4d7f-0ddf-4895-8857-5f6379a076c2"
      },
      "cell_type": "code",
      "source": [
        "np.add(x, 2)"
      ],
      "execution_count": 122,
      "outputs": [
        {
          "output_type": "execute_result",
          "data": {
            "text/plain": [
              "array([2, 3, 4, 5])"
            ]
          },
          "metadata": {
            "tags": []
          },
          "execution_count": 122
        }
      ]
    },
    {
      "metadata": {
        "id": "BQRTcEaV95w5",
        "colab_type": "code",
        "colab": {
          "base_uri": "https://localhost:8080/",
          "height": 35
        },
        "outputId": "956d6c93-7404-4c18-8371-a4622ce65801"
      },
      "cell_type": "code",
      "source": [
        "x = np.array([-2, -1, 0, 1, 2])\n",
        "abs(x)"
      ],
      "execution_count": 123,
      "outputs": [
        {
          "output_type": "execute_result",
          "data": {
            "text/plain": [
              "array([2, 1, 0, 1, 2])"
            ]
          },
          "metadata": {
            "tags": []
          },
          "execution_count": 123
        }
      ]
    },
    {
      "metadata": {
        "id": "8crTy6be96hU",
        "colab_type": "code",
        "colab": {
          "base_uri": "https://localhost:8080/",
          "height": 35
        },
        "outputId": "8324fd41-214e-4cd5-d0db-be4affabd9a2"
      },
      "cell_type": "code",
      "source": [
        "np.absolute(x)  #same as // np.abs(x)"
      ],
      "execution_count": 124,
      "outputs": [
        {
          "output_type": "execute_result",
          "data": {
            "text/plain": [
              "array([2, 1, 0, 1, 2])"
            ]
          },
          "metadata": {
            "tags": []
          },
          "execution_count": 124
        }
      ]
    },
    {
      "metadata": {
        "id": "qXk3aZII-A5e",
        "colab_type": "code",
        "colab": {
          "base_uri": "https://localhost:8080/",
          "height": 35
        },
        "outputId": "ab8d6150-6385-46b0-b0ee-2b0a27b3e1b6"
      },
      "cell_type": "code",
      "source": [
        "x = np.array([3 - 4j, 4 - 3j, 2 + 0j, 0 + 1j])\n",
        "np.abs(x)"
      ],
      "execution_count": 125,
      "outputs": [
        {
          "output_type": "execute_result",
          "data": {
            "text/plain": [
              "array([5., 5., 2., 1.])"
            ]
          },
          "metadata": {
            "tags": []
          },
          "execution_count": 125
        }
      ]
    },
    {
      "metadata": {
        "id": "p4FeIuIS-FY2",
        "colab_type": "code",
        "colab": {}
      },
      "cell_type": "code",
      "source": [
        "theta = np.linspace(0, np.pi, 3)"
      ],
      "execution_count": 0,
      "outputs": []
    },
    {
      "metadata": {
        "id": "HM81q4P2-L-T",
        "colab_type": "code",
        "colab": {
          "base_uri": "https://localhost:8080/",
          "height": 88
        },
        "outputId": "241935a6-ab6a-4abc-aa54-cd8cc6b868be"
      },
      "cell_type": "code",
      "source": [
        "print(\"theta =\", theta)\n",
        "print(\"sin(theta) =\", np.sin(theta))\n",
        "print(\"cos(theta) =\", np.cos(theta))\n",
        "print(\"tan(theta) =\", np.tan(theta))"
      ],
      "execution_count": 129,
      "outputs": [
        {
          "output_type": "stream",
          "text": [
            "theta = [0.         1.57079633 3.14159265]\n",
            "sin(theta) = [0.0000000e+00 1.0000000e+00 1.2246468e-16]\n",
            "cos(theta) = [ 1.000000e+00  6.123234e-17 -1.000000e+00]\n",
            "tan(theta) = [ 0.00000000e+00  1.63312394e+16 -1.22464680e-16]\n"
          ],
          "name": "stdout"
        }
      ]
    },
    {
      "metadata": {
        "id": "y17_5IW9-UMA",
        "colab_type": "code",
        "colab": {
          "base_uri": "https://localhost:8080/",
          "height": 88
        },
        "outputId": "87d3e6aa-c27e-4525-c254-577bb835c00d"
      },
      "cell_type": "code",
      "source": [
        "x = [-1, 0, 1]\n",
        "print(\"x         =\", x)\n",
        "print(\"arcsin(x) =\", np.arcsin(x))\n",
        "print(\"arccos(x) =\", np.arccos(x))\n",
        "print(\"arctan(x) =\", np.arctan(x))"
      ],
      "execution_count": 130,
      "outputs": [
        {
          "output_type": "stream",
          "text": [
            "x         =  [-1, 0, 1]\n",
            "arcsin(x) =  [-1.57079633  0.          1.57079633]\n",
            "arccos(x) =  [3.14159265 1.57079633 0.        ]\n",
            "arctan(x) =  [-0.78539816  0.          0.78539816]\n"
          ],
          "name": "stdout"
        }
      ]
    },
    {
      "metadata": {
        "id": "uxhDGgBz-WTx",
        "colab_type": "code",
        "colab": {
          "base_uri": "https://localhost:8080/",
          "height": 88
        },
        "outputId": "60795a4d-28d9-4fa6-9f9c-3932d3aa274e"
      },
      "cell_type": "code",
      "source": [
        "x = [1, 2, 3]\n",
        "print(\"x     =\", x)\n",
        "print(\"e^x   =\", np.exp(x))\n",
        "print(\"2^x   =\", np.exp2(x))\n",
        "print(\"3^x   =\", np.power(3, x))"
      ],
      "execution_count": 131,
      "outputs": [
        {
          "output_type": "stream",
          "text": [
            "x     = [1, 2, 3]\n",
            "e^x   = [ 2.71828183  7.3890561  20.08553692]\n",
            "2^x   = [2. 4. 8.]\n",
            "3^x   = [ 3  9 27]\n"
          ],
          "name": "stdout"
        }
      ]
    },
    {
      "metadata": {
        "id": "E7gH4LOO_43J",
        "colab_type": "code",
        "colab": {
          "base_uri": "https://localhost:8080/",
          "height": 88
        },
        "outputId": "32f76450-38da-4439-bf2d-69ce566d9091"
      },
      "cell_type": "code",
      "source": [
        "x = [1, 2, 4, 10]\n",
        "print(\"x        =\", x)\n",
        "print(\"ln(x)    =\", np.log(x))\n",
        "print(\"log2(x)  =\", np.log2(x))\n",
        "print(\"log10(x) =\", np.log10(x))\n"
      ],
      "execution_count": 132,
      "outputs": [
        {
          "output_type": "stream",
          "text": [
            "x        = [1, 2, 4, 10]\n",
            "ln(x)    = [0.         0.69314718 1.38629436 2.30258509]\n",
            "log2(x)  = [0.         1.         2.         3.32192809]\n",
            "log10(x) = [0.         0.30103    0.60205999 1.        ]\n"
          ],
          "name": "stdout"
        }
      ]
    },
    {
      "metadata": {
        "id": "Utj9ZhYM_-kj",
        "colab_type": "code",
        "colab": {
          "base_uri": "https://localhost:8080/",
          "height": 52
        },
        "outputId": "0799392d-8be0-4025-aea2-f220c9bc5c88"
      },
      "cell_type": "code",
      "source": [
        "x = [0, 0.001, 0.01, 0.1]\n",
        "print(\"exp(x) - 1 =\", np.expm1(x))\n",
        "print(\"log(1 + x) =\", np.log1p(x))"
      ],
      "execution_count": 133,
      "outputs": [
        {
          "output_type": "stream",
          "text": [
            "exp(x) - 1 = [0.         0.0010005  0.01005017 0.10517092]\n",
            "log(1 + x) = [0.         0.0009995  0.00995033 0.09531018]\n"
          ],
          "name": "stdout"
        }
      ]
    },
    {
      "metadata": {
        "id": "BIzIP960AAZ4",
        "colab_type": "code",
        "colab": {}
      },
      "cell_type": "code",
      "source": [
        "from scipy import special"
      ],
      "execution_count": 0,
      "outputs": []
    },
    {
      "metadata": {
        "id": "AJ5u322oAGqr",
        "colab_type": "code",
        "colab": {
          "base_uri": "https://localhost:8080/",
          "height": 70
        },
        "outputId": "536328fb-b615-447c-9a1f-f07d063054ac"
      },
      "cell_type": "code",
      "source": [
        "x = [1, 5, 10]\n",
        "print(\"gamma(x)  =\", special.gamma(x))\n",
        "print(\"ln|gamma(x)| =\", special.gammaln(x))\n",
        "print(\"beta(x, 2)   =\", special.beta(x, 2))"
      ],
      "execution_count": 135,
      "outputs": [
        {
          "output_type": "stream",
          "text": [
            "gamma(x)  = [1.0000e+00 2.4000e+01 3.6288e+05]\n",
            "ln|gamma(x)| = [ 0.          3.17805383 12.80182748]\n",
            "beta(x, 2)   = [0.5        0.03333333 0.00909091]\n"
          ],
          "name": "stdout"
        }
      ]
    },
    {
      "metadata": {
        "id": "ly_zMb4XAOPM",
        "colab_type": "code",
        "colab": {
          "base_uri": "https://localhost:8080/",
          "height": 70
        },
        "outputId": "5c7f3481-8004-46e5-e814-a40785f02b9e"
      },
      "cell_type": "code",
      "source": [
        "x = np.array([0, 0.3, 0.7, 1.0])\n",
        "print(\"erf(x)  =\", special.erf(x))\n",
        "print(\"erfc(x) =\", special.erfc(x))\n",
        "print(\"erfinv(x) =\", special.erfinv(x))"
      ],
      "execution_count": 137,
      "outputs": [
        {
          "output_type": "stream",
          "text": [
            "erf(x)  = [0.         0.32862676 0.67780119 0.84270079]\n",
            "erfc(x) = [1.         0.67137324 0.32219881 0.15729921]\n",
            "erfinv(x) = [0.         0.27246271 0.73286908        inf]\n"
          ],
          "name": "stdout"
        }
      ]
    },
    {
      "metadata": {
        "id": "wCEbE135AQ_S",
        "colab_type": "code",
        "colab": {
          "base_uri": "https://localhost:8080/",
          "height": 35
        },
        "outputId": "5f98be50-e3a7-46b3-f491-b8fdf5d6143c"
      },
      "cell_type": "code",
      "source": [
        "x = np.arange(5)\n",
        "y = np.empty(5)\n",
        "np.multiply(x, 10, out=y)\n",
        "print(y)"
      ],
      "execution_count": 138,
      "outputs": [
        {
          "output_type": "stream",
          "text": [
            "[ 0. 10. 20. 30. 40.]\n"
          ],
          "name": "stdout"
        }
      ]
    },
    {
      "metadata": {
        "id": "5ur31YtmAW_z",
        "colab_type": "code",
        "colab": {
          "base_uri": "https://localhost:8080/",
          "height": 35
        },
        "outputId": "6f931c37-18dd-4693-ad04-c6fdf2249a3d"
      },
      "cell_type": "code",
      "source": [
        "y = np.zeros(10)\n",
        "np.power(2, x, out=y[::2])\n",
        "print(y)"
      ],
      "execution_count": 139,
      "outputs": [
        {
          "output_type": "stream",
          "text": [
            "[ 1.  0.  2.  0.  4.  0.  8.  0. 16.  0.]\n"
          ],
          "name": "stdout"
        }
      ]
    },
    {
      "metadata": {
        "id": "m0HBFTghAuy1",
        "colab_type": "code",
        "colab": {
          "base_uri": "https://localhost:8080/",
          "height": 35
        },
        "outputId": "81f72be9-cdcc-4f40-c9ac-25cb8615b73d"
      },
      "cell_type": "code",
      "source": [
        "y = np.zeros(10)\n",
        "np.power(3, x, out=y[::2])\n",
        "print(y)"
      ],
      "execution_count": 142,
      "outputs": [
        {
          "output_type": "stream",
          "text": [
            "[  3.   0.   9.   0.  27.   0.  81.   0. 243.   0.]\n"
          ],
          "name": "stdout"
        }
      ]
    },
    {
      "metadata": {
        "id": "6GIaZfVjAje5",
        "colab_type": "code",
        "colab": {
          "base_uri": "https://localhost:8080/",
          "height": 35
        },
        "outputId": "b7fb8736-13f1-4626-c20c-edeea15ef317"
      },
      "cell_type": "code",
      "source": [
        "x = np.arange(1, 6)\n",
        "np.add.reduce(x)"
      ],
      "execution_count": 140,
      "outputs": [
        {
          "output_type": "execute_result",
          "data": {
            "text/plain": [
              "15"
            ]
          },
          "metadata": {
            "tags": []
          },
          "execution_count": 140
        }
      ]
    },
    {
      "metadata": {
        "id": "1aQ291BLAlX6",
        "colab_type": "code",
        "colab": {
          "base_uri": "https://localhost:8080/",
          "height": 35
        },
        "outputId": "96659701-e358-481e-8fa4-2b0229b86db6"
      },
      "cell_type": "code",
      "source": [
        "np.multiply.reduce(x)"
      ],
      "execution_count": 143,
      "outputs": [
        {
          "output_type": "execute_result",
          "data": {
            "text/plain": [
              "120"
            ]
          },
          "metadata": {
            "tags": []
          },
          "execution_count": 143
        }
      ]
    },
    {
      "metadata": {
        "id": "52nr01rIA6Hb",
        "colab_type": "code",
        "colab": {
          "base_uri": "https://localhost:8080/",
          "height": 35
        },
        "outputId": "dcc158a0-85bd-4b5e-88a2-b5709438acc2"
      },
      "cell_type": "code",
      "source": [
        "np.add.accumulate(x) #we can see whole steps"
      ],
      "execution_count": 144,
      "outputs": [
        {
          "output_type": "execute_result",
          "data": {
            "text/plain": [
              "array([ 1,  3,  6, 10, 15])"
            ]
          },
          "metadata": {
            "tags": []
          },
          "execution_count": 144
        }
      ]
    },
    {
      "metadata": {
        "id": "GlUGqFRLA_zn",
        "colab_type": "code",
        "colab": {
          "base_uri": "https://localhost:8080/",
          "height": 35
        },
        "outputId": "f2e91437-f229-4170-abd0-17bffabd278b"
      },
      "cell_type": "code",
      "source": [
        "np.multiply.accumulate(x)"
      ],
      "execution_count": 145,
      "outputs": [
        {
          "output_type": "execute_result",
          "data": {
            "text/plain": [
              "array([  1,   2,   6,  24, 120])"
            ]
          },
          "metadata": {
            "tags": []
          },
          "execution_count": 145
        }
      ]
    },
    {
      "metadata": {
        "id": "rzD596MiBUKD",
        "colab_type": "code",
        "colab": {
          "base_uri": "https://localhost:8080/",
          "height": 106
        },
        "outputId": "44fb49e0-a300-4132-9fb2-a956fb909783"
      },
      "cell_type": "code",
      "source": [
        "x = np.arange(1, 6)\n",
        "np.multiply.outer(x, x)"
      ],
      "execution_count": 146,
      "outputs": [
        {
          "output_type": "execute_result",
          "data": {
            "text/plain": [
              "array([[ 1,  2,  3,  4,  5],\n",
              "       [ 2,  4,  6,  8, 10],\n",
              "       [ 3,  6,  9, 12, 15],\n",
              "       [ 4,  8, 12, 16, 20],\n",
              "       [ 5, 10, 15, 20, 25]])"
            ]
          },
          "metadata": {
            "tags": []
          },
          "execution_count": 146
        }
      ]
    },
    {
      "metadata": {
        "id": "1v2xsM__Bdx1",
        "colab_type": "text"
      },
      "cell_type": "markdown",
      "source": [
        "#Aggregations: Min, Max, and Everything In Between"
      ]
    },
    {
      "metadata": {
        "id": "kiuFoKUlBky_",
        "colab_type": "code",
        "colab": {
          "base_uri": "https://localhost:8080/",
          "height": 35
        },
        "outputId": "673a3e4f-bcc1-479f-ddee-8d16563c45d7"
      },
      "cell_type": "code",
      "source": [
        "L = np.random.random(100)\n",
        "sum(L)"
      ],
      "execution_count": 147,
      "outputs": [
        {
          "output_type": "execute_result",
          "data": {
            "text/plain": [
              "50.461758453195614"
            ]
          },
          "metadata": {
            "tags": []
          },
          "execution_count": 147
        }
      ]
    },
    {
      "metadata": {
        "id": "yEIvYX2zBrL5",
        "colab_type": "code",
        "colab": {
          "base_uri": "https://localhost:8080/",
          "height": 52
        },
        "outputId": "3a9358c6-5976-42f2-838e-9478ff7c27cf"
      },
      "cell_type": "code",
      "source": [
        "big_array = np.random.rand(1000000)\n",
        "%timeit sum(big_array)\n",
        "%timeit np.sum(big_array)"
      ],
      "execution_count": 148,
      "outputs": [
        {
          "output_type": "stream",
          "text": [
            "10 loops, best of 3: 83.4 ms per loop\n",
            "1000 loops, best of 3: 473 µs per loop\n"
          ],
          "name": "stdout"
        }
      ]
    },
    {
      "metadata": {
        "id": "uKpFJtrBByRH",
        "colab_type": "code",
        "colab": {
          "base_uri": "https://localhost:8080/",
          "height": 35
        },
        "outputId": "a26060c4-7cea-4a97-e3e5-c9a391969186"
      },
      "cell_type": "code",
      "source": [
        "min(big_array), max(big_array)"
      ],
      "execution_count": 149,
      "outputs": [
        {
          "output_type": "execute_result",
          "data": {
            "text/plain": [
              "(7.071203171893359e-07, 0.9999997207656334)"
            ]
          },
          "metadata": {
            "tags": []
          },
          "execution_count": 149
        }
      ]
    },
    {
      "metadata": {
        "id": "W3J91UrjB3rW",
        "colab_type": "code",
        "colab": {
          "base_uri": "https://localhost:8080/",
          "height": 52
        },
        "outputId": "61fed7b7-680e-4af2-c53e-bf20c7ece873"
      },
      "cell_type": "code",
      "source": [
        "%timeit min(big_array)\n",
        "%timeit np.min(big_array)"
      ],
      "execution_count": 150,
      "outputs": [
        {
          "output_type": "stream",
          "text": [
            "10 loops, best of 3: 62 ms per loop\n",
            "1000 loops, best of 3: 352 µs per loop\n"
          ],
          "name": "stdout"
        }
      ]
    },
    {
      "metadata": {
        "id": "0l87CwwoB-hV",
        "colab_type": "code",
        "colab": {
          "base_uri": "https://localhost:8080/",
          "height": 35
        },
        "outputId": "18121e9b-7acb-4665-9a16-3f31cda92086"
      },
      "cell_type": "code",
      "source": [
        "print(big_array.min(), big_array.max(), big_array.sum())"
      ],
      "execution_count": 151,
      "outputs": [
        {
          "output_type": "stream",
          "text": [
            "7.071203171893359e-07 0.9999997207656334 500216.8034810001\n"
          ],
          "name": "stdout"
        }
      ]
    },
    {
      "metadata": {
        "id": "uf3W217oCDDQ",
        "colab_type": "code",
        "colab": {
          "base_uri": "https://localhost:8080/",
          "height": 70
        },
        "outputId": "30bda924-2e2d-470a-ffc2-0a3e460fba4e"
      },
      "cell_type": "code",
      "source": [
        "M = np.random.random((3, 4))\n",
        "print(M)"
      ],
      "execution_count": 152,
      "outputs": [
        {
          "output_type": "stream",
          "text": [
            "[[0.79832448 0.44923861 0.95274259 0.03193135]\n",
            " [0.18441813 0.71417358 0.76371195 0.11957117]\n",
            " [0.37578601 0.11936151 0.37497044 0.22944653]]\n"
          ],
          "name": "stdout"
        }
      ]
    },
    {
      "metadata": {
        "id": "ythbRtdJCE6x",
        "colab_type": "code",
        "colab": {
          "base_uri": "https://localhost:8080/",
          "height": 35
        },
        "outputId": "fbc42572-b51b-4ddb-a85d-09878a3087f7"
      },
      "cell_type": "code",
      "source": [
        "M.sum()"
      ],
      "execution_count": 153,
      "outputs": [
        {
          "output_type": "execute_result",
          "data": {
            "text/plain": [
              "5.1136763453287335"
            ]
          },
          "metadata": {
            "tags": []
          },
          "execution_count": 153
        }
      ]
    },
    {
      "metadata": {
        "id": "ZK5aT0QECHmw",
        "colab_type": "code",
        "colab": {
          "base_uri": "https://localhost:8080/",
          "height": 35
        },
        "outputId": "78f7ced0-3d3a-401b-8776-2a44d9c7afdc"
      },
      "cell_type": "code",
      "source": [
        "M.min(axis=0)"
      ],
      "execution_count": 154,
      "outputs": [
        {
          "output_type": "execute_result",
          "data": {
            "text/plain": [
              "array([0.18441813, 0.11936151, 0.37497044, 0.03193135])"
            ]
          },
          "metadata": {
            "tags": []
          },
          "execution_count": 154
        }
      ]
    },
    {
      "metadata": {
        "id": "epMRtv1sCKm2",
        "colab_type": "code",
        "colab": {
          "base_uri": "https://localhost:8080/",
          "height": 35
        },
        "outputId": "88a10730-bd75-4657-a18c-4b04b2ce5bd0"
      },
      "cell_type": "code",
      "source": [
        "M.max(axis=1)"
      ],
      "execution_count": 155,
      "outputs": [
        {
          "output_type": "execute_result",
          "data": {
            "text/plain": [
              "array([0.95274259, 0.76371195, 0.37578601])"
            ]
          },
          "metadata": {
            "tags": []
          },
          "execution_count": 155
        }
      ]
    },
    {
      "metadata": {
        "id": "DeLer8_EDmyp",
        "colab_type": "code",
        "colab": {
          "resources": {
            "http://localhost:8080/nbextensions/google.colab/files.js": {
              "data": "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",
              "ok": true,
              "headers": [
                [
                  "content-type",
                  "application/javascript"
                ]
              ],
              "status": 200,
              "status_text": ""
            }
          },
          "base_uri": "https://localhost:8080/",
          "height": 131
        },
        "outputId": "3bdd5dd1-5770-4c77-868f-2a072c61778b"
      },
      "cell_type": "code",
      "source": [
        "from google.colab import files\n",
        "files.upload()"
      ],
      "execution_count": 157,
      "outputs": [
        {
          "output_type": "display_data",
          "data": {
            "text/html": [
              "\n",
              "     <input type=\"file\" id=\"files-976c72f6-979c-4b8e-a541-f023239bb052\" name=\"files[]\" multiple disabled />\n",
              "     <output id=\"result-976c72f6-979c-4b8e-a541-f023239bb052\">\n",
              "      Upload widget is only available when the cell has been executed in the\n",
              "      current browser session. Please rerun this cell to enable.\n",
              "      </output>\n",
              "      <script src=\"/nbextensions/google.colab/files.js\"></script> "
            ],
            "text/plain": [
              "<IPython.core.display.HTML object>"
            ]
          },
          "metadata": {
            "tags": []
          }
        },
        {
          "output_type": "stream",
          "text": [
            "Saving president_heights.csv to president_heights.csv\n"
          ],
          "name": "stdout"
        },
        {
          "output_type": "execute_result",
          "data": {
            "text/plain": [
              "{'president_heights.csv': b'order,name,height(cm)\\n1,George Washington,189\\n2,John Adams,170\\n3,Thomas Jefferson,189\\n4,James Madison,163\\n5,James Monroe,183\\n6,John Quincy Adams,171\\n7,Andrew Jackson,185\\n8,Martin Van Buren,168\\n9,William Henry Harrison,173\\n10,John Tyler,183\\n11,James K. Polk,173\\n12,Zachary Taylor,173\\n13,Millard Fillmore,175\\n14,Franklin Pierce,178\\n15,James Buchanan,183\\n16,Abraham Lincoln,193\\n17,Andrew Johnson,178\\n18,Ulysses S. Grant,173\\n19,Rutherford B. Hayes,174\\n20,James A. Garfield,183\\n21,Chester A. Arthur,183\\n23,Benjamin Harrison,168\\n25,William McKinley,170\\n26,Theodore Roosevelt,178\\n27,William Howard Taft,182\\n28,Woodrow Wilson,180\\n29,Warren G. Harding,183\\n30,Calvin Coolidge,178\\n31,Herbert Hoover,182\\n32,Franklin D. Roosevelt,188\\n33,Harry S. Truman,175\\n34,Dwight D. Eisenhower,179\\n35,John F. Kennedy,183\\n36,Lyndon B. Johnson,193\\n37,Richard Nixon,182\\n38,Gerald Ford,183\\n39,Jimmy Carter,177\\n40,Ronald Reagan,185\\n41,George H. W. Bush,188\\n42,Bill Clinton,188\\n43,George W. Bush,182\\n44,Barack Obama,185\\n'}"
            ]
          },
          "metadata": {
            "tags": []
          },
          "execution_count": 157
        }
      ]
    },
    {
      "metadata": {
        "id": "BM_WuzphEjmg",
        "colab_type": "code",
        "colab": {
          "base_uri": "https://localhost:8080/",
          "height": 70
        },
        "outputId": "ea28474c-cdb3-407d-875a-71a0e74aa9b0"
      },
      "cell_type": "code",
      "source": [
        "import pandas as pd\n",
        "data = pd.read_csv('president_heights.csv')\n",
        "heights = np.array(data['height(cm)'])\n",
        "print(heights)"
      ],
      "execution_count": 161,
      "outputs": [
        {
          "output_type": "stream",
          "text": [
            "[189 170 189 163 183 171 185 168 173 183 173 173 175 178 183 193 178 173\n",
            " 174 183 183 168 170 178 182 180 183 178 182 188 175 179 183 193 182 183\n",
            " 177 185 188 188 182 185]\n"
          ],
          "name": "stdout"
        }
      ]
    },
    {
      "metadata": {
        "id": "z0im7UVVCw-V",
        "colab_type": "code",
        "colab": {
          "base_uri": "https://localhost:8080/",
          "height": 88
        },
        "outputId": "13a03c51-a6cb-4185-b029-779b589e1740"
      },
      "cell_type": "code",
      "source": [
        "!head  -4 president_heights.csv"
      ],
      "execution_count": 162,
      "outputs": [
        {
          "output_type": "stream",
          "text": [
            "order,name,height(cm)\n",
            "1,George Washington,189\n",
            "2,John Adams,170\n",
            "3,Thomas Jefferson,189\n"
          ],
          "name": "stdout"
        }
      ]
    },
    {
      "metadata": {
        "id": "_sUwZjMRC3Lc",
        "colab_type": "code",
        "colab": {
          "base_uri": "https://localhost:8080/",
          "height": 88
        },
        "outputId": "f220a880-859f-4675-ba55-d41d143200ac"
      },
      "cell_type": "code",
      "source": [
        "print(\"Mean height:       \", heights.mean())\n",
        "print(\"Standard deviation:\", heights.std())\n",
        "print(\"Minimum height:    \", heights.min())\n",
        "print(\"Maximum height:    \", heights.max())"
      ],
      "execution_count": 163,
      "outputs": [
        {
          "output_type": "stream",
          "text": [
            "Mean height:        179.73809523809524\n",
            "Standard deviation: 6.931843442745892\n",
            "Minimum height:     163\n",
            "Maximum height:     193\n"
          ],
          "name": "stdout"
        }
      ]
    },
    {
      "metadata": {
        "id": "sfWt9GJYE0RY",
        "colab_type": "code",
        "colab": {
          "base_uri": "https://localhost:8080/",
          "height": 70
        },
        "outputId": "4fa31361-f97b-4fc9-b3f8-2fc9bc65e6db"
      },
      "cell_type": "code",
      "source": [
        "print(\"25th percentile:   \", np.percentile(heights, 25))\n",
        "print(\"Median:            \", np.median(heights))\n",
        "print(\"75th percentile:   \", np.percentile(heights, 75))"
      ],
      "execution_count": 164,
      "outputs": [
        {
          "output_type": "stream",
          "text": [
            "25th percentile:    174.25\n",
            "Median:             182.0\n",
            "75th percentile:    183.0\n"
          ],
          "name": "stdout"
        }
      ]
    },
    {
      "metadata": {
        "id": "8FbW8t8TE7au",
        "colab_type": "code",
        "colab": {}
      },
      "cell_type": "code",
      "source": [
        "%matplotlib inline\n",
        "import matplotlib.pyplot as plt\n",
        "import seaborn; seaborn.set()  # set plot style"
      ],
      "execution_count": 0,
      "outputs": []
    },
    {
      "metadata": {
        "id": "HAWHeQuyE99t",
        "colab_type": "code",
        "colab": {
          "base_uri": "https://localhost:8080/",
          "height": 376
        },
        "outputId": "113ee6be-55f3-41e1-cf6c-dd444ab51f3a"
      },
      "cell_type": "code",
      "source": [
        "plt.hist(heights)\n",
        "plt.title('Height Distribution of US Presidents')\n",
        "plt.xlabel('height (cm)')\n",
        "plt.ylabel('number');"
      ],
      "execution_count": 166,
      "outputs": [
        {
          "output_type": "display_data",
          "data": {
            "image/png": "[encoded data removed]",
            "text/plain": [
              "<matplotlib.figure.Figure at 0x7f6908ec42e8>"
            ]
          },
          "metadata": {
            "tags": []
          }
        }
      ]
    },
    {
      "metadata": {
        "id": "0X6Z8_m3FEgR",
        "colab_type": "text"
      },
      "cell_type": "markdown",
      "source": [
        "#Computationon Arrays: Broadcasting"
      ]
    },
    {
      "metadata": {
        "id": "Ng83P3PWFNtn",
        "colab_type": "code",
        "colab": {
          "base_uri": "https://localhost:8080/",
          "height": 35
        },
        "outputId": "88b8b77e-3190-4cc1-8bf5-6d7167cd490e"
      },
      "cell_type": "code",
      "source": [
        "a = np.array([0, 1, 2])\n",
        "b = np.array([5, 5, 5])\n",
        "a + b"
      ],
      "execution_count": 167,
      "outputs": [
        {
          "output_type": "execute_result",
          "data": {
            "text/plain": [
              "array([5, 6, 7])"
            ]
          },
          "metadata": {
            "tags": []
          },
          "execution_count": 167
        }
      ]
    },
    {
      "metadata": {
        "id": "-x6zk-VwFa0k",
        "colab_type": "code",
        "colab": {
          "base_uri": "https://localhost:8080/",
          "height": 35
        },
        "outputId": "a4844582-49f9-40f6-a945-6300c9ba966e"
      },
      "cell_type": "code",
      "source": [
        "a + 5"
      ],
      "execution_count": 168,
      "outputs": [
        {
          "output_type": "execute_result",
          "data": {
            "text/plain": [
              "array([5, 6, 7])"
            ]
          },
          "metadata": {
            "tags": []
          },
          "execution_count": 168
        }
      ]
    },
    {
      "metadata": {
        "id": "3HMJCeSyFcgO",
        "colab_type": "code",
        "colab": {
          "base_uri": "https://localhost:8080/",
          "height": 70
        },
        "outputId": "afb80ffe-3009-4ff4-f907-23966ed4a21e"
      },
      "cell_type": "code",
      "source": [
        "M = np.ones((3, 3))\n",
        "M"
      ],
      "execution_count": 169,
      "outputs": [
        {
          "output_type": "execute_result",
          "data": {
            "text/plain": [
              "array([[1., 1., 1.],\n",
              "       [1., 1., 1.],\n",
              "       [1., 1., 1.]])"
            ]
          },
          "metadata": {
            "tags": []
          },
          "execution_count": 169
        }
      ]
    },
    {
      "metadata": {
        "id": "mJ4W-at2GVz4",
        "colab_type": "code",
        "colab": {
          "base_uri": "https://localhost:8080/",
          "height": 70
        },
        "outputId": "83c62cef-ab71-49f6-af04-aa2e83dc68df"
      },
      "cell_type": "code",
      "source": [
        "M + a"
      ],
      "execution_count": 170,
      "outputs": [
        {
          "output_type": "execute_result",
          "data": {
            "text/plain": [
              "array([[1., 2., 3.],\n",
              "       [1., 2., 3.],\n",
              "       [1., 2., 3.]])"
            ]
          },
          "metadata": {
            "tags": []
          },
          "execution_count": 170
        }
      ]
    },
    {
      "metadata": {
        "id": "uhDThc-LGYVO",
        "colab_type": "code",
        "colab": {
          "base_uri": "https://localhost:8080/",
          "height": 88
        },
        "outputId": "062c1fae-3234-47ee-bfcb-26915378f025"
      },
      "cell_type": "code",
      "source": [
        "a = np.arange(3)\n",
        "b = np.arange(3)[:, np.newaxis]\n",
        "\n",
        "print(a)\n",
        "print(b)"
      ],
      "execution_count": 171,
      "outputs": [
        {
          "output_type": "stream",
          "text": [
            "[0 1 2]\n",
            "[[0]\n",
            " [1]\n",
            " [2]]\n"
          ],
          "name": "stdout"
        }
      ]
    },
    {
      "metadata": {
        "id": "5Gdq93NAGfJg",
        "colab_type": "code",
        "colab": {
          "base_uri": "https://localhost:8080/",
          "height": 70
        },
        "outputId": "9b2e815d-786c-4d10-a5ec-e56580653d67"
      },
      "cell_type": "code",
      "source": [
        "a + b"
      ],
      "execution_count": 172,
      "outputs": [
        {
          "output_type": "execute_result",
          "data": {
            "text/plain": [
              "array([[0, 1, 2],\n",
              "       [1, 2, 3],\n",
              "       [2, 3, 4]])"
            ]
          },
          "metadata": {
            "tags": []
          },
          "execution_count": 172
        }
      ]
    },
    {
      "metadata": {
        "id": "h2cTPyLtGiah",
        "colab_type": "code",
        "colab": {}
      },
      "cell_type": "code",
      "source": [
        "M = np.ones((2, 3))\n",
        "a = np.arange(3)"
      ],
      "execution_count": 0,
      "outputs": []
    },
    {
      "metadata": {
        "id": "uK32S1CcKPaA",
        "colab_type": "code",
        "colab": {
          "base_uri": "https://localhost:8080/",
          "height": 52
        },
        "outputId": "b577f0e2-8477-4a07-d1cf-8380b05f94f3"
      },
      "cell_type": "code",
      "source": [
        "M + a"
      ],
      "execution_count": 174,
      "outputs": [
        {
          "output_type": "execute_result",
          "data": {
            "text/plain": [
              "array([[1., 2., 3.],\n",
              "       [1., 2., 3.]])"
            ]
          },
          "metadata": {
            "tags": []
          },
          "execution_count": 174
        }
      ]
    },
    {
      "metadata": {
        "id": "UhovgCtpKRz6",
        "colab_type": "code",
        "colab": {
          "base_uri": "https://localhost:8080/",
          "height": 70
        },
        "outputId": "0d6b2551-266e-47d2-d397-c76eb6e6e05e"
      },
      "cell_type": "code",
      "source": [
        "a + b"
      ],
      "execution_count": 175,
      "outputs": [
        {
          "output_type": "execute_result",
          "data": {
            "text/plain": [
              "array([[0, 1, 2],\n",
              "       [1, 2, 3],\n",
              "       [2, 3, 4]])"
            ]
          },
          "metadata": {
            "tags": []
          },
          "execution_count": 175
        }
      ]
    },
    {
      "metadata": {
        "id": "A14nRXsTKWey",
        "colab_type": "code",
        "colab": {}
      },
      "cell_type": "code",
      "source": [
        "M = np.ones((3, 2))\n",
        "a = np.arange(3)"
      ],
      "execution_count": 0,
      "outputs": []
    },
    {
      "metadata": {
        "id": "oJzjoCamKayJ",
        "colab_type": "code",
        "colab": {
          "base_uri": "https://localhost:8080/",
          "height": 35
        },
        "outputId": "6e40346e-63a9-4a16-d9c5-af564ee834d1"
      },
      "cell_type": "code",
      "source": [
        "a[:, np.newaxis].shape"
      ],
      "execution_count": 178,
      "outputs": [
        {
          "output_type": "execute_result",
          "data": {
            "text/plain": [
              "(3, 1)"
            ]
          },
          "metadata": {
            "tags": []
          },
          "execution_count": 178
        }
      ]
    },
    {
      "metadata": {
        "id": "fZIrqa_lKZXD",
        "colab_type": "code",
        "colab": {
          "base_uri": "https://localhost:8080/",
          "height": 70
        },
        "outputId": "cacd9791-a153-4c30-e9bf-a20e658bbf2d"
      },
      "cell_type": "code",
      "source": [
        "M + a[:, np.newaxis]"
      ],
      "execution_count": 179,
      "outputs": [
        {
          "output_type": "execute_result",
          "data": {
            "text/plain": [
              "array([[1., 1.],\n",
              "       [2., 2.],\n",
              "       [3., 3.]])"
            ]
          },
          "metadata": {
            "tags": []
          },
          "execution_count": 179
        }
      ]
    },
    {
      "metadata": {
        "id": "Xt6nqHV_KjTq",
        "colab_type": "code",
        "colab": {
          "base_uri": "https://localhost:8080/",
          "height": 70
        },
        "outputId": "46cbe3cb-303c-4448-e984-a9c047d749b9"
      },
      "cell_type": "code",
      "source": [
        "np.logaddexp(M, a[:, np.newaxis])"
      ],
      "execution_count": 180,
      "outputs": [
        {
          "output_type": "execute_result",
          "data": {
            "text/plain": [
              "array([[1.31326169, 1.31326169],\n",
              "       [1.69314718, 1.69314718],\n",
              "       [2.31326169, 2.31326169]])"
            ]
          },
          "metadata": {
            "tags": []
          },
          "execution_count": 180
        }
      ]
    },
    {
      "metadata": {
        "id": "jpsNduLzKlui",
        "colab_type": "code",
        "colab": {
          "base_uri": "https://localhost:8080/",
          "height": 35
        },
        "outputId": "34150588-77e2-468e-b50f-c33955cd6d6a"
      },
      "cell_type": "code",
      "source": [
        "X = np.random.random((10, 3))\n",
        "Xmean = X.mean(0)\n",
        "Xmean"
      ],
      "execution_count": 181,
      "outputs": [
        {
          "output_type": "execute_result",
          "data": {
            "text/plain": [
              "array([0.49831076, 0.50193438, 0.46752888])"
            ]
          },
          "metadata": {
            "tags": []
          },
          "execution_count": 181
        }
      ]
    },
    {
      "metadata": {
        "id": "3FBGP26qKrqj",
        "colab_type": "code",
        "colab": {
          "base_uri": "https://localhost:8080/",
          "height": 35
        },
        "outputId": "d7b75054-b16c-44f1-df1c-3e56022b4e24"
      },
      "cell_type": "code",
      "source": [
        "X_centered = X - Xmean\n",
        "X_centered.mean(0)"
      ],
      "execution_count": 182,
      "outputs": [
        {
          "output_type": "execute_result",
          "data": {
            "text/plain": [
              "array([-4.44089210e-17,  3.33066907e-17, -9.43689571e-17])"
            ]
          },
          "metadata": {
            "tags": []
          },
          "execution_count": 182
        }
      ]
    },
    {
      "metadata": {
        "id": "1wEhPtEWKvEc",
        "colab_type": "code",
        "colab": {}
      },
      "cell_type": "code",
      "source": [
        "x = np.linspace(0, 5, 50)\n",
        "y = np.linspace(0, 5, 50)[:, np.newaxis]\n",
        "\n",
        "z = np.sin(x) ** 10 + np.cos(10 + y * x) * np.cos(x)"
      ],
      "execution_count": 0,
      "outputs": []
    },
    {
      "metadata": {
        "id": "Vl9jG3lOKxWq",
        "colab_type": "code",
        "colab": {}
      },
      "cell_type": "code",
      "source": [
        "%matplotlib inline\n",
        "import matplotlib.pyplot as plt"
      ],
      "execution_count": 0,
      "outputs": []
    },
    {
      "metadata": {
        "id": "rJLWB5rDK0Fm",
        "colab_type": "code",
        "colab": {
          "base_uri": "https://localhost:8080/",
          "height": 269
        },
        "outputId": "f14b3e25-6c76-4a36-81a5-5d510fa16499"
      },
      "cell_type": "code",
      "source": [
        "plt.imshow(z, origin='lower', extent=[0, 5, 0, 5],\n",
        "           cmap='viridis')\n",
        "plt.colorbar();"
      ],
      "execution_count": 185,
      "outputs": [
        {
          "output_type": "display_data",
          "data": {
            "image/png": "[encoded data removed]",
            "text/plain": [
              "<matplotlib.figure.Figure at 0x7f6908e19d30>"
            ]
          },
          "metadata": {
            "tags": []
          }
        }
      ]
    },
    {
      "metadata": {
        "id": "WXJO3tcUK7p9",
        "colab_type": "code",
        "colab": {}
      },
      "cell_type": "code",
      "source": [
        "x = np.linspace(0, 10, 70)\n",
        "y = np.linspace(0, 10, 70)[:, np.newaxis]\n",
        "\n",
        "z = np.sin(x) ** 10 + np.cos(10 + y * x) * np.cos(x)"
      ],
      "execution_count": 0,
      "outputs": []
    },
    {
      "metadata": {
        "id": "YqZxgVvfK0oM",
        "colab_type": "code",
        "colab": {
          "base_uri": "https://localhost:8080/",
          "height": 269
        },
        "outputId": "993c017a-6f99-4866-8078-30aba7f4897b"
      },
      "cell_type": "code",
      "source": [
        "plt.imshow(z, origin='lower', extent=[0, 10, 0, 10],\n",
        "           cmap='viridis')\n",
        "plt.colorbar();"
      ],
      "execution_count": 191,
      "outputs": [
        {
          "output_type": "display_data",
          "data": {
            "image/png": "[encoded data removed]",
            "text/plain": [
              "<matplotlib.figure.Figure at 0x7f69064af2b0>"
            ]
          },
          "metadata": {
            "tags": []
          }
        }
      ]
    },
    {
      "metadata": {
        "id": "zwViIC1mLAz0",
        "colab_type": "text"
      },
      "cell_type": "markdown",
      "source": [
        "#Comparisons, Masks, and Boolean Logic"
      ]
    },
    {
      "metadata": {
        "id": "PDOY02oOLkp9",
        "colab_type": "code",
        "colab": {
          "resources": {
            "http://localhost:8080/nbextensions/google.colab/files.js": {
              "data": "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",
              "ok": true,
              "headers": [
                [
                  "content-type",
                  "application/javascript"
                ]
              ],
              "status": 200,
              "status_text": ""
            }
          },
          "base_uri": "https://localhost:8080/",
          "height": 131
        },
        "outputId": "4af7d651-f075-4fc0-99aa-6aa315b5a363"
      },
      "cell_type": "code",
      "source": [
        "from google.colab import files\n",
        "files.upload()"
      ],
      "execution_count": 192,
      "outputs": [
        {
          "output_type": "display_data",
          "data": {
            "text/html": [
              "\n",
              "     <input type=\"file\" id=\"files-e7230d3a-c844-48ab-ba0c-94e28ea177d0\" name=\"files[]\" multiple disabled />\n",
              "     <output id=\"result-e7230d3a-c844-48ab-ba0c-94e28ea177d0\">\n",
              "      Upload widget is only available when the cell has been executed in the\n",
              "      current browser session. Please rerun this cell to enable.\n",
              "      </output>\n",
              "      <script src=\"/nbextensions/google.colab/files.js\"></script> "
            ],
            "text/plain": [
              "<IPython.core.display.HTML object>"
            ]
          },
          "metadata": {
            "tags": []
          }
        },
        {
          "output_type": "stream",
          "text": [
            "Saving Seattle2014.csv to Seattle2014.csv\n"
          ],
          "name": "stdout"
        },
        {
          "output_type": "execute_result",
          "data": {
            "text/plain": [
              "{'Seattle2014.csv': b'STATION,STATION_NAME,DATE,PRCP,SNWD,SNOW,TMAX,TMIN,AWND,WDF2,WDF5,WSF2,WSF5,WT01,WT05,WT02,WT03\\nGHCND:USW00024233,SEATTLE TACOMA INTERNATIONAL AIRPORT WA US,20140101,0,0,0,72,33,12,340,310,36,40,-9999,-9999,-9999,-9999\\nGHCND:USW00024233,SEATTLE TACOMA INTERNATIONAL AIRPORT WA US,20140102,41,0,0,106,61,32,190,200,94,116,-9999,-9999,-9999,-9999\\nGHCND:USW00024233,SEATTLE TACOMA INTERNATIONAL AIRPORT WA US,20140103,15,0,0,89,28,26,30,50,63,72,1,-9999,-9999,-9999\\nGHCND:USW00024233,SEATTLE TACOMA INTERNATIONAL AIRPORT WA US,20140104,0,0,0,78,6,27,40,40,45,58,1,-9999,-9999,-9999\\nGHCND:USW00024233,SEATTLE TACOMA INTERNATIONAL AIRPORT WA US,20140105,0,0,0,83,-5,37,10,10,67,76,-9999,-9999,-9999,-9999\\nGHCND:USW00024233,SEATTLE TACOMA INTERNATIONAL AIRPORT WA US,20140106,3,0,0,78,-5,26,210,210,112,125,1,-9999,-9999,-9999\\nGHCND:USW00024233,SEATTLE TACOMA INTERNATIONAL AIRPORT WA US,20140107,122,0,0,83,50,16,160,150,45,54,-9999,-9999,-9999,-9999\\nGHCND:USW00024233,SEATTLE TACOMA INTERNATIONAL AIRPORT WA US,20140108,97,0,0,100,72,46,180,180,107,143,1,-9999,-9999,-9999\\nGHCND:USW00024233,SEATTLE TACOMA INTERNATIONAL AIRPORT WA US,20140109,58,0,0,94,56,63,210,230,143,183,1,-9999,-9999,-9999\\nGHCND:USW00024233,SEATTLE TACOMA INTERNATIONAL AIRPORT WA US,20140110,43,0,0,128,83,70,200,200,134,183,-9999,-9999,-9999,-9999\\nGHCND:USW00024233,SEATTLE TACOMA INTERNATIONAL AIRPORT WA US,20140111,213,0,0,144,72,88,210,200,183,250,1,-9999,-9999,-9999\\nGHCND:USW00024233,SEATTLE TACOMA INTERNATIONAL AIRPORT WA US,20140112,15,0,0,111,56,81,200,210,134,174,1,-9999,-9999,-9999\\nGHCND:USW00024233,SEATTLE TACOMA INTERNATIONAL AIRPORT WA US,20140113,0,0,0,106,100,71,200,210,148,201,-9999,-9999,-9999,-9999\\nGHCND:USW00024233,SEATTLE TACOMA INTERNATIONAL AIRPORT WA US,20140114,0,0,0,111,72,13,180,180,58,72,-9999,-9999,-9999,-9999\\nGHCND:USW00024233,SEATTLE TACOMA INTERNATIONAL AIRPORT WA US,20140115,0,0,0,111,56,25,20,10,58,67,-9999,-9999,-9999,-9999\\nGHCND:USW00024233,SEATTLE TACOMA INTERNATIONAL AIRPORT WA US,20140116,0,0,0,67,44,27,30,30,63,67,-9999,-9999,-9999,-9999\\nGHCND:USW00024233,SEATTLE TACOMA INTERNATIONAL AIRPORT WA US,20140117,0,0,0,56,28,23,30,10,45,58,-9999,-9999,-9999,-9999\\nGHCND:USW00024233,SEATTLE TACOMA INTERNATIONAL AIRPORT WA US,20140118,0,0,0,94,6,22,120,120,63,67,-9999,-9999,-9999,-9999\\nGHCND:USW00024233,SEATTLE TACOMA INTERNATIONAL AIRPORT WA US,20140119,0,0,0,61,33,25,30,-9999,40,-9999,-9999,-9999,-9999,-9999\\nGHCND:USW00024233,SEATTLE TACOMA INTERNATIONAL AIRPORT WA US,20140120,0,0,0,100,28,22,20,10,54,63,-9999,-9999,-9999,-9999\\nGHCND:USW00024233,SEATTLE TACOMA INTERNATIONAL AIRPORT WA US,20140121,0,0,0,100,17,15,240,240,72,94,-9999,-9999,-9999,-9999\\nGHCND:USW00024233,SEATTLE TACOMA INTERNATIONAL AIRPORT WA US,20140122,5,0,0,94,56,26,40,40,72,98,-9999,-9999,-9999,-9999\\nGHCND:USW00024233,SEATTLE TACOMA INTERNATIONAL AIRPORT WA US,20140123,0,0,0,100,28,52,20,20,103,125,1,-9999,-9999,-9999\\nGHCND:USW00024233,SEATTLE TACOMA INTERNATIONAL AIRPORT WA US,20140124,0,0,0,128,11,19,10,10,45,58,-9999,-9999,-9999,-9999\\nGHCND:USW00024233,SEATTLE TACOMA INTERNATIONAL AIRPORT WA US,20140125,0,0,0,122,11,8,110,120,45,54,-9999,-9999,-9999,-9999\\nGHCND:USW00024233,SEATTLE TACOMA INTERNATIONAL AIRPORT WA US,20140126,0,0,0,83,6,13,270,270,36,40,-9999,-9999,-9999,-9999\\nGHCND:USW00024233,SEATTLE TACOMA INTERNATIONAL AIRPORT WA US,20140127,0,0,0,94,17,13,130,130,40,54,-9999,-9999,-9999,-9999\\nGHCND:USW00024233,SEATTLE TACOMA INTERNATIONAL AIRPORT WA US,20140128,89,0,0,111,61,16,40,40,40,54,1,-9999,-9999,-9999\\nGHCND:USW00024233,SEATTLE TACOMA INTERNATIONAL AIRPORT WA US,20140129,216,0,0,111,72,34,210,200,89,112,1,-9999,-9999,-9999\\nGHCND:USW00024233,SEATTLE TACOMA INTERNATIONAL AIRPORT WA US,20140130,0,0,0,83,61,64,210,210,103,139,-9999,-9999,-9999,-9999\\nGHCND:USW00024233,SEATTLE TACOMA INTERNATIONAL AIRPORT WA US,20140131,23,0,0,78,56,26,200,200,67,81,1,-9999,-9999,-9999\\nGHCND:USW00024233,SEATTLE TACOMA INTERNATIONAL AIRPORT WA US,20140201,20,0,0,78,28,8,30,280,40,54,-9999,-9999,-9999,-9999\\nGHCND:USW00024233,SEATTLE TACOMA INTERNATIONAL AIRPORT WA US,20140202,0,0,0,89,11,25,330,350,72,94,-9999,-9999,-9999,-9999\\nGHCND:USW00024233,SEATTLE TACOMA INTERNATIONAL AIRPORT WA US,20140203,0,0,0,50,0,43,350,340,98,130,-9999,-9999,-9999,-9999\\nGHCND:USW00024233,SEATTLE TACOMA INTERNATIONAL AIRPORT WA US,20140204,0,0,0,28,-21,47,80,90,89,112,-9999,-9999,-9999,-9999\\nGHCND:USW00024233,SEATTLE TACOMA INTERNATIONAL AIRPORT WA US,20140205,0,0,0,-5,-55,66,80,180,103,174,-9999,-9999,-9999,-9999\\nGHCND:USW00024233,SEATTLE TACOMA INTERNATIONAL AIRPORT WA US,20140206,0,0,0,-16,-60,45,70,80,81,103,-9999,-9999,-9999,-9999\\nGHCND:USW00024233,SEATTLE TACOMA INTERNATIONAL AIRPORT WA US,20140207,0,0,0,33,-49,42,10,10,98,112,-9999,-9999,-9999,-9999\\nGHCND:USW00024233,SEATTLE TACOMA INTERNATIONAL AIRPORT WA US,20140208,51,0,74,56,-5,46,110,110,116,148,1,-9999,-9999,-9999\\nGHCND:USW00024233,SEATTLE TACOMA INTERNATIONAL AIRPORT WA US,20140209,5,80,0,39,0,24,150,150,58,67,1,-9999,-9999,-9999\\nGHCND:USW00024233,SEATTLE TACOMA INTERNATIONAL AIRPORT WA US,20140210,183,0,0,100,22,47,210,200,103,134,1,-9999,-9999,-9999\\nGHCND:USW00024233,SEATTLE TACOMA INTERNATIONAL AIRPORT WA US,20140211,170,0,0,122,56,38,160,160,94,107,1,-9999,-9999,-9999\\nGHCND:USW00024233,SEATTLE TACOMA INTERNATIONAL AIRPORT WA US,20140212,46,0,0,122,72,64,220,210,157,219,1,-9999,-9999,-9999\\nGHCND:USW00024233,SEATTLE TACOMA INTERNATIONAL AIRPORT WA US,20140213,18,0,0,128,78,63,220,220,125,174,1,-9999,-9999,-9999\\nGHCND:USW00024233,SEATTLE TACOMA INTERNATIONAL AIRPORT WA US,20140214,94,0,0,117,61,64,200,220,112,139,1,-9999,-9999,-9999\\nGHCND:USW00024233,SEATTLE TACOMA INTERNATIONAL AIRPORT WA US,20140215,117,0,0,111,50,51,210,220,161,233,1,-9999,-9999,-9999\\nGHCND:USW00024233,SEATTLE TACOMA INTERNATIONAL AIRPORT WA US,20140216,264,0,0,94,39,79,230,220,130,183,1,-9999,-9999,-9999\\nGHCND:USW00024233,SEATTLE TACOMA INTERNATIONAL AIRPORT WA US,20140217,145,0,0,83,44,55,220,220,103,134,1,-9999,-9999,-9999\\nGHCND:USW00024233,SEATTLE TACOMA INTERNATIONAL AIRPORT WA US,20140218,152,0,0,89,50,62,220,220,143,183,1,-9999,-9999,-9999\\nGHCND:USW00024233,SEATTLE TACOMA INTERNATIONAL AIRPORT WA US,20140219,10,0,0,83,39,60,210,210,94,125,-9999,-9999,-9999,-9999\\nGHCND:USW00024233,SEATTLE TACOMA INTERNATIONAL AIRPORT WA US,20140220,30,0,0,100,56,69,220,210,134,170,1,-9999,-9999,-9999\\nGHCND:USW00024233,SEATTLE TACOMA INTERNATIONAL AIRPORT WA US,20140221,28,0,0,67,39,29,240,230,67,94,1,-9999,-9999,-9999\\nGHCND:USW00024233,SEATTLE TACOMA INTERNATIONAL AIRPORT WA US,20140222,25,0,0,56,28,31,160,130,58,76,1,-9999,-9999,-9999\\nGHCND:USW00024233,SEATTLE TACOMA INTERNATIONAL AIRPORT WA US,20140223,61,0,0,72,39,26,170,180,58,67,1,-9999,-9999,-9999\\nGHCND:USW00024233,SEATTLE TACOMA INTERNATIONAL AIRPORT WA US,20140224,130,0,0,67,33,32,10,10,54,63,1,-9999,-9999,-9999\\nGHCND:USW00024233,SEATTLE TACOMA INTERNATIONAL AIRPORT WA US,20140225,3,0,0,122,39,45,10,80,72,81,1,-9999,-9999,-9999\\nGHCND:USW00024233,SEATTLE TACOMA INTERNATIONAL AIRPORT WA US,20140226,0,0,0,139,56,25,30,90,54,67,-9999,-9999,-9999,-9999\\nGHCND:USW00024233,SEATTLE TACOMA INTERNATIONAL AIRPORT WA US,20140227,0,0,0,128,44,23,10,10,63,67,-9999,-9999,-9999,-9999\\nGHCND:USW00024233,SEATTLE TACOMA INTERNATIONAL AIRPORT WA US,20140228,0,0,0,144,44,59,20,10,107,134,-9999,-9999,-9999,-9999\\nGHCND:USW00024233,SEATTLE TACOMA INTERNATIONAL AIRPORT WA US,20140301,5,0,0,72,44,47,110,120,76,94,-9999,-9999,-9999,-9999\\nGHCND:USW00024233,SEATTLE TACOMA INTERNATIONAL AIRPORT WA US,20140302,191,0,0,111,28,57,210,180,107,139,1,-9999,-9999,-9999\\nGHCND:USW00024233,SEATTLE TACOMA INTERNATIONAL AIRPORT WA US,20140303,107,0,0,144,89,51,200,240,89,134,1,-9999,-9999,-9999\\nGHCND:USW00024233,SEATTLE TACOMA INTERNATIONAL AIRPORT WA US,20140304,165,0,0,139,78,39,200,210,89,116,1,-9999,-9999,-9999\\nGHCND:USW00024233,SEATTLE TACOMA INTERNATIONAL AIRPORT WA US,20140305,467,0,0,156,106,39,190,200,112,157,1,-9999,-9999,-9999\\nGHCND:USW00024233,SEATTLE TACOMA INTERNATIONAL AIRPORT WA US,20140306,30,0,0,133,100,62,220,220,125,174,1,-9999,-9999,-9999\\nGHCND:USW00024233,SEATTLE TACOMA INTERNATIONAL AIRPORT WA US,20140307,0,0,0,156,89,42,220,210,94,116,-9999,-9999,-9999,-9999\\nGHCND:USW00024233,SEATTLE TACOMA INTERNATIONAL AIRPORT WA US,20140308,323,0,0,128,67,27,200,210,76,103,1,-9999,-9999,-9999\\nGHCND:USW00024233,SEATTLE TACOMA INTERNATIONAL AIRPORT WA US,20140309,43,0,0,150,94,43,210,220,76,112,1,-9999,-9999,-9999\\nGHCND:USW00024233,SEATTLE TACOMA INTERNATIONAL AIRPORT WA US,20140310,188,0,0,122,61,22,210,200,54,67,1,-9999,-9999,-9999\\nGHCND:USW00024233,SEATTLE TACOMA INTERNATIONAL AIRPORT WA US,20140311,0,0,0,144,44,23,20,30,54,63,1,-9999,-9999,-9999\\nGHCND:USW00024233,SEATTLE TACOMA INTERNATIONAL AIRPORT WA US,20140312,0,0,0,161,33,19,10,20,67,81,1,-9999,-9999,-9999\\nGHCND:USW00024233,SEATTLE TACOMA INTERNATIONAL AIRPORT WA US,20140313,5,0,0,139,50,25,230,220,58,76,1,-9999,-9999,-9999\\nGHCND:USW00024233,SEATTLE TACOMA INTERNATIONAL AIRPORT WA US,20140314,69,0,0,144,83,61,220,200,107,143,1,-9999,-9999,-9999\\nGHCND:USW00024233,SEATTLE TACOMA INTERNATIONAL AIRPORT WA US,20140315,81,0,0,167,44,30,200,210,76,103,1,-9999,-9999,-9999\\nGHCND:USW00024233,SEATTLE TACOMA INTERNATIONAL AIRPORT WA US,20140316,277,0,0,106,44,38,230,240,76,103,1,-9999,-9999,-9999\\nGHCND:USW00024233,SEATTLE TACOMA INTERNATIONAL AIRPORT WA US,20140317,3,0,0,100,28,32,190,90,89,143,1,-9999,-9999,-9999\\nGHCND:USW00024233,SEATTLE TACOMA INTERNATIONAL AIRPORT WA US,20140318,0,0,0,100,33,16,140,100,45,58,-9999,-9999,-9999,-9999\\nGHCND:USW00024233,SEATTLE TACOMA INTERNATIONAL AIRPORT WA US,20140319,5,0,0,111,33,51,200,200,107,143,-9999,-9999,-9999,-9999\\nGHCND:USW00024233,SEATTLE TACOMA INTERNATIONAL AIRPORT WA US,20140320,0,0,0,111,17,30,30,40,72,81,-9999,-9999,-9999,-9999\\nGHCND:USW00024233,SEATTLE TACOMA INTERNATIONAL AIRPORT WA US,20140321,0,0,0,106,28,38,340,340,67,94,-9999,-9999,-9999,-9999\\nGHCND:USW00024233,SEATTLE TACOMA INTERNATIONAL AIRPORT WA US,20140322,0,0,0,111,11,18,330,120,40,58,-9999,-9999,-9999,-9999\\nGHCND:USW00024233,SEATTLE TACOMA INTERNATIONAL AIRPORT WA US,20140323,0,0,0,128,44,33,30,290,49,72,-9999,-9999,-9999,-9999\\nGHCND:USW00024233,SEATTLE TACOMA INTERNATIONAL AIRPORT WA US,20140324,0,0,0,189,28,22,160,170,40,45,-9999,-9999,-9999,-9999\\nGHCND:USW00024233,SEATTLE TACOMA INTERNATIONAL AIRPORT WA US,20140325,41,0,0,139,67,44,200,190,134,192,1,-9999,-9999,-9999\\nGHCND:USW00024233,SEATTLE TACOMA INTERNATIONAL AIRPORT WA US,20140326,36,0,0,111,56,24,190,210,54,76,1,-9999,-9999,-9999\\nGHCND:USW00024233,SEATTLE TACOMA INTERNATIONAL AIRPORT WA US,20140327,3,0,0,122,67,28,320,330,103,134,1,-9999,-9999,-9999\\nGHCND:USW00024233,SEATTLE TACOMA INTERNATIONAL AIRPORT WA US,20140328,221,0,0,117,72,39,240,210,89,107,1,-9999,-9999,-9999\\nGHCND:USW00024233,SEATTLE TACOMA INTERNATIONAL AIRPORT WA US,20140329,140,0,0,117,72,51,190,190,94,139,1,-9999,-9999,-9999\\nGHCND:USW00024233,SEATTLE TACOMA INTERNATIONAL AIRPORT WA US,20140330,0,0,0,111,50,51,190,180,103,125,-9999,-9999,-9999,-9999\\nGHCND:USW00024233,SEATTLE TACOMA INTERNATIONAL AIRPORT WA US,20140331,0,0,0,156,22,38,360,220,72,94,-9999,-9999,-9999,-9999\\nGHCND:USW00024233,SEATTLE TACOMA INTERNATIONAL AIRPORT WA US,20140401,0,0,0,144,67,28,20,10,58,67,-9999,-9999,-9999,-9999\\nGHCND:USW00024233,SEATTLE TACOMA INTERNATIONAL AIRPORT WA US,20140402,0,0,0,144,56,42,210,200,72,103,-9999,-9999,-9999,-9999\\nGHCND:USW00024233,SEATTLE TACOMA INTERNATIONAL AIRPORT WA US,20140403,25,0,0,133,61,39,220,220,89,116,-9999,-9999,-9999,-9999\\nGHCND:USW00024233,SEATTLE TACOMA INTERNATIONAL AIRPORT WA US,20140404,0,0,0,128,61,47,210,220,89,107,-9999,-9999,-9999,-9999\\nGHCND:USW00024233,SEATTLE TACOMA INTERNATIONAL AIRPORT WA US,20140405,46,0,0,117,78,43,210,230,98,130,1,-9999,-9999,-9999\\nGHCND:USW00024233,SEATTLE TACOMA INTERNATIONAL AIRPORT WA US,20140406,0,0,0,139,83,26,220,220,72,107,-9999,-9999,-9999,-9999\\nGHCND:USW00024233,SEATTLE TACOMA INTERNATIONAL AIRPORT WA US,20140407,0,0,0,211,94,25,200,320,63,98,-9999,-9999,-9999,-9999\\nGHCND:USW00024233,SEATTLE TACOMA INTERNATIONAL AIRPORT WA US,20140408,46,0,0,156,83,42,40,40,81,98,1,-9999,-9999,-9999\\nGHCND:USW00024233,SEATTLE TACOMA INTERNATIONAL AIRPORT WA US,20140409,0,0,0,144,67,29,30,30,67,81,-9999,-9999,-9999,-9999\\nGHCND:USW00024233,SEATTLE TACOMA INTERNATIONAL AIRPORT WA US,20140410,0,0,0,150,67,36,30,30,63,72,-9999,-9999,-9999,-9999\\nGHCND:USW00024233,SEATTLE TACOMA INTERNATIONAL AIRPORT WA US,20140411,0,0,0,172,50,28,30,-9999,72,-9999,-9999,-9999,-9999,-9999\\nGHCND:USW00024233,SEATTLE TACOMA INTERNATIONAL AIRPORT WA US,20140412,0,0,0,161,78,44,360,360,67,89,-9999,-9999,-9999,-9999\\nGHCND:USW00024233,SEATTLE TACOMA INTERNATIONAL AIRPORT WA US,20140413,0,0,0,206,56,31,300,290,67,81,-9999,-9999,-9999,-9999\\nGHCND:USW00024233,SEATTLE TACOMA INTERNATIONAL AIRPORT WA US,20140414,0,0,0,200,56,26,220,280,76,116,-9999,-9999,-9999,-9999\\nGHCND:USW00024233,SEATTLE TACOMA INTERNATIONAL AIRPORT WA US,20140415,5,0,0,144,78,40,210,220,76,98,-9999,-9999,-9999,-9999\\nGHCND:USW00024233,SEATTLE TACOMA INTERNATIONAL AIRPORT WA US,20140416,109,0,0,111,89,46,190,210,72,94,1,-9999,-9999,-9999\\nGHCND:USW00024233,SEATTLE TACOMA INTERNATIONAL AIRPORT WA US,20140417,185,0,0,117,72,47,220,230,103,130,1,-9999,-9999,-9999\\nGHCND:USW00024233,SEATTLE TACOMA INTERNATIONAL AIRPORT WA US,20140418,0,0,0,144,56,38,210,310,76,170,-9999,-9999,-9999,-9999\\nGHCND:USW00024233,SEATTLE TACOMA INTERNATIONAL AIRPORT WA US,20140419,137,0,0,117,56,47,210,230,103,139,1,-9999,-9999,-9999\\nGHCND:USW00024233,SEATTLE TACOMA INTERNATIONAL AIRPORT WA US,20140420,0,0,0,156,56,27,200,210,94,112,-9999,-9999,-9999,-9999\\nGHCND:USW00024233,SEATTLE TACOMA INTERNATIONAL AIRPORT WA US,20140421,51,0,0,172,78,25,340,-9999,63,-9999,1,-9999,-9999,-9999\\nGHCND:USW00024233,SEATTLE TACOMA INTERNATIONAL AIRPORT WA US,20140422,142,0,0,122,50,42,260,250,98,130,1,-9999,-9999,-9999\\nGHCND:USW00024233,SEATTLE TACOMA INTERNATIONAL AIRPORT WA US,20140423,89,0,0,117,61,50,280,320,81,143,1,-9999,-9999,-9999\\nGHCND:USW00024233,SEATTLE TACOMA INTERNATIONAL AIRPORT WA US,20140424,124,0,0,139,61,53,200,210,116,161,1,-9999,-9999,-9999\\nGHCND:USW00024233,SEATTLE TACOMA INTERNATIONAL AIRPORT WA US,20140425,0,0,0,144,56,23,320,290,63,76,-9999,-9999,-9999,-9999\\nGHCND:USW00024233,SEATTLE TACOMA INTERNATIONAL AIRPORT WA US,20140426,33,0,0,150,56,39,190,210,63,89,-9999,-9999,-9999,-9999\\nGHCND:USW00024233,SEATTLE TACOMA INTERNATIONAL AIRPORT WA US,20140427,69,0,0,111,61,58,200,200,98,112,1,-9999,-9999,-9999\\nGHCND:USW00024233,SEATTLE TACOMA INTERNATIONAL AIRPORT WA US,20140428,0,0,0,161,44,26,280,280,58,72,-9999,-9999,-9999,-9999\\nGHCND:USW00024233,SEATTLE TACOMA INTERNATIONAL AIRPORT WA US,20140429,0,0,0,250,94,23,100,90,67,89,-9999,-9999,-9999,-9999\\nGHCND:USW00024233,SEATTLE TACOMA INTERNATIONAL AIRPORT WA US,20140430,0,0,0,278,94,39,350,10,76,89,-9999,-9999,-9999,-9999\\nGHCND:USW00024233,SEATTLE TACOMA INTERNATIONAL AIRPORT WA US,20140501,0,0,0,294,111,30,240,240,58,81,-9999,-9999,-9999,-9999\\nGHCND:USW00024233,SEATTLE TACOMA INTERNATIONAL AIRPORT WA US,20140502,0,0,0,183,106,47,220,230,81,103,-9999,-9999,-9999,-9999\\nGHCND:USW00024233,SEATTLE TACOMA INTERNATIONAL AIRPORT WA US,20140503,333,0,0,150,89,34,210,200,98,130,1,-9999,-9999,-9999\\nGHCND:USW00024233,SEATTLE TACOMA INTERNATIONAL AIRPORT WA US,20140504,160,0,0,144,89,42,190,200,89,112,1,-9999,-9999,-9999\\nGHCND:USW00024233,SEATTLE TACOMA INTERNATIONAL AIRPORT WA US,20140505,51,0,0,156,94,38,220,230,72,98,1,-9999,-9999,-9999\\nGHCND:USW00024233,SEATTLE TACOMA INTERNATIONAL AIRPORT WA US,20140506,0,0,0,167,83,26,220,250,58,72,-9999,-9999,-9999,-9999\\nGHCND:USW00024233,SEATTLE TACOMA INTERNATIONAL AIRPORT WA US,20140507,0,0,0,183,72,17,240,250,58,72,-9999,-9999,-9999,-9999\\nGHCND:USW00024233,SEATTLE TACOMA INTERNATIONAL AIRPORT WA US,20140508,137,0,0,139,94,34,200,200,89,116,1,-9999,-9999,-9999\\nGHCND:USW00024233,SEATTLE TACOMA INTERNATIONAL AIRPORT WA US,20140509,20,0,0,133,72,56,210,220,98,130,-9999,-9999,-9999,-9999\\nGHCND:USW00024233,SEATTLE TACOMA INTERNATIONAL AIRPORT WA US,20140510,5,0,0,156,72,21,270,240,40,81,1,-9999,-9999,-9999\\nGHCND:USW00024233,SEATTLE TACOMA INTERNATIONAL AIRPORT WA US,20140511,0,0,0,189,83,17,200,200,116,116,-9999,-9999,-9999,-9999\\nGHCND:USW00024233,SEATTLE TACOMA INTERNATIONAL AIRPORT WA US,20140512,0,0,0,244,94,27,320,310,54,67,-9999,-9999,-9999,-9999\\nGHCND:USW00024233,SEATTLE TACOMA INTERNATIONAL AIRPORT WA US,20140513,0,0,0,267,128,38,350,350,67,81,-9999,-9999,-9999,-9999\\nGHCND:USW00024233,SEATTLE TACOMA INTERNATIONAL AIRPORT WA US,20140514,0,0,0,278,133,33,350,30,67,116,-9999,-9999,-9999,-9999\\nGHCND:USW00024233,SEATTLE TACOMA INTERNATIONAL AIRPORT WA US,20140515,0,0,0,267,128,30,240,240,89,107,-9999,-9999,-9999,-9999\\nGHCND:USW00024233,SEATTLE TACOMA INTERNATIONAL AIRPORT WA US,20140516,0,0,0,200,117,41,220,200,72,98,-9999,-9999,-9999,-9999\\nGHCND:USW00024233,SEATTLE TACOMA INTERNATIONAL AIRPORT WA US,20140517,0,0,0,200,117,32,190,260,63,89,-9999,-9999,-9999,-9999\\nGHCND:USW00024233,SEATTLE TACOMA INTERNATIONAL AIRPORT WA US,20140518,0,0,0,200,106,32,210,210,112,148,-9999,-9999,-9999,-9999\\nGHCND:USW00024233,SEATTLE TACOMA INTERNATIONAL AIRPORT WA US,20140519,0,0,0,211,100,22,340,350,63,72,-9999,-9999,-9999,-9999\\nGHCND:USW00024233,SEATTLE TACOMA INTERNATIONAL AIRPORT WA US,20140520,0,0,0,222,100,27,300,280,58,67,-9999,-9999,-9999,-9999\\nGHCND:USW00024233,SEATTLE TACOMA INTERNATIONAL AIRPORT WA US,20140521,0,0,0,200,106,17,250,250,40,54,-9999,-9999,-9999,-9999\\nGHCND:USW00024233,SEATTLE TACOMA INTERNATIONAL AIRPORT WA US,20140522,0,0,0,244,117,25,300,300,67,81,-9999,-9999,-9999,-9999\\nGHCND:USW00024233,SEATTLE TACOMA INTERNATIONAL AIRPORT WA US,20140523,38,0,0,200,128,40,220,110,81,130,1,-9999,-9999,-9999\\nGHCND:USW00024233,SEATTLE TACOMA INTERNATIONAL AIRPORT WA US,20140524,0,0,0,183,111,24,230,220,54,67,-9999,-9999,-9999,-9999\\nGHCND:USW00024233,SEATTLE TACOMA INTERNATIONAL AIRPORT WA US,20140525,56,0,0,150,106,14,230,320,45,107,1,-9999,-9999,-9999\\nGHCND:USW00024233,SEATTLE TACOMA INTERNATIONAL AIRPORT WA US,20140526,0,0,0,183,111,45,210,210,94,112,-9999,-9999,-9999,-9999\\nGHCND:USW00024233,SEATTLE TACOMA INTERNATIONAL AIRPORT WA US,20140527,0,0,0,200,100,25,280,280,58,81,-9999,-9999,-9999,-9999\\nGHCND:USW00024233,SEATTLE TACOMA INTERNATIONAL AIRPORT WA US,20140528,0,0,0,189,100,34,210,200,76,98,-9999,-9999,-9999,-9999\\nGHCND:USW00024233,SEATTLE TACOMA INTERNATIONAL AIRPORT WA US,20140529,0,0,0,189,111,43,180,170,81,107,-9999,-9999,-9999,-9999\\nGHCND:USW00024233,SEATTLE TACOMA INTERNATIONAL AIRPORT WA US,20140530,0,0,0,206,89,45,340,350,89,103,-9999,-9999,-9999,-9999\\nGHCND:USW00024233,SEATTLE TACOMA INTERNATIONAL AIRPORT WA US,20140531,0,0,0,233,100,22,200,210,54,72,-9999,-9999,-9999,-9999\\nGHCND:USW00024233,SEATTLE TACOMA INTERNATIONAL AIRPORT WA US,20140601,0,0,0,222,106,23,250,220,45,67,-9999,-9999,-9999,-9999\\nGHCND:USW00024233,SEATTLE TACOMA INTERNATIONAL AIRPORT WA US,20140602,0,0,0,233,111,24,210,200,58,72,-9999,-9999,-9999,-9999\\nGHCND:USW00024233,SEATTLE TACOMA INTERNATIONAL AIRPORT WA US,20140603,0,0,0,183,111,32,220,250,63,72,-9999,-9999,-9999,-9999\\nGHCND:USW00024233,SEATTLE TACOMA INTERNATIONAL AIRPORT WA US,20140604,0,0,0,194,100,26,260,260,54,72,-9999,-9999,-9999,-9999\\nGHCND:USW00024233,SEATTLE TACOMA INTERNATIONAL AIRPORT WA US,20140605,0,0,0,222,100,24,350,250,45,89,-9999,-9999,-9999,-9999\\nGHCND:USW00024233,SEATTLE TACOMA INTERNATIONAL AIRPORT WA US,20140606,0,0,0,250,106,32,40,40,94,107,-9999,-9999,-9999,-9999\\nGHCND:USW00024233,SEATTLE TACOMA INTERNATIONAL AIRPORT WA US,20140607,0,0,0,244,133,31,300,290,67,89,-9999,-9999,-9999,-9999\\nGHCND:USW00024233,SEATTLE TACOMA INTERNATIONAL AIRPORT WA US,20140608,0,0,0,233,122,21,50,40,58,67,-9999,-9999,-9999,-9999\\nGHCND:USW00024233,SEATTLE TACOMA INTERNATIONAL AIRPORT WA US,20140609,0,0,0,211,133,36,30,30,72,89,-9999,-9999,-9999,-9999\\nGHCND:USW00024233,SEATTLE TACOMA INTERNATIONAL AIRPORT WA US,20140610,0,0,0,200,122,29,40,40,67,81,-9999,-9999,-9999,-9999\\nGHCND:USW00024233,SEATTLE TACOMA INTERNATIONAL AIRPORT WA US,20140611,0,0,0,239,111,27,290,300,63,72,-9999,-9999,-9999,-9999\\nGHCND:USW00024233,SEATTLE TACOMA INTERNATIONAL AIRPORT WA US,20140612,18,0,0,217,122,40,240,230,103,139,-9999,-9999,-9999,-9999\\nGHCND:USW00024233,SEATTLE TACOMA INTERNATIONAL AIRPORT WA US,20140613,64,0,0,156,111,50,220,220,98,139,1,-9999,-9999,-9999\\nGHCND:USW00024233,SEATTLE TACOMA INTERNATIONAL AIRPORT WA US,20140614,0,0,0,178,117,32,190,190,76,98,-9999,-9999,-9999,-9999\\nGHCND:USW00024233,SEATTLE TACOMA INTERNATIONAL AIRPORT WA US,20140615,5,0,0,183,100,36,50,50,98,112,1,-9999,-9999,-9999\\nGHCND:USW00024233,SEATTLE TACOMA INTERNATIONAL AIRPORT WA US,20140616,36,0,-9999,178,89,24,210,210,58,72,1,-9999,-9999,-9999\\nGHCND:USW00024233,SEATTLE TACOMA INTERNATIONAL AIRPORT WA US,20140617,13,0,0,178,100,30,230,210,54,72,1,-9999,-9999,-9999\\nGHCND:USW00024233,SEATTLE TACOMA INTERNATIONAL AIRPORT WA US,20140618,0,0,0,189,111,27,210,180,54,81,-9999,-9999,-9999,-9999\\nGHCND:USW00024233,SEATTLE TACOMA INTERNATIONAL AIRPORT WA US,20140619,8,0,0,256,117,37,240,230,81,112,-9999,-9999,-9999,-9999\\nGHCND:USW00024233,SEATTLE TACOMA INTERNATIONAL AIRPORT WA US,20140620,3,0,0,200,100,34,30,230,76,103,-9999,-9999,-9999,-9999\\nGHCND:USW00024233,SEATTLE TACOMA INTERNATIONAL AIRPORT WA US,20140621,0,0,0,222,106,36,20,300,67,89,-9999,-9999,-9999,-9999\\nGHCND:USW00024233,SEATTLE TACOMA INTERNATIONAL AIRPORT WA US,20140622,0,0,0,250,111,27,20,360,58,72,-9999,-9999,-9999,-9999\\nGHCND:USW00024233,SEATTLE TACOMA INTERNATIONAL AIRPORT WA US,20140623,0,0,0,250,133,25,250,230,63,81,-9999,-9999,-9999,-9999\\nGHCND:USW00024233,SEATTLE TACOMA INTERNATIONAL AIRPORT WA US,20140624,0,0,0,244,144,25,190,260,58,94,-9999,-9999,-9999,-9999\\nGHCND:USW00024233,SEATTLE TACOMA INTERNATIONAL AIRPORT WA US,20140625,0,0,0,261,139,24,360,280,63,76,-9999,-9999,-9999,-9999\\nGHCND:USW00024233,SEATTLE TACOMA INTERNATIONAL AIRPORT WA US,20140626,0,0,0,211,144,41,230,240,76,98,-9999,-9999,-9999,-9999\\nGHCND:USW00024233,SEATTLE TACOMA INTERNATIONAL AIRPORT WA US,20140627,18,0,0,211,139,45,240,230,98,134,1,-9999,-9999,-9999\\nGHCND:USW00024233,SEATTLE TACOMA INTERNATIONAL AIRPORT WA US,20140628,23,0,0,200,133,43,220,230,76,98,1,-9999,-9999,-9999\\nGHCND:USW00024233,SEATTLE TACOMA INTERNATIONAL AIRPORT WA US,20140629,0,0,0,206,128,32,210,200,72,94,-9999,-9999,-9999,-9999\\nGHCND:USW00024233,SEATTLE TACOMA INTERNATIONAL AIRPORT WA US,20140630,0,0,0,256,128,44,330,340,67,98,-9999,-9999,-9999,-9999\\nGHCND:USW00024233,SEATTLE TACOMA INTERNATIONAL AIRPORT WA US,20140701,0,0,0,344,156,35,350,10,67,81,-9999,-9999,-9999,-9999\\nGHCND:USW00024233,SEATTLE TACOMA INTERNATIONAL AIRPORT WA US,20140702,0,0,0,272,144,36,210,230,72,94,-9999,-9999,-9999,-9999\\nGHCND:USW00024233,SEATTLE TACOMA INTERNATIONAL AIRPORT WA US,20140703,0,0,0,217,139,31,230,330,54,72,-9999,-9999,-9999,-9999\\nGHCND:USW00024233,SEATTLE TACOMA INTERNATIONAL AIRPORT WA US,20140704,0,0,0,239,139,36,340,-9999,63,-9999,-9999,-9999,-9999,-9999\\nGHCND:USW00024233,SEATTLE TACOMA INTERNATIONAL AIRPORT WA US,20140705,0,0,0,244,133,22,200,230,63,81,1,-9999,-9999,-9999\\nGHCND:USW00024233,SEATTLE TACOMA INTERNATIONAL AIRPORT WA US,20140706,0,0,0,289,150,30,340,330,76,94,-9999,-9999,-9999,-9999\\nGHCND:USW00024233,SEATTLE TACOMA INTERNATIONAL AIRPORT WA US,20140707,0,0,0,272,178,41,340,340,67,148,1,-9999,-9999,-9999\\nGHCND:USW00024233,SEATTLE TACOMA INTERNATIONAL AIRPORT WA US,20140708,0,0,0,300,156,35,350,350,72,94,-9999,-9999,-9999,-9999\\nGHCND:USW00024233,SEATTLE TACOMA INTERNATIONAL AIRPORT WA US,20140709,0,0,0,267,139,23,250,320,67,112,-9999,-9999,-9999,-9999\\nGHCND:USW00024233,SEATTLE TACOMA INTERNATIONAL AIRPORT WA US,20140710,0,0,0,289,128,22,10,270,40,72,1,-9999,-9999,-9999\\nGHCND:USW00024233,SEATTLE TACOMA INTERNATIONAL AIRPORT WA US,20140711,0,0,0,311,150,22,35,35,49,67,-9999,-9999,-9999,-9999\\nGHCND:USW00024233,SEATTLE TACOMA INTERNATIONAL AIRPORT WA US,20140712,0,0,0,322,167,22,20,20,54,63,-9999,-9999,-9999,-9999\\nGHCND:USW00024233,SEATTLE TACOMA INTERNATIONAL AIRPORT WA US,20140713,0,0,0,294,150,26,360,350,76,94,-9999,-9999,-9999,1\\nGHCND:USW00024233,SEATTLE TACOMA INTERNATIONAL AIRPORT WA US,20140714,0,0,0,278,150,28,250,250,45,49,-9999,-9999,-9999,-9999\\nGHCND:USW00024233,SEATTLE TACOMA INTERNATIONAL AIRPORT WA US,20140715,0,0,0,311,139,23,360,210,67,107,-9999,-9999,-9999,-9999\\nGHCND:USW00024233,SEATTLE TACOMA INTERNATIONAL AIRPORT WA US,20140716,0,0,0,311,144,24,200,100,58,94,-9999,-9999,-9999,-9999\\nGHCND:USW00024233,SEATTLE TACOMA INTERNATIONAL AIRPORT WA US,20140717,0,0,0,267,139,37,280,170,81,116,-9999,-9999,-9999,-9999\\nGHCND:USW00024233,SEATTLE TACOMA INTERNATIONAL AIRPORT WA US,20140718,0,0,0,239,117,28,260,240,63,81,-9999,-9999,-9999,-9999\\nGHCND:USW00024233,SEATTLE TACOMA INTERNATIONAL AIRPORT WA US,20140719,0,0,0,256,150,54,220,220,125,161,1,-9999,-9999,-9999\\nGHCND:USW00024233,SEATTLE TACOMA INTERNATIONAL AIRPORT WA US,20140720,0,0,0,194,144,28,320,300,89,116,-9999,-9999,-9999,-9999\\nGHCND:USW00024233,SEATTLE TACOMA INTERNATIONAL AIRPORT WA US,20140721,0,0,0,239,133,22,260,220,54,67,-9999,-9999,-9999,-9999\\nGHCND:USW00024233,SEATTLE TACOMA INTERNATIONAL AIRPORT WA US,20140722,3,0,0,211,133,11,200,220,40,72,1,-9999,-9999,-9999\\nGHCND:USW00024233,SEATTLE TACOMA INTERNATIONAL AIRPORT WA US,20140723,193,0,0,189,133,33,150,210,63,112,-9999,-9999,-9999,-9999\\nGHCND:USW00024233,SEATTLE TACOMA INTERNATIONAL AIRPORT WA US,20140724,0,0,0,206,128,47,210,210,89,112,-9999,-9999,-9999,-9999\\nGHCND:USW00024233,SEATTLE TACOMA INTERNATIONAL AIRPORT WA US,20140725,0,0,0,228,122,27,20,250,58,76,-9999,-9999,-9999,-9999\\nGHCND:USW00024233,SEATTLE TACOMA INTERNATIONAL AIRPORT WA US,20140726,0,0,0,261,133,36,20,20,72,76,-9999,-9999,-9999,-9999\\nGHCND:USW00024233,SEATTLE TACOMA INTERNATIONAL AIRPORT WA US,20140727,0,0,0,283,150,41,350,360,67,81,-9999,-9999,-9999,-9999\\nGHCND:USW00024233,SEATTLE TACOMA INTERNATIONAL AIRPORT WA US,20140728,0,0,0,306,150,37,40,360,67,98,-9999,-9999,-9999,-9999\\nGHCND:USW00024233,SEATTLE TACOMA INTERNATIONAL AIRPORT WA US,20140729,0,0,0,300,156,28,10,350,76,94,-9999,-9999,-9999,-9999\\nGHCND:USW00024233,SEATTLE TACOMA INTERNATIONAL AIRPORT WA US,20140730,0,0,0,294,144,34,40,350,76,103,-9999,-9999,-9999,-9999\\nGHCND:USW00024233,SEATTLE TACOMA INTERNATIONAL AIRPORT WA US,20140731,0,0,0,306,178,41,40,350,67,125,-9999,-9999,-9999,-9999\\nGHCND:USW00024233,SEATTLE TACOMA INTERNATIONAL AIRPORT WA US,20140801,0,0,0,289,150,33,30,360,98,143,-9999,-9999,-9999,-9999\\nGHCND:USW00024233,SEATTLE TACOMA INTERNATIONAL AIRPORT WA US,20140802,5,0,0,294,156,17,20,-9999,45,-9999,-9999,-9999,-9999,-9999\\nGHCND:USW00024233,SEATTLE TACOMA INTERNATIONAL AIRPORT WA US,20140803,0,0,0,317,144,26,360,330,54,72,-9999,-9999,-9999,-9999\\nGHCND:USW00024233,SEATTLE TACOMA INTERNATIONAL AIRPORT WA US,20140804,0,0,0,328,161,26,350,10,58,67,-9999,-9999,-9999,-9999\\nGHCND:USW00024233,SEATTLE TACOMA INTERNATIONAL AIRPORT WA US,20140805,0,0,0,250,139,27,240,210,58,72,-9999,-9999,-9999,-9999\\nGHCND:USW00024233,SEATTLE TACOMA INTERNATIONAL AIRPORT WA US,20140806,0,0,0,261,150,22,250,320,45,54,1,-9999,-9999,-9999\\nGHCND:USW00024233,SEATTLE TACOMA INTERNATIONAL AIRPORT WA US,20140807,0,0,0,256,133,24,190,210,40,63,1,-9999,-9999,-9999\\nGHCND:USW00024233,SEATTLE TACOMA INTERNATIONAL AIRPORT WA US,20140808,0,0,0,256,133,29,40,230,76,98,-9999,-9999,-9999,-9999\\nGHCND:USW00024233,SEATTLE TACOMA INTERNATIONAL AIRPORT WA US,20140809,0,0,0,272,156,41,40,340,72,94,-9999,-9999,-9999,-9999\\nGHCND:USW00024233,SEATTLE TACOMA INTERNATIONAL AIRPORT WA US,20140810,0,0,0,306,139,34,360,350,63,94,-9999,-9999,-9999,-9999\\nGHCND:USW00024233,SEATTLE TACOMA INTERNATIONAL AIRPORT WA US,20140811,5,0,0,356,178,26,70,70,81,98,-9999,-9999,-9999,1\\nGHCND:USW00024233,SEATTLE TACOMA INTERNATIONAL AIRPORT WA US,20140812,127,0,0,272,172,31,60,350,81,148,1,-9999,-9999,-9999\\nGHCND:USW00024233,SEATTLE TACOMA INTERNATIONAL AIRPORT WA US,20140813,216,0,0,233,150,27,200,200,63,63,1,-9999,-9999,-9999\\nGHCND:USW00024233,SEATTLE TACOMA INTERNATIONAL AIRPORT WA US,20140814,0,0,0,211,172,6,330,-9999,31,-9999,-9999,-9999,-9999,-9999\\nGHCND:USW00024233,SEATTLE TACOMA INTERNATIONAL AIRPORT WA US,20140815,10,0,0,244,167,15,280,180,40,72,1,-9999,-9999,-9999\\nGHCND:USW00024233,SEATTLE TACOMA INTERNATIONAL AIRPORT WA US,20140816,0,0,0,256,156,22,290,320,67,76,-9999,-9999,-9999,-9999\\nGHCND:USW00024233,SEATTLE TACOMA INTERNATIONAL AIRPORT WA US,20140817,0,0,0,278,150,28,360,-9999,58,-9999,-9999,-9999,-9999,-9999\\nGHCND:USW00024233,SEATTLE TACOMA INTERNATIONAL AIRPORT WA US,20140818,0,0,0,294,156,33,340,-9999,67,-9999,-9999,-9999,-9999,-9999\\nGHCND:USW00024233,SEATTLE TACOMA INTERNATIONAL AIRPORT WA US,20140819,0,0,0,272,156,24,210,210,72,89,-9999,-9999,-9999,-9999\\nGHCND:USW00024233,SEATTLE TACOMA INTERNATIONAL AIRPORT WA US,20140820,0,0,0,217,139,36,230,220,58,76,-9999,-9999,-9999,-9999\\nGHCND:USW00024233,SEATTLE TACOMA INTERNATIONAL AIRPORT WA US,20140821,0,0,0,211,111,17,220,220,45,67,-9999,-9999,-9999,-9999\\nGHCND:USW00024233,SEATTLE TACOMA INTERNATIONAL AIRPORT WA US,20140822,0,0,0,239,133,29,330,20,72,94,-9999,-9999,-9999,-9999\\nGHCND:USW00024233,SEATTLE TACOMA INTERNATIONAL AIRPORT WA US,20140823,0,0,0,278,139,20,280,280,54,72,-9999,-9999,-9999,-9999\\nGHCND:USW00024233,SEATTLE TACOMA INTERNATIONAL AIRPORT WA US,20140824,0,0,0,250,133,23,10,270,45,67,-9999,-9999,-9999,-9999\\nGHCND:USW00024233,SEATTLE TACOMA INTERNATIONAL AIRPORT WA US,20140825,0,0,0,289,144,20,360,10,67,94,-9999,-9999,-9999,-9999\\nGHCND:USW00024233,SEATTLE TACOMA INTERNATIONAL AIRPORT WA US,20140826,0,0,0,311,156,18,20,-9999,45,-9999,-9999,-9999,-9999,-9999\\nGHCND:USW00024233,SEATTLE TACOMA INTERNATIONAL AIRPORT WA US,20140827,0,0,0,289,161,16,30,100,54,98,-9999,-9999,-9999,-9999\\nGHCND:USW00024233,SEATTLE TACOMA INTERNATIONAL AIRPORT WA US,20140828,0,0,0,233,144,23,180,180,54,72,-9999,-9999,-9999,-9999\\nGHCND:USW00024233,SEATTLE TACOMA INTERNATIONAL AIRPORT WA US,20140829,0,0,0,228,150,34,210,200,72,89,-9999,-9999,-9999,-9999\\nGHCND:USW00024233,SEATTLE TACOMA INTERNATIONAL AIRPORT WA US,20140830,84,0,0,178,150,22,120,130,58,67,1,-9999,-9999,-9999\\nGHCND:USW00024233,SEATTLE TACOMA INTERNATIONAL AIRPORT WA US,20140831,13,0,0,211,139,19,210,190,45,63,1,-9999,-9999,-9999\\nGHCND:USW00024233,SEATTLE TACOMA INTERNATIONAL AIRPORT WA US,20140901,0,0,0,233,128,25,260,240,54,67,-9999,-9999,-9999,-9999\\nGHCND:USW00024233,SEATTLE TACOMA INTERNATIONAL AIRPORT WA US,20140902,30,0,0,200,139,43,210,210,103,130,1,-9999,-9999,-9999\\nGHCND:USW00024233,SEATTLE TACOMA INTERNATIONAL AIRPORT WA US,20140903,0,0,0,206,128,27,230,220,67,94,-9999,-9999,-9999,-9999\\nGHCND:USW00024233,SEATTLE TACOMA INTERNATIONAL AIRPORT WA US,20140904,0,0,0,239,111,31,350,350,63,81,1,-9999,-9999,-9999\\nGHCND:USW00024233,SEATTLE TACOMA INTERNATIONAL AIRPORT WA US,20140905,0,0,0,278,139,65,20,10,98,116,1,-9999,-9999,-9999\\nGHCND:USW00024233,SEATTLE TACOMA INTERNATIONAL AIRPORT WA US,20140906,0,0,0,322,150,29,10,20,54,63,-9999,-9999,-9999,-9999\\nGHCND:USW00024233,SEATTLE TACOMA INTERNATIONAL AIRPORT WA US,20140907,0,0,0,283,133,21,210,210,54,63,-9999,-9999,-9999,-9999\\nGHCND:USW00024233,SEATTLE TACOMA INTERNATIONAL AIRPORT WA US,20140908,0,0,0,211,133,28,230,220,58,76,-9999,-9999,-9999,-9999\\nGHCND:USW00024233,SEATTLE TACOMA INTERNATIONAL AIRPORT WA US,20140909,0,0,0,217,133,23,240,230,45,67,-9999,-9999,-9999,-9999\\nGHCND:USW00024233,SEATTLE TACOMA INTERNATIONAL AIRPORT WA US,20140910,0,0,0,222,122,39,350,350,89,107,-9999,-9999,-9999,-9999\\nGHCND:USW00024233,SEATTLE TACOMA INTERNATIONAL AIRPORT WA US,20140911,0,0,0,244,128,53,70,80,94,112,-9999,-9999,-9999,-9999\\nGHCND:USW00024233,SEATTLE TACOMA INTERNATIONAL AIRPORT WA US,20140912,0,0,0,244,128,59,340,340,89,107,-9999,-9999,-9999,-9999\\nGHCND:USW00024233,SEATTLE TACOMA INTERNATIONAL AIRPORT WA US,20140913,0,0,0,283,100,42,20,20,81,94,-9999,-9999,-9999,-9999\\nGHCND:USW00024233,SEATTLE TACOMA INTERNATIONAL AIRPORT WA US,20140914,0,0,0,300,117,18,20,30,58,63,-9999,-9999,-9999,-9999\\nGHCND:USW00024233,SEATTLE TACOMA INTERNATIONAL AIRPORT WA US,20140915,0,0,0,306,122,12,290,280,40,54,-9999,-9999,-9999,-9999\\nGHCND:USW00024233,SEATTLE TACOMA INTERNATIONAL AIRPORT WA US,20140916,0,0,0,222,139,28,210,190,67,81,-9999,-9999,-9999,-9999\\nGHCND:USW00024233,SEATTLE TACOMA INTERNATIONAL AIRPORT WA US,20140917,5,0,0,228,144,23,350,350,76,94,-9999,-9999,-9999,-9999\\nGHCND:USW00024233,SEATTLE TACOMA INTERNATIONAL AIRPORT WA US,20140918,3,0,0,194,150,31,210,210,67,130,1,-9999,-9999,-9999\\nGHCND:USW00024233,SEATTLE TACOMA INTERNATIONAL AIRPORT WA US,20140919,0,0,0,239,161,28,220,200,58,72,-9999,-9999,-9999,-9999\\nGHCND:USW00024233,SEATTLE TACOMA INTERNATIONAL AIRPORT WA US,20140920,0,0,0,244,144,44,10,360,81,98,1,-9999,-9999,-9999\\nGHCND:USW00024233,SEATTLE TACOMA INTERNATIONAL AIRPORT WA US,20140921,0,0,0,261,128,30,220,220,72,89,-9999,-9999,-9999,-9999\\nGHCND:USW00024233,SEATTLE TACOMA INTERNATIONAL AIRPORT WA US,20140922,3,0,0,222,150,21,230,230,54,72,1,-9999,-9999,-9999\\nGHCND:USW00024233,SEATTLE TACOMA INTERNATIONAL AIRPORT WA US,20140923,183,0,0,189,144,25,70,150,58,72,1,-9999,-9999,-9999\\nGHCND:USW00024233,SEATTLE TACOMA INTERNATIONAL AIRPORT WA US,20140924,203,0,0,189,144,27,140,150,72,81,1,-9999,-9999,-9999\\nGHCND:USW00024233,SEATTLE TACOMA INTERNATIONAL AIRPORT WA US,20140925,43,0,0,217,144,25,240,250,89,116,1,-9999,-9999,-9999\\nGHCND:USW00024233,SEATTLE TACOMA INTERNATIONAL AIRPORT WA US,20140926,89,0,0,200,139,33,140,130,72,107,1,-9999,-9999,-9999\\nGHCND:USW00024233,SEATTLE TACOMA INTERNATIONAL AIRPORT WA US,20140927,0,0,0,206,117,32,340,10,63,76,1,-9999,-9999,-9999\\nGHCND:USW00024233,SEATTLE TACOMA INTERNATIONAL AIRPORT WA US,20140928,0,0,0,189,122,20,280,280,40,54,1,-9999,-9999,-9999\\nGHCND:USW00024233,SEATTLE TACOMA INTERNATIONAL AIRPORT WA US,20140929,8,0,0,167,111,35,170,220,63,76,1,-9999,1,-9999\\nGHCND:USW00024233,SEATTLE TACOMA INTERNATIONAL AIRPORT WA US,20140930,0,0,0,194,122,26,30,80,54,81,-9999,-9999,-9999,-9999\\nGHCND:USW00024233,SEATTLE TACOMA INTERNATIONAL AIRPORT WA US,20141001,0,0,0,183,111,21,50,230,54,67,-9999,-9999,-9999,-9999\\nGHCND:USW00024233,SEATTLE TACOMA INTERNATIONAL AIRPORT WA US,20141002,0,0,0,194,100,20,300,10,54,72,-9999,-9999,-9999,-9999\\nGHCND:USW00024233,SEATTLE TACOMA INTERNATIONAL AIRPORT WA US,20141003,0,0,0,222,89,10,290,290,36,40,-9999,-9999,-9999,-9999\\nGHCND:USW00024233,SEATTLE TACOMA INTERNATIONAL AIRPORT WA US,20141004,0,0,0,217,122,12,310,310,36,40,-9999,-9999,-9999,-9999\\nGHCND:USW00024233,SEATTLE TACOMA INTERNATIONAL AIRPORT WA US,20141005,0,0,0,239,117,14,20,340,40,54,1,-9999,1,-9999\\nGHCND:USW00024233,SEATTLE TACOMA INTERNATIONAL AIRPORT WA US,20141006,0,0,0,256,133,25,10,360,63,76,1,-9999,1,-9999\\nGHCND:USW00024233,SEATTLE TACOMA INTERNATIONAL AIRPORT WA US,20141007,0,0,0,189,139,10,20,20,40,54,1,-9999,1,-9999\\nGHCND:USW00024233,SEATTLE TACOMA INTERNATIONAL AIRPORT WA US,20141008,0,0,0,206,128,18,310,310,40,63,1,-9999,1,-9999\\nGHCND:USW00024233,SEATTLE TACOMA INTERNATIONAL AIRPORT WA US,20141009,0,0,0,172,111,10,290,290,40,45,1,-9999,1,-9999\\nGHCND:USW00024233,SEATTLE TACOMA INTERNATIONAL AIRPORT WA US,20141010,3,0,0,183,100,38,200,190,72,94,1,-9999,1,-9999\\nGHCND:USW00024233,SEATTLE TACOMA INTERNATIONAL AIRPORT WA US,20141011,74,0,0,183,117,35,210,200,112,130,1,-9999,-9999,1\\nGHCND:USW00024233,SEATTLE TACOMA INTERNATIONAL AIRPORT WA US,20141012,0,0,0,178,117,21,250,220,45,63,-9999,-9999,-9999,-9999\\nGHCND:USW00024233,SEATTLE TACOMA INTERNATIONAL AIRPORT WA US,20141013,76,0,0,211,100,31,210,200,81,116,1,-9999,-9999,-9999\\nGHCND:USW00024233,SEATTLE TACOMA INTERNATIONAL AIRPORT WA US,20141014,71,0,0,167,117,22,140,140,58,72,1,-9999,-9999,-9999\\nGHCND:USW00024233,SEATTLE TACOMA INTERNATIONAL AIRPORT WA US,20141015,86,0,0,161,117,47,200,200,103,125,1,-9999,-9999,-9999\\nGHCND:USW00024233,SEATTLE TACOMA INTERNATIONAL AIRPORT WA US,20141016,0,0,0,206,111,33,120,120,76,103,-9999,-9999,-9999,-9999\\nGHCND:USW00024233,SEATTLE TACOMA INTERNATIONAL AIRPORT WA US,20141017,33,0,0,167,117,30,120,120,76,94,1,-9999,-9999,-9999\\nGHCND:USW00024233,SEATTLE TACOMA INTERNATIONAL AIRPORT WA US,20141018,150,0,0,194,139,19,140,320,54,103,1,-9999,-9999,-9999\\nGHCND:USW00024233,SEATTLE TACOMA INTERNATIONAL AIRPORT WA US,20141019,0,0,0,222,128,32,210,220,89,107,-9999,-9999,-9999,-9999\\nGHCND:USW00024233,SEATTLE TACOMA INTERNATIONAL AIRPORT WA US,20141020,117,0,0,161,122,31,190,-9999,49,-9999,1,-9999,-9999,-9999\\nGHCND:USW00024233,SEATTLE TACOMA INTERNATIONAL AIRPORT WA US,20141021,10,0,0,161,117,47,180,180,81,103,-9999,-9999,-9999,-9999\\nGHCND:USW00024233,SEATTLE TACOMA INTERNATIONAL AIRPORT WA US,20141022,320,0,0,156,117,50,200,130,81,125,1,-9999,-9999,-9999\\nGHCND:USW00024233,SEATTLE TACOMA INTERNATIONAL AIRPORT WA US,20141023,94,0,0,144,83,46,270,270,103,143,-9999,-9999,-9999,-9999\\nGHCND:USW00024233,SEATTLE TACOMA INTERNATIONAL AIRPORT WA US,20141024,41,0,0,144,89,32,360,30,63,134,-9999,-9999,-9999,-9999\\nGHCND:USW00024233,SEATTLE TACOMA INTERNATIONAL AIRPORT WA US,20141025,61,0,0,167,83,54,200,210,165,219,1,-9999,-9999,-9999\\nGHCND:USW00024233,SEATTLE TACOMA INTERNATIONAL AIRPORT WA US,20141026,15,0,0,128,78,50,210,210,98,125,1,-9999,-9999,-9999\\nGHCND:USW00024233,SEATTLE TACOMA INTERNATIONAL AIRPORT WA US,20141027,8,0,0,156,67,24,190,200,76,130,-9999,-9999,-9999,-9999\\nGHCND:USW00024233,SEATTLE TACOMA INTERNATIONAL AIRPORT WA US,20141028,127,0,0,150,94,39,190,170,76,103,1,-9999,-9999,-9999\\nGHCND:USW00024233,SEATTLE TACOMA INTERNATIONAL AIRPORT WA US,20141029,5,0,0,167,117,31,180,180,76,98,1,-9999,-9999,-9999\\nGHCND:USW00024233,SEATTLE TACOMA INTERNATIONAL AIRPORT WA US,20141030,254,0,0,156,111,32,100,110,72,94,1,-9999,-9999,-9999\\nGHCND:USW00024233,SEATTLE TACOMA INTERNATIONAL AIRPORT WA US,20141031,170,0,0,128,83,20,230,-9999,45,-9999,1,-9999,-9999,-9999\\nGHCND:USW00024233,SEATTLE TACOMA INTERNATIONAL AIRPORT WA US,20141101,0,0,0,111,72,12,120,-9999,31,-9999,1,-9999,1,-9999\\nGHCND:USW00024233,SEATTLE TACOMA INTERNATIONAL AIRPORT WA US,20141102,18,0,0,133,72,29,180,150,58,72,1,-9999,-9999,-9999\\nGHCND:USW00024233,SEATTLE TACOMA INTERNATIONAL AIRPORT WA US,20141103,109,0,0,139,111,48,170,170,89,112,1,-9999,-9999,-9999\\nGHCND:USW00024233,SEATTLE TACOMA INTERNATIONAL AIRPORT WA US,20141104,41,0,0,144,106,33,200,210,94,130,1,-9999,-9999,-9999\\nGHCND:USW00024233,SEATTLE TACOMA INTERNATIONAL AIRPORT WA US,20141105,48,0,0,150,106,21,100,100,45,58,1,-9999,-9999,-9999\\nGHCND:USW00024233,SEATTLE TACOMA INTERNATIONAL AIRPORT WA US,20141106,41,0,0,167,106,67,210,200,148,192,1,-9999,-9999,-9999\\nGHCND:USW00024233,SEATTLE TACOMA INTERNATIONAL AIRPORT WA US,20141107,0,0,0,144,72,23,350,240,45,76,-9999,-9999,-9999,-9999\\nGHCND:USW00024233,SEATTLE TACOMA INTERNATIONAL AIRPORT WA US,20141108,0,0,0,128,39,8,150,280,31,40,1,-9999,1,-9999\\nGHCND:USW00024233,SEATTLE TACOMA INTERNATIONAL AIRPORT WA US,20141109,51,0,0,133,78,30,30,190,81,103,1,-9999,-9999,-9999\\nGHCND:USW00024233,SEATTLE TACOMA INTERNATIONAL AIRPORT WA US,20141110,0,0,0,111,56,39,20,30,67,81,-9999,-9999,-9999,-9999\\nGHCND:USW00024233,SEATTLE TACOMA INTERNATIONAL AIRPORT WA US,20141111,0,0,0,78,11,77,100,100,139,192,-9999,-9999,-9999,-9999\\nGHCND:USW00024233,SEATTLE TACOMA INTERNATIONAL AIRPORT WA US,20141112,0,0,0,67,0,76,80,80,130,174,-9999,-9999,-9999,-9999\\nGHCND:USW00024233,SEATTLE TACOMA INTERNATIONAL AIRPORT WA US,20141113,0,0,0,72,6,47,110,110,94,139,-9999,-9999,-9999,-9999\\nGHCND:USW00024233,SEATTLE TACOMA INTERNATIONAL AIRPORT WA US,20141114,0,0,0,72,-21,45,10,10,76,89,-9999,-9999,-9999,-9999\\nGHCND:USW00024233,SEATTLE TACOMA INTERNATIONAL AIRPORT WA US,20141115,0,0,0,83,-16,42,90,90,134,148,-9999,-9999,-9999,-9999\\nGHCND:USW00024233,SEATTLE TACOMA INTERNATIONAL AIRPORT WA US,20141116,0,0,0,94,-21,42,10,10,76,94,-9999,-9999,-9999,-9999\\nGHCND:USW00024233,SEATTLE TACOMA INTERNATIONAL AIRPORT WA US,20141117,0,0,0,106,-21,19,230,-9999,81,-9999,-9999,-9999,-9999,-9999\\nGHCND:USW00024233,SEATTLE TACOMA INTERNATIONAL AIRPORT WA US,20141118,0,0,0,72,-5,9,20,10,45,54,-9999,-9999,-9999,-9999\\nGHCND:USW00024233,SEATTLE TACOMA INTERNATIONAL AIRPORT WA US,20141119,0,0,0,111,22,19,10,130,45,58,-9999,-9999,-9999,-9999\\nGHCND:USW00024233,SEATTLE TACOMA INTERNATIONAL AIRPORT WA US,20141120,36,0,0,111,56,21,100,140,54,67,1,-9999,-9999,-9999\\nGHCND:USW00024233,SEATTLE TACOMA INTERNATIONAL AIRPORT WA US,20141121,152,0,0,111,83,47,210,200,125,161,1,-9999,-9999,-9999\\nGHCND:USW00024233,SEATTLE TACOMA INTERNATIONAL AIRPORT WA US,20141122,5,0,0,94,67,47,210,210,125,165,-9999,-9999,-9999,-9999\\nGHCND:USW00024233,SEATTLE TACOMA INTERNATIONAL AIRPORT WA US,20141123,119,0,0,128,56,51,220,220,112,170,1,-9999,-9999,-9999\\nGHCND:USW00024233,SEATTLE TACOMA INTERNATIONAL AIRPORT WA US,20141124,13,0,0,117,44,38,190,190,107,139,1,-9999,-9999,-9999\\nGHCND:USW00024233,SEATTLE TACOMA INTERNATIONAL AIRPORT WA US,20141125,183,0,0,139,94,45,210,190,112,148,1,-9999,-9999,-9999\\nGHCND:USW00024233,SEATTLE TACOMA INTERNATIONAL AIRPORT WA US,20141126,3,0,0,150,122,39,210,200,89,116,-9999,-9999,-9999,-9999\\nGHCND:USW00024233,SEATTLE TACOMA INTERNATIONAL AIRPORT WA US,20141127,33,0,0,144,117,66,190,190,125,165,1,-9999,-9999,-9999\\nGHCND:USW00024233,SEATTLE TACOMA INTERNATIONAL AIRPORT WA US,20141128,343,0,0,128,33,58,10,10,103,143,1,-9999,-9999,-9999\\nGHCND:USW00024233,SEATTLE TACOMA INTERNATIONAL AIRPORT WA US,20141129,36,0,20,44,-43,53,360,350,139,174,1,-9999,-9999,-9999\\nGHCND:USW00024233,SEATTLE TACOMA INTERNATIONAL AIRPORT WA US,20141130,0,0,0,28,-49,44,10,-9999,72,-9999,-9999,-9999,-9999,-9999\\nGHCND:USW00024233,SEATTLE TACOMA INTERNATIONAL AIRPORT WA US,20141201,0,0,0,44,-32,22,30,100,45,58,-9999,-9999,-9999,-9999\\nGHCND:USW00024233,SEATTLE TACOMA INTERNATIONAL AIRPORT WA US,20141202,0,0,0,56,-32,57,20,20,103,125,1,-9999,-9999,-9999\\nGHCND:USW00024233,SEATTLE TACOMA INTERNATIONAL AIRPORT WA US,20141203,0,0,0,100,0,36,210,210,125,130,-9999,-9999,-9999,-9999\\nGHCND:USW00024233,SEATTLE TACOMA INTERNATIONAL AIRPORT WA US,20141204,8,0,0,83,39,11,110,110,45,58,1,-9999,-9999,-9999\\nGHCND:USW00024233,SEATTLE TACOMA INTERNATIONAL AIRPORT WA US,20141205,30,0,0,128,67,31,110,110,81,107,1,-9999,-9999,-9999\\nGHCND:USW00024233,SEATTLE TACOMA INTERNATIONAL AIRPORT WA US,20141206,74,0,0,117,78,36,200,200,72,94,1,-9999,-9999,-9999\\nGHCND:USW00024233,SEATTLE TACOMA INTERNATIONAL AIRPORT WA US,20141207,0,0,0,144,61,28,130,340,89,107,-9999,-9999,-9999,-9999\\nGHCND:USW00024233,SEATTLE TACOMA INTERNATIONAL AIRPORT WA US,20141208,91,0,0,144,89,42,100,120,76,94,1,-9999,-9999,-9999\\nGHCND:USW00024233,SEATTLE TACOMA INTERNATIONAL AIRPORT WA US,20141209,99,0,0,161,106,51,160,150,103,134,1,-9999,-9999,-9999\\nGHCND:USW00024233,SEATTLE TACOMA INTERNATIONAL AIRPORT WA US,20141210,130,0,0,189,100,67,170,160,157,206,1,-9999,-9999,-9999\\nGHCND:USW00024233,SEATTLE TACOMA INTERNATIONAL AIRPORT WA US,20141211,69,0,0,144,83,64,190,180,161,219,1,-9999,-9999,-9999\\nGHCND:USW00024233,SEATTLE TACOMA INTERNATIONAL AIRPORT WA US,20141212,0,0,0,111,72,37,190,200,116,157,-9999,-9999,-9999,-9999\\nGHCND:USW00024233,SEATTLE TACOMA INTERNATIONAL AIRPORT WA US,20141213,0,0,0,100,39,11,180,320,36,36,1,-9999,1,-9999\\nGHCND:USW00024233,SEATTLE TACOMA INTERNATIONAL AIRPORT WA US,20141214,0,0,0,128,17,35,110,120,98,134,1,-9999,1,-9999\\nGHCND:USW00024233,SEATTLE TACOMA INTERNATIONAL AIRPORT WA US,20141215,0,0,0,122,67,59,120,120,98,130,-9999,-9999,-9999,-9999\\nGHCND:USW00024233,SEATTLE TACOMA INTERNATIONAL AIRPORT WA US,20141216,0,0,-9999,100,83,40,110,110,67,98,-9999,-9999,-9999,-9999\\nGHCND:USW00024233,SEATTLE TACOMA INTERNATIONAL AIRPORT WA US,20141217,28,0,0,89,61,16,100,100,54,67,1,-9999,-9999,-9999\\nGHCND:USW00024233,SEATTLE TACOMA INTERNATIONAL AIRPORT WA US,20141218,130,0,0,94,67,31,120,110,67,98,1,-9999,-9999,-9999\\nGHCND:USW00024233,SEATTLE TACOMA INTERNATIONAL AIRPORT WA US,20141219,30,0,0,111,72,43,200,200,81,98,-9999,-9999,-9999,-9999\\nGHCND:USW00024233,SEATTLE TACOMA INTERNATIONAL AIRPORT WA US,20141220,196,0,0,128,67,55,220,220,125,206,1,-9999,-9999,-9999\\nGHCND:USW00024233,SEATTLE TACOMA INTERNATIONAL AIRPORT WA US,20141221,0,0,0,128,100,52,230,220,107,148,-9999,-9999,-9999,-9999\\nGHCND:USW00024233,SEATTLE TACOMA INTERNATIONAL AIRPORT WA US,20141222,0,0,0,106,61,15,220,220,58,76,-9999,-9999,-9999,-9999\\nGHCND:USW00024233,SEATTLE TACOMA INTERNATIONAL AIRPORT WA US,20141223,206,0,0,122,50,38,40,60,103,125,1,-9999,-9999,-9999\\nGHCND:USW00024233,SEATTLE TACOMA INTERNATIONAL AIRPORT WA US,20141224,53,0,0,72,39,18,170,190,40,58,1,-9999,-9999,-9999\\nGHCND:USW00024233,SEATTLE TACOMA INTERNATIONAL AIRPORT WA US,20141225,0,0,0,78,28,22,130,130,45,54,1,-9999,1,-9999\\nGHCND:USW00024233,SEATTLE TACOMA INTERNATIONAL AIRPORT WA US,20141226,0,0,0,56,17,12,160,160,45,54,1,-9999,1,-9999\\nGHCND:USW00024233,SEATTLE TACOMA INTERNATIONAL AIRPORT WA US,20141227,33,0,0,94,44,49,210,210,112,161,1,-9999,-9999,-9999\\nGHCND:USW00024233,SEATTLE TACOMA INTERNATIONAL AIRPORT WA US,20141228,41,0,0,67,28,18,50,30,58,72,1,-9999,-9999,-9999\\nGHCND:USW00024233,SEATTLE TACOMA INTERNATIONAL AIRPORT WA US,20141229,0,0,0,61,6,43,350,350,76,103,1,-9999,-9999,-9999\\nGHCND:USW00024233,SEATTLE TACOMA INTERNATIONAL AIRPORT WA US,20141230,0,0,0,33,-21,36,90,70,63,76,-9999,-9999,-9999,-9999\\nGHCND:USW00024233,SEATTLE TACOMA INTERNATIONAL AIRPORT WA US,20141231,0,0,0,33,-27,30,30,-9999,58,-9999,-9999,-9999,-9999,-9999\\n'}"
            ]
          },
          "metadata": {
            "tags": []
          },
          "execution_count": 192
        }
      ]
    },
    {
      "metadata": {
        "id": "MNuwDfEwL_W-",
        "colab_type": "code",
        "colab": {
          "base_uri": "https://localhost:8080/",
          "height": 35
        },
        "outputId": "975ef695-8c1d-432e-a97b-2252c7d1cb17"
      },
      "cell_type": "code",
      "source": [
        "rainfall = pd.read_csv('Seattle2014.csv')['PRCP'].values\n",
        "inches = rainfall / 254.0  # 1/10mm -> inches\n",
        "inches.shape"
      ],
      "execution_count": 193,
      "outputs": [
        {
          "output_type": "execute_result",
          "data": {
            "text/plain": [
              "(365,)"
            ]
          },
          "metadata": {
            "tags": []
          },
          "execution_count": 193
        }
      ]
    },
    {
      "metadata": {
        "id": "ZNwijoqzMEz3",
        "colab_type": "code",
        "colab": {
          "base_uri": "https://localhost:8080/",
          "height": 340
        },
        "outputId": "e4c03a27-2de1-429a-9394-45a8e5c93a9d"
      },
      "cell_type": "code",
      "source": [
        "plt.hist(inches, 40);"
      ],
      "execution_count": 269,
      "outputs": [
        {
          "output_type": "display_data",
          "data": {
            "image/png": "[encoded data removed]",
            "text/plain": [
              "<matplotlib.figure.Figure at 0x7f69061fadd8>"
            ]
          },
          "metadata": {
            "tags": []
          }
        }
      ]
    },
    {
      "metadata": {
        "id": "e6EtdWgUML73",
        "colab_type": "code",
        "colab": {}
      },
      "cell_type": "code",
      "source": [
        "x = np.array([1, 2, 3, 4, 5])"
      ],
      "execution_count": 0,
      "outputs": []
    },
    {
      "metadata": {
        "id": "Z1qr0F2EOcz8",
        "colab_type": "code",
        "colab": {
          "base_uri": "https://localhost:8080/",
          "height": 35
        },
        "outputId": "83e17bcd-4846-4674-8fa7-220b942fef6b"
      },
      "cell_type": "code",
      "source": [
        "E = x < 3\n",
        "E"
      ],
      "execution_count": 196,
      "outputs": [
        {
          "output_type": "execute_result",
          "data": {
            "text/plain": [
              "array([ True,  True, False, False, False])"
            ]
          },
          "metadata": {
            "tags": []
          },
          "execution_count": 196
        }
      ]
    },
    {
      "metadata": {
        "id": "8nX3D57COhMI",
        "colab_type": "code",
        "colab": {
          "base_uri": "https://localhost:8080/",
          "height": 35
        },
        "outputId": "563915a6-368d-4144-f635-bfad15bf9680"
      },
      "cell_type": "code",
      "source": [
        "x <= 3"
      ],
      "execution_count": 197,
      "outputs": [
        {
          "output_type": "execute_result",
          "data": {
            "text/plain": [
              "array([ True,  True,  True, False, False])"
            ]
          },
          "metadata": {
            "tags": []
          },
          "execution_count": 197
        }
      ]
    },
    {
      "metadata": {
        "id": "xZbUUZVcOmPw",
        "colab_type": "code",
        "colab": {
          "base_uri": "https://localhost:8080/",
          "height": 35
        },
        "outputId": "57bc5d33-757a-4383-a211-f80f5567e88c"
      },
      "cell_type": "code",
      "source": [
        "x != 3"
      ],
      "execution_count": 198,
      "outputs": [
        {
          "output_type": "execute_result",
          "data": {
            "text/plain": [
              "array([ True,  True, False,  True,  True])"
            ]
          },
          "metadata": {
            "tags": []
          },
          "execution_count": 198
        }
      ]
    },
    {
      "metadata": {
        "id": "y9Gybc2ZOpht",
        "colab_type": "code",
        "colab": {
          "base_uri": "https://localhost:8080/",
          "height": 35
        },
        "outputId": "8ead98cc-1523-46a7-90b8-137d3c4ea2ba"
      },
      "cell_type": "code",
      "source": [
        "x == 3"
      ],
      "execution_count": 199,
      "outputs": [
        {
          "output_type": "execute_result",
          "data": {
            "text/plain": [
              "array([False, False,  True, False, False])"
            ]
          },
          "metadata": {
            "tags": []
          },
          "execution_count": 199
        }
      ]
    },
    {
      "metadata": {
        "id": "8kRLAJdHOr_s",
        "colab_type": "code",
        "colab": {
          "base_uri": "https://localhost:8080/",
          "height": 35
        },
        "outputId": "c4fc03b4-0a14-477c-8d89-cd451af5347f"
      },
      "cell_type": "code",
      "source": [
        "(2 * x) == (x ** 2)"
      ],
      "execution_count": 200,
      "outputs": [
        {
          "output_type": "execute_result",
          "data": {
            "text/plain": [
              "array([False,  True, False, False, False])"
            ]
          },
          "metadata": {
            "tags": []
          },
          "execution_count": 200
        }
      ]
    },
    {
      "metadata": {
        "id": "jmafUDSAOvDq",
        "colab_type": "code",
        "colab": {
          "base_uri": "https://localhost:8080/",
          "height": 70
        },
        "outputId": "8b119b23-c216-4ece-a421-24a06408b08b"
      },
      "cell_type": "code",
      "source": [
        "rng = np.random.RandomState(0)\n",
        "x = rng.randint(10, size=(3, 4))\n",
        "x"
      ],
      "execution_count": 201,
      "outputs": [
        {
          "output_type": "execute_result",
          "data": {
            "text/plain": [
              "array([[5, 0, 3, 3],\n",
              "       [7, 9, 3, 5],\n",
              "       [2, 4, 7, 6]])"
            ]
          },
          "metadata": {
            "tags": []
          },
          "execution_count": 201
        }
      ]
    },
    {
      "metadata": {
        "id": "u6ndbcHYO0cY",
        "colab_type": "code",
        "colab": {
          "base_uri": "https://localhost:8080/",
          "height": 70
        },
        "outputId": "cf6bab1a-e63a-4976-af3a-5b7b73d47d84"
      },
      "cell_type": "code",
      "source": [
        "x < 6"
      ],
      "execution_count": 202,
      "outputs": [
        {
          "output_type": "execute_result",
          "data": {
            "text/plain": [
              "array([[ True,  True,  True,  True],\n",
              "       [False, False,  True,  True],\n",
              "       [ True,  True, False, False]])"
            ]
          },
          "metadata": {
            "tags": []
          },
          "execution_count": 202
        }
      ]
    },
    {
      "metadata": {
        "id": "4u-tcOcXO3g7",
        "colab_type": "code",
        "colab": {
          "base_uri": "https://localhost:8080/",
          "height": 70
        },
        "outputId": "b98de34f-8cf3-4aec-8b85-95d78afcfc23"
      },
      "cell_type": "code",
      "source": [
        "print(x)"
      ],
      "execution_count": 203,
      "outputs": [
        {
          "output_type": "stream",
          "text": [
            "[[5 0 3 3]\n",
            " [7 9 3 5]\n",
            " [2 4 7 6]]\n"
          ],
          "name": "stdout"
        }
      ]
    },
    {
      "metadata": {
        "id": "dB5MNRpLO7Th",
        "colab_type": "code",
        "colab": {
          "base_uri": "https://localhost:8080/",
          "height": 35
        },
        "outputId": "07d51314-560a-4838-9ae0-34e62c0a036d"
      },
      "cell_type": "code",
      "source": [
        "np.count_nonzero(x < 6)  #count True"
      ],
      "execution_count": 204,
      "outputs": [
        {
          "output_type": "execute_result",
          "data": {
            "text/plain": [
              "8"
            ]
          },
          "metadata": {
            "tags": []
          },
          "execution_count": 204
        }
      ]
    },
    {
      "metadata": {
        "id": "0CbwGuYIPF6H",
        "colab_type": "code",
        "colab": {
          "base_uri": "https://localhost:8080/",
          "height": 35
        },
        "outputId": "fc407c54-b550-41d6-be29-ffc95ce9ef3a"
      },
      "cell_type": "code",
      "source": [
        "np.sum(x < 6) #same with upper code"
      ],
      "execution_count": 205,
      "outputs": [
        {
          "output_type": "execute_result",
          "data": {
            "text/plain": [
              "8"
            ]
          },
          "metadata": {
            "tags": []
          },
          "execution_count": 205
        }
      ]
    },
    {
      "metadata": {
        "id": "0Pyy_-T5PLEv",
        "colab_type": "code",
        "colab": {
          "base_uri": "https://localhost:8080/",
          "height": 35
        },
        "outputId": "4595938d-2585-4564-d135-1c873fdad3a4"
      },
      "cell_type": "code",
      "source": [
        "#how many values less than 6 in each row?\n",
        "np.sum(x < 6, axis=1)"
      ],
      "execution_count": 206,
      "outputs": [
        {
          "output_type": "execute_result",
          "data": {
            "text/plain": [
              "array([4, 2, 2])"
            ]
          },
          "metadata": {
            "tags": []
          },
          "execution_count": 206
        }
      ]
    },
    {
      "metadata": {
        "id": "9eFJUwntPvlP",
        "colab_type": "code",
        "colab": {
          "base_uri": "https://localhost:8080/",
          "height": 35
        },
        "outputId": "8ed228fc-c4c8-451e-be51-a849eae0f322"
      },
      "cell_type": "code",
      "source": [
        "# are there any values greater than 8?\n",
        "np.any(x > 8)"
      ],
      "execution_count": 207,
      "outputs": [
        {
          "output_type": "execute_result",
          "data": {
            "text/plain": [
              "True"
            ]
          },
          "metadata": {
            "tags": []
          },
          "execution_count": 207
        }
      ]
    },
    {
      "metadata": {
        "id": "9BAThq7FP8R_",
        "colab_type": "code",
        "colab": {
          "base_uri": "https://localhost:8080/",
          "height": 35
        },
        "outputId": "0365111b-50d4-481d-fe12-a2976dd179c9"
      },
      "cell_type": "code",
      "source": [
        "# are there any values less than zero?\n",
        "np.any(x < 0)"
      ],
      "execution_count": 208,
      "outputs": [
        {
          "output_type": "execute_result",
          "data": {
            "text/plain": [
              "False"
            ]
          },
          "metadata": {
            "tags": []
          },
          "execution_count": 208
        }
      ]
    },
    {
      "metadata": {
        "id": "kmZ9iMd8P9fx",
        "colab_type": "code",
        "colab": {
          "base_uri": "https://localhost:8080/",
          "height": 35
        },
        "outputId": "c2f0ffcd-ef12-421a-d861-f57a334bea53"
      },
      "cell_type": "code",
      "source": [
        "# are all values less than 10?\n",
        "np.all(x < 10)"
      ],
      "execution_count": 209,
      "outputs": [
        {
          "output_type": "execute_result",
          "data": {
            "text/plain": [
              "True"
            ]
          },
          "metadata": {
            "tags": []
          },
          "execution_count": 209
        }
      ]
    },
    {
      "metadata": {
        "id": "wWOknJTWQAmF",
        "colab_type": "code",
        "colab": {
          "base_uri": "https://localhost:8080/",
          "height": 35
        },
        "outputId": "d7e53c31-c133-478a-c36f-a5735c5c348e"
      },
      "cell_type": "code",
      "source": [
        "# are all values equal to 6?\n",
        "np.all(x == 6)"
      ],
      "execution_count": 210,
      "outputs": [
        {
          "output_type": "execute_result",
          "data": {
            "text/plain": [
              "False"
            ]
          },
          "metadata": {
            "tags": []
          },
          "execution_count": 210
        }
      ]
    },
    {
      "metadata": {
        "id": "jYq7TdFoQDLE",
        "colab_type": "code",
        "colab": {
          "base_uri": "https://localhost:8080/",
          "height": 35
        },
        "outputId": "69d37c59-5645-4835-c437-ded70c804ed4"
      },
      "cell_type": "code",
      "source": [
        "# are all values in each row less than 8?\n",
        "np.all(x < 8, axis=1)"
      ],
      "execution_count": 211,
      "outputs": [
        {
          "output_type": "execute_result",
          "data": {
            "text/plain": [
              "array([ True, False,  True])"
            ]
          },
          "metadata": {
            "tags": []
          },
          "execution_count": 211
        }
      ]
    },
    {
      "metadata": {
        "id": "Dh3lFK8xQIoY",
        "colab_type": "code",
        "colab": {
          "base_uri": "https://localhost:8080/",
          "height": 35
        },
        "outputId": "afa69910-e5e6-4b2d-92dd-1541cc4c844c"
      },
      "cell_type": "code",
      "source": [
        "np.sum((inches > 0.5) & (inches < 1))"
      ],
      "execution_count": 212,
      "outputs": [
        {
          "output_type": "execute_result",
          "data": {
            "text/plain": [
              "29"
            ]
          },
          "metadata": {
            "tags": []
          },
          "execution_count": 212
        }
      ]
    },
    {
      "metadata": {
        "id": "OlUCBpWzTBAT",
        "colab_type": "code",
        "colab": {
          "base_uri": "https://localhost:8080/",
          "height": 35
        },
        "outputId": "65d1e505-6421-4728-d5cf-44e89e561921"
      },
      "cell_type": "code",
      "source": [
        "np.sum(~( (inches <= 0.5) | (inches >= 1) ))"
      ],
      "execution_count": 214,
      "outputs": [
        {
          "output_type": "execute_result",
          "data": {
            "text/plain": [
              "29"
            ]
          },
          "metadata": {
            "tags": []
          },
          "execution_count": 214
        }
      ]
    },
    {
      "metadata": {
        "id": "XuV6YyKvTM4E",
        "colab_type": "code",
        "colab": {
          "base_uri": "https://localhost:8080/",
          "height": 88
        },
        "outputId": "eed236d8-1879-48c4-86cc-244648eaf399"
      },
      "cell_type": "code",
      "source": [
        "print(\"Number days without rain:      \", np.sum(inches == 0))\n",
        "print(\"Number days with rain:         \", np.sum(inches != 0))\n",
        "print(\"Days with more than 0.5 inches:\", np.sum(inches > 0.5))\n",
        "print(\"Rainy days with < 0.2 inches  :\", np.sum((inches > 0) &\n",
        "                                                (inches < 0.2)))"
      ],
      "execution_count": 215,
      "outputs": [
        {
          "output_type": "stream",
          "text": [
            "Number days without rain:       215\n",
            "Number days with rain:          150\n",
            "Days with more than 0.5 inches: 37\n",
            "Rainy days with < 0.2 inches  : 75\n"
          ],
          "name": "stdout"
        }
      ]
    },
    {
      "metadata": {
        "id": "YuutrnDDTU87",
        "colab_type": "code",
        "colab": {
          "base_uri": "https://localhost:8080/",
          "height": 70
        },
        "outputId": "888abde1-afe4-4894-81ad-50e75220133b"
      },
      "cell_type": "code",
      "source": [
        "x"
      ],
      "execution_count": 216,
      "outputs": [
        {
          "output_type": "execute_result",
          "data": {
            "text/plain": [
              "array([[5, 0, 3, 3],\n",
              "       [7, 9, 3, 5],\n",
              "       [2, 4, 7, 6]])"
            ]
          },
          "metadata": {
            "tags": []
          },
          "execution_count": 216
        }
      ]
    },
    {
      "metadata": {
        "id": "r_SHlDGRTeEd",
        "colab_type": "code",
        "colab": {
          "base_uri": "https://localhost:8080/",
          "height": 70
        },
        "outputId": "34b507c9-f514-4be1-b2e5-88aa512f92e3"
      },
      "cell_type": "code",
      "source": [
        "x < 5"
      ],
      "execution_count": 217,
      "outputs": [
        {
          "output_type": "execute_result",
          "data": {
            "text/plain": [
              "array([[False,  True,  True,  True],\n",
              "       [False, False,  True, False],\n",
              "       [ True,  True, False, False]])"
            ]
          },
          "metadata": {
            "tags": []
          },
          "execution_count": 217
        }
      ]
    },
    {
      "metadata": {
        "id": "sNCp9XT7TlmS",
        "colab_type": "code",
        "colab": {
          "base_uri": "https://localhost:8080/",
          "height": 35
        },
        "outputId": "d43939cc-4795-413f-8281-c253d864b5ee"
      },
      "cell_type": "code",
      "source": [
        "x[x<5]"
      ],
      "execution_count": 219,
      "outputs": [
        {
          "output_type": "execute_result",
          "data": {
            "text/plain": [
              "array([0, 3, 3, 3, 2, 4])"
            ]
          },
          "metadata": {
            "tags": []
          },
          "execution_count": 219
        }
      ]
    },
    {
      "metadata": {
        "id": "jKX6zfU3TtlL",
        "colab_type": "code",
        "colab": {
          "base_uri": "https://localhost:8080/",
          "height": 88
        },
        "outputId": "39d6aa58-9d30-47f2-92ca-efe33ea883db"
      },
      "cell_type": "code",
      "source": [
        "# construct a mask of all rainy days\n",
        "rainy = (inches > 0)\n",
        "\n",
        "# construct a mask of all summer days (June 21st is the 172nd day)\n",
        "days = np.arange(365)\n",
        "summer = (days > 172) & (days < 262)\n",
        "\n",
        "print(\"Median precip on rainy days in 2014 (inches):   \",\n",
        "      np.median(inches[rainy]))\n",
        "print(\"Median precip on summer days in 2014 (inches):  \",\n",
        "      np.median(inches[summer]))\n",
        "print(\"Maximum precip on summer days in 2014 (inches): \",\n",
        "      np.max(inches[summer]))\n",
        "print(\"Median precip on non-summer rainy days (inches):\",\n",
        "      np.median(inches[rainy & ~summer]))"
      ],
      "execution_count": 220,
      "outputs": [
        {
          "output_type": "stream",
          "text": [
            "Median precip on rainy days in 2014 (inches):    0.19488188976377951\n",
            "Median precip on summer days in 2014 (inches):   0.0\n",
            "Maximum precip on summer days in 2014 (inches):  0.8503937007874016\n",
            "Median precip on non-summer rainy days (inches): 0.20078740157480315\n"
          ],
          "name": "stdout"
        }
      ]
    },
    {
      "metadata": {
        "id": "YxOFl84NTwzB",
        "colab_type": "code",
        "colab": {
          "base_uri": "https://localhost:8080/",
          "height": 35
        },
        "outputId": "6ac54e44-b991-4093-8431-afb113fc9469"
      },
      "cell_type": "code",
      "source": [
        "bool(42), bool(0)"
      ],
      "execution_count": 222,
      "outputs": [
        {
          "output_type": "execute_result",
          "data": {
            "text/plain": [
              "(True, False)"
            ]
          },
          "metadata": {
            "tags": []
          },
          "execution_count": 222
        }
      ]
    },
    {
      "metadata": {
        "id": "GHWJFnBQT8T5",
        "colab_type": "code",
        "colab": {
          "base_uri": "https://localhost:8080/",
          "height": 35
        },
        "outputId": "103a7052-30eb-4843-e10d-0e6fa38cd7e3"
      },
      "cell_type": "code",
      "source": [
        "bool(42 and 0)"
      ],
      "execution_count": 223,
      "outputs": [
        {
          "output_type": "execute_result",
          "data": {
            "text/plain": [
              "False"
            ]
          },
          "metadata": {
            "tags": []
          },
          "execution_count": 223
        }
      ]
    },
    {
      "metadata": {
        "id": "LxawF63bUCUm",
        "colab_type": "code",
        "colab": {
          "base_uri": "https://localhost:8080/",
          "height": 35
        },
        "outputId": "5255587a-8e75-445a-c91d-56f2e51a4c49"
      },
      "cell_type": "code",
      "source": [
        "bool(42 or 0)"
      ],
      "execution_count": 224,
      "outputs": [
        {
          "output_type": "execute_result",
          "data": {
            "text/plain": [
              "True"
            ]
          },
          "metadata": {
            "tags": []
          },
          "execution_count": 224
        }
      ]
    },
    {
      "metadata": {
        "id": "jbkSctDZUFpR",
        "colab_type": "code",
        "colab": {
          "base_uri": "https://localhost:8080/",
          "height": 35
        },
        "outputId": "f5dca40b-f761-4537-8762-35066a3c0b5e"
      },
      "cell_type": "code",
      "source": [
        "bin(42)"
      ],
      "execution_count": 225,
      "outputs": [
        {
          "output_type": "execute_result",
          "data": {
            "text/plain": [
              "'0b101010'"
            ]
          },
          "metadata": {
            "tags": []
          },
          "execution_count": 225
        }
      ]
    },
    {
      "metadata": {
        "id": "8laXgoVZUQYt",
        "colab_type": "code",
        "colab": {
          "base_uri": "https://localhost:8080/",
          "height": 35
        },
        "outputId": "f8e9c42e-49b4-4e12-9ee1-8a4823081fdb"
      },
      "cell_type": "code",
      "source": [
        "bin(59)"
      ],
      "execution_count": 226,
      "outputs": [
        {
          "output_type": "execute_result",
          "data": {
            "text/plain": [
              "'0b111011'"
            ]
          },
          "metadata": {
            "tags": []
          },
          "execution_count": 226
        }
      ]
    },
    {
      "metadata": {
        "id": "kGWRP-lcUS7p",
        "colab_type": "code",
        "colab": {
          "base_uri": "https://localhost:8080/",
          "height": 35
        },
        "outputId": "504bfc31-a2c2-455d-e8e0-47e6a6614417"
      },
      "cell_type": "code",
      "source": [
        "bin(42 & 59)"
      ],
      "execution_count": 227,
      "outputs": [
        {
          "output_type": "execute_result",
          "data": {
            "text/plain": [
              "'0b101010'"
            ]
          },
          "metadata": {
            "tags": []
          },
          "execution_count": 227
        }
      ]
    },
    {
      "metadata": {
        "id": "NnoCsHErUbRL",
        "colab_type": "code",
        "colab": {
          "base_uri": "https://localhost:8080/",
          "height": 35
        },
        "outputId": "1aeae842-55b9-44c9-a754-6b5f97b781ca"
      },
      "cell_type": "code",
      "source": [
        "bin(42 | 59)"
      ],
      "execution_count": 228,
      "outputs": [
        {
          "output_type": "execute_result",
          "data": {
            "text/plain": [
              "'0b111011'"
            ]
          },
          "metadata": {
            "tags": []
          },
          "execution_count": 228
        }
      ]
    },
    {
      "metadata": {
        "id": "RqABBkKzUdzc",
        "colab_type": "code",
        "colab": {
          "base_uri": "https://localhost:8080/",
          "height": 35
        },
        "outputId": "50d2d7a6-9b30-4c86-a917-0b28d4dadb08"
      },
      "cell_type": "code",
      "source": [
        "A = np.array([1, 0, 1, 0, 1, 0], dtype=bool)\n",
        "B = np.array([1, 1, 1, 0, 1, 1], dtype=bool)\n",
        "A | B"
      ],
      "execution_count": 229,
      "outputs": [
        {
          "output_type": "execute_result",
          "data": {
            "text/plain": [
              "array([ True,  True,  True, False,  True,  True])"
            ]
          },
          "metadata": {
            "tags": []
          },
          "execution_count": 229
        }
      ]
    },
    {
      "metadata": {
        "id": "fZ3Z37vgUht-",
        "colab_type": "code",
        "colab": {
          "base_uri": "https://localhost:8080/",
          "height": 52
        },
        "outputId": "46d5350c-9978-405f-df45-fffac471be11"
      },
      "cell_type": "code",
      "source": [
        "x = np.arange(10)\n",
        "(x > 4) & (x < 8)"
      ],
      "execution_count": 230,
      "outputs": [
        {
          "output_type": "execute_result",
          "data": {
            "text/plain": [
              "array([False, False, False, False, False,  True,  True,  True, False,\n",
              "       False])"
            ]
          },
          "metadata": {
            "tags": []
          },
          "execution_count": 230
        }
      ]
    },
    {
      "metadata": {
        "id": "2-5yVe_mUmvg",
        "colab_type": "text"
      },
      "cell_type": "markdown",
      "source": [
        "#Fancy Indexing"
      ]
    },
    {
      "metadata": {
        "id": "XMvNA9zPZgjn",
        "colab_type": "code",
        "colab": {
          "base_uri": "https://localhost:8080/",
          "height": 35
        },
        "outputId": "f0ee1774-1830-4f3d-c90e-41eb14643299"
      },
      "cell_type": "code",
      "source": [
        "rand = np.random.RandomState(42)\n",
        "\n",
        "x = rand.randint(100, size=10)\n",
        "print(x)"
      ],
      "execution_count": 231,
      "outputs": [
        {
          "output_type": "stream",
          "text": [
            "[51 92 14 71 60 20 82 86 74 74]\n"
          ],
          "name": "stdout"
        }
      ]
    },
    {
      "metadata": {
        "id": "33ulZF57au71",
        "colab_type": "code",
        "colab": {}
      },
      "cell_type": "code",
      "source": [
        "np.random.RandomState?"
      ],
      "execution_count": 0,
      "outputs": []
    },
    {
      "metadata": {
        "id": "yXM1PEPqazTf",
        "colab_type": "code",
        "colab": {
          "base_uri": "https://localhost:8080/",
          "height": 35
        },
        "outputId": "c9818761-3f1f-43da-e4c8-4a60c158011b"
      },
      "cell_type": "code",
      "source": [
        "[x[3], x[7], x[2]]"
      ],
      "execution_count": 233,
      "outputs": [
        {
          "output_type": "execute_result",
          "data": {
            "text/plain": [
              "[71, 86, 14]"
            ]
          },
          "metadata": {
            "tags": []
          },
          "execution_count": 233
        }
      ]
    },
    {
      "metadata": {
        "id": "gisWaI0zd1Jf",
        "colab_type": "code",
        "colab": {
          "base_uri": "https://localhost:8080/",
          "height": 35
        },
        "outputId": "6913d6ce-de7d-4fef-f1ea-7ca6dd411d8e"
      },
      "cell_type": "code",
      "source": [
        "ind = [3,7,4]  #same result\n",
        "x[ind]"
      ],
      "execution_count": 234,
      "outputs": [
        {
          "output_type": "execute_result",
          "data": {
            "text/plain": [
              "array([71, 86, 60])"
            ]
          },
          "metadata": {
            "tags": []
          },
          "execution_count": 234
        }
      ]
    },
    {
      "metadata": {
        "id": "f52Pno9Od5FB",
        "colab_type": "code",
        "colab": {
          "base_uri": "https://localhost:8080/",
          "height": 52
        },
        "outputId": "cf372c64-5573-4a44-b16b-2781f493aafa"
      },
      "cell_type": "code",
      "source": [
        "ind = np.array([[3, 7],\n",
        "                [4, 5]])\n",
        "x[ind]"
      ],
      "execution_count": 235,
      "outputs": [
        {
          "output_type": "execute_result",
          "data": {
            "text/plain": [
              "array([[71, 86],\n",
              "       [60, 20]])"
            ]
          },
          "metadata": {
            "tags": []
          },
          "execution_count": 235
        }
      ]
    },
    {
      "metadata": {
        "id": "j8PrraOChJuh",
        "colab_type": "code",
        "colab": {
          "base_uri": "https://localhost:8080/",
          "height": 70
        },
        "outputId": "dc05e3c5-9449-4f51-a7bd-1e3fde121292"
      },
      "cell_type": "code",
      "source": [
        "X = np.arange(12).reshape((3,4))\n",
        "X"
      ],
      "execution_count": 237,
      "outputs": [
        {
          "output_type": "execute_result",
          "data": {
            "text/plain": [
              "array([[ 0,  1,  2,  3],\n",
              "       [ 4,  5,  6,  7],\n",
              "       [ 8,  9, 10, 11]])"
            ]
          },
          "metadata": {
            "tags": []
          },
          "execution_count": 237
        }
      ]
    },
    {
      "metadata": {
        "id": "ezPmwPtfhQ9H",
        "colab_type": "code",
        "colab": {
          "base_uri": "https://localhost:8080/",
          "height": 35
        },
        "outputId": "65c76492-8c92-4bb5-ea81-02be2f7f3c3d"
      },
      "cell_type": "code",
      "source": [
        "row = np.array([0, 1, 2])\n",
        "col = np.array([2, 1, 3])\n",
        "X[row, col]"
      ],
      "execution_count": 238,
      "outputs": [
        {
          "output_type": "execute_result",
          "data": {
            "text/plain": [
              "array([ 2,  5, 11])"
            ]
          },
          "metadata": {
            "tags": []
          },
          "execution_count": 238
        }
      ]
    },
    {
      "metadata": {
        "id": "ube0wxzPhjfs",
        "colab_type": "code",
        "colab": {
          "base_uri": "https://localhost:8080/",
          "height": 206
        },
        "outputId": "2d74ea46-29ee-4a29-c679-5eb5055000ed"
      },
      "cell_type": "code",
      "source": [
        "row2 = np.array([2,3,4])\n",
        "col2 = np.array([1,2,3])\n",
        "X[row2, col2]"
      ],
      "execution_count": 242,
      "outputs": [
        {
          "output_type": "error",
          "ename": "IndexError",
          "evalue": "ignored",
          "traceback": [
            "\u001b[0;31m---------------------------------------------------------------------------\u001b[0m",
            "\u001b[0;31mIndexError\u001b[0m                                Traceback (most recent call last)",
            "\u001b[0;32m<ipython-input-242-f308897e56e9>\u001b[0m in \u001b[0;36m<module>\u001b[0;34m()\u001b[0m\n\u001b[1;32m      1\u001b[0m \u001b[0mrow2\u001b[0m \u001b[0;34m=\u001b[0m \u001b[0mnp\u001b[0m\u001b[0;34m.\u001b[0m\u001b[0marray\u001b[0m\u001b[0;34m(\u001b[0m\u001b[0;34m[\u001b[0m\u001b[0;36m2\u001b[0m\u001b[0;34m,\u001b[0m\u001b[0;36m3\u001b[0m\u001b[0;34m,\u001b[0m\u001b[0;36m4\u001b[0m\u001b[0;34m]\u001b[0m\u001b[0;34m)\u001b[0m\u001b[0;34m\u001b[0m\u001b[0;34m\u001b[0m\u001b[0m\n\u001b[1;32m      2\u001b[0m \u001b[0mcol2\u001b[0m \u001b[0;34m=\u001b[0m \u001b[0mnp\u001b[0m\u001b[0;34m.\u001b[0m\u001b[0marray\u001b[0m\u001b[0;34m(\u001b[0m\u001b[0;34m[\u001b[0m\u001b[0;36m1\u001b[0m\u001b[0;34m,\u001b[0m\u001b[0;36m2\u001b[0m\u001b[0;34m,\u001b[0m\u001b[0;36m3\u001b[0m\u001b[0;34m]\u001b[0m\u001b[0;34m)\u001b[0m\u001b[0;34m\u001b[0m\u001b[0;34m\u001b[0m\u001b[0m\n\u001b[0;32m----> 3\u001b[0;31m \u001b[0mX\u001b[0m\u001b[0;34m[\u001b[0m\u001b[0mrow2\u001b[0m\u001b[0;34m,\u001b[0m \u001b[0mcol2\u001b[0m\u001b[0;34m]\u001b[0m\u001b[0;34m\u001b[0m\u001b[0;34m\u001b[0m\u001b[0m\n\u001b[0m",
            "\u001b[0;31mIndexError\u001b[0m: index 3 is out of bounds for axis 0 with size 3"
          ]
        }
      ]
    },
    {
      "metadata": {
        "id": "xH5hfQYShvXa",
        "colab_type": "code",
        "colab": {
          "base_uri": "https://localhost:8080/",
          "height": 70
        },
        "outputId": "d7b4a027-0e0d-4c86-a64a-264689c24271"
      },
      "cell_type": "code",
      "source": [
        "X[row[:, np.newaxis], col]"
      ],
      "execution_count": 243,
      "outputs": [
        {
          "output_type": "execute_result",
          "data": {
            "text/plain": [
              "array([[ 2,  1,  3],\n",
              "       [ 6,  5,  7],\n",
              "       [10,  9, 11]])"
            ]
          },
          "metadata": {
            "tags": []
          },
          "execution_count": 243
        }
      ]
    },
    {
      "metadata": {
        "id": "rm5SzVQ8iHLj",
        "colab_type": "code",
        "colab": {}
      },
      "cell_type": "code",
      "source": [
        "row[:, np.newaxis] * col"
      ],
      "execution_count": 0,
      "outputs": []
    },
    {
      "metadata": {
        "id": "N-SzVwE7hssh",
        "colab_type": "code",
        "colab": {
          "base_uri": "https://localhost:8080/",
          "height": 70
        },
        "outputId": "0517cf67-24de-447a-9265-443e17d56527"
      },
      "cell_type": "code",
      "source": [
        "print(X)"
      ],
      "execution_count": 245,
      "outputs": [
        {
          "output_type": "stream",
          "text": [
            "[[ 0  1  2  3]\n",
            " [ 4  5  6  7]\n",
            " [ 8  9 10 11]]\n"
          ],
          "name": "stdout"
        }
      ]
    },
    {
      "metadata": {
        "id": "SAkMrEHbkOYl",
        "colab_type": "code",
        "colab": {
          "base_uri": "https://localhost:8080/",
          "height": 35
        },
        "outputId": "a97f3592-feb4-47a8-9a54-f2a20bd65966"
      },
      "cell_type": "code",
      "source": [
        "X[2, [2,0,1]]"
      ],
      "execution_count": 246,
      "outputs": [
        {
          "output_type": "execute_result",
          "data": {
            "text/plain": [
              "array([10,  8,  9])"
            ]
          },
          "metadata": {
            "tags": []
          },
          "execution_count": 246
        }
      ]
    },
    {
      "metadata": {
        "id": "ZIvSHbPfkTo-",
        "colab_type": "code",
        "colab": {
          "base_uri": "https://localhost:8080/",
          "height": 70
        },
        "outputId": "cb2a9365-259e-4faa-bdd5-5bf8769ab5c6"
      },
      "cell_type": "code",
      "source": [
        "mask = np.array([1, 0, 1, 0], dtype=bool)\n",
        "X[row[:, np.newaxis], mask]"
      ],
      "execution_count": 247,
      "outputs": [
        {
          "output_type": "execute_result",
          "data": {
            "text/plain": [
              "array([[ 0,  2],\n",
              "       [ 4,  6],\n",
              "       [ 8, 10]])"
            ]
          },
          "metadata": {
            "tags": []
          },
          "execution_count": 247
        }
      ]
    },
    {
      "metadata": {
        "id": "w-iag3Oskdne",
        "colab_type": "code",
        "colab": {
          "base_uri": "https://localhost:8080/",
          "height": 35
        },
        "outputId": "13748ede-c361-4754-cb19-d89e5bb0f8d0"
      },
      "cell_type": "code",
      "source": [
        "mean = [0, 0]\n",
        "cov = [[1, 2],\n",
        "       [2, 5]]\n",
        "X = rand.multivariate_normal(mean, cov, 100)\n",
        "X.shape"
      ],
      "execution_count": 248,
      "outputs": [
        {
          "output_type": "execute_result",
          "data": {
            "text/plain": [
              "(100, 2)"
            ]
          },
          "metadata": {
            "tags": []
          },
          "execution_count": 248
        }
      ]
    },
    {
      "metadata": {
        "id": "Bvct1eVnkikv",
        "colab_type": "code",
        "colab": {
          "base_uri": "https://localhost:8080/",
          "height": 188
        },
        "outputId": "34f73fb6-366d-4c24-9659-013cf04664b9"
      },
      "cell_type": "code",
      "source": [
        "plt.scatter(X[:, 0], X[:, 1]);"
      ],
      "execution_count": 252,
      "outputs": [
        {
          "output_type": "error",
          "ename": "TypeError",
          "evalue": "ignored",
          "traceback": [
            "\u001b[0;31m---------------------------------------------------------------------------\u001b[0m",
            "\u001b[0;31mTypeError\u001b[0m                                 Traceback (most recent call last)",
            "\u001b[0;32m<ipython-input-252-5ccb2e18306b>\u001b[0m in \u001b[0;36m<module>\u001b[0;34m()\u001b[0m\n\u001b[0;32m----> 1\u001b[0;31m \u001b[0mplt\u001b[0m\u001b[0;34m.\u001b[0m\u001b[0mrcParams\u001b[0m\u001b[0;34m(\u001b[0m\u001b[0mfigsize\u001b[0m \u001b[0;34m=\u001b[0m \u001b[0;34m(\u001b[0m\u001b[0;36m15\u001b[0m\u001b[0;34m,\u001b[0m\u001b[0;36m10\u001b[0m\u001b[0;34m)\u001b[0m\u001b[0;34m)\u001b[0m\u001b[0;34m\u001b[0m\u001b[0;34m\u001b[0m\u001b[0m\n\u001b[0m\u001b[1;32m      2\u001b[0m \u001b[0mplt\u001b[0m\u001b[0;34m.\u001b[0m\u001b[0mscatter\u001b[0m\u001b[0;34m(\u001b[0m\u001b[0mX\u001b[0m\u001b[0;34m[\u001b[0m\u001b[0;34m:\u001b[0m\u001b[0;34m,\u001b[0m \u001b[0;36m0\u001b[0m\u001b[0;34m]\u001b[0m\u001b[0;34m,\u001b[0m \u001b[0mX\u001b[0m\u001b[0;34m[\u001b[0m\u001b[0;34m:\u001b[0m\u001b[0;34m,\u001b[0m \u001b[0;36m1\u001b[0m\u001b[0;34m]\u001b[0m\u001b[0;34m)\u001b[0m\u001b[0;34m;\u001b[0m\u001b[0;34m\u001b[0m\u001b[0;34m\u001b[0m\u001b[0m\n",
            "\u001b[0;31mTypeError\u001b[0m: 'RcParams' object is not callable"
          ]
        }
      ]
    },
    {
      "metadata": {
        "id": "bYCAU6w6km8_",
        "colab_type": "code",
        "colab": {
          "base_uri": "https://localhost:8080/",
          "height": 52
        },
        "outputId": "ce34d734-8803-44ec-fd6f-b0816ca6c5ea"
      },
      "cell_type": "code",
      "source": [
        "indices = np.random.choice(X.shape[0], 20, replace=False)\n",
        "indices"
      ],
      "execution_count": 253,
      "outputs": [
        {
          "output_type": "execute_result",
          "data": {
            "text/plain": [
              "array([22, 34, 30, 40, 27, 12, 65,  5, 54, 74, 78, 96, 70, 18, 72, 89, 29,\n",
              "       45, 36, 88])"
            ]
          },
          "metadata": {
            "tags": []
          },
          "execution_count": 253
        }
      ]
    },
    {
      "metadata": {
        "id": "U7K5Ci4ilJAf",
        "colab_type": "code",
        "colab": {
          "base_uri": "https://localhost:8080/",
          "height": 35
        },
        "outputId": "8ebe8388-b7bf-49ed-a9dd-8937f6132616"
      },
      "cell_type": "code",
      "source": [
        "selection = X[indices]  # fancy indexing here\n",
        "selection.shape"
      ],
      "execution_count": 266,
      "outputs": [
        {
          "output_type": "execute_result",
          "data": {
            "text/plain": [
              "(20, 2)"
            ]
          },
          "metadata": {
            "tags": []
          },
          "execution_count": 266
        }
      ]
    },
    {
      "metadata": {
        "id": "zBmT0Booofkp",
        "colab_type": "code",
        "colab": {}
      },
      "cell_type": "code",
      "source": [
        "plt.rcParams['figure.figsize'] = (15, 5)"
      ],
      "execution_count": 0,
      "outputs": []
    },
    {
      "metadata": {
        "id": "4FvtiQOglMam",
        "colab_type": "code",
        "colab": {
          "base_uri": "https://localhost:8080/",
          "height": 340
        },
        "outputId": "b66b582f-8140-4bc5-fe0e-f47ad36969a6"
      },
      "cell_type": "code",
      "source": [
        "plt.scatter(X[:, 0], X[:, 1], alpha=0.7)\n",
        "plt.scatter(selection[:, 0], selection[:, 1],\n",
        "            facecolor='none', s=300);"
      ],
      "execution_count": 268,
      "outputs": [
        {
          "output_type": "display_data",
          "data": {
            "image/png": "[encoded data removed]",
            "text/plain": [
              "<matplotlib.figure.Figure at 0x7f6906191080>"
            ]
          },
          "metadata": {
            "tags": []
          }
        }
      ]
    },
    {
      "metadata": {
        "id": "2xLkQo6TlO-1",
        "colab_type": "code",
        "colab": {
          "base_uri": "https://localhost:8080/",
          "height": 35
        },
        "outputId": "d6a17738-1858-433e-8c1c-c05c69f3e678"
      },
      "cell_type": "code",
      "source": [
        "x = np.arange(10)\n",
        "i = np.array([2, 1, 8, 4])\n",
        "x[i] = 99\n",
        "print(x)"
      ],
      "execution_count": 258,
      "outputs": [
        {
          "output_type": "stream",
          "text": [
            "[ 0 99 99  3 99  5  6  7 99  9]\n"
          ],
          "name": "stdout"
        }
      ]
    },
    {
      "metadata": {
        "id": "sLBFbGsPndJN",
        "colab_type": "code",
        "colab": {
          "base_uri": "https://localhost:8080/",
          "height": 35
        },
        "outputId": "4a115bc2-4745-4c63-e89e-d30c091a134f"
      },
      "cell_type": "code",
      "source": [
        "x[i] -= 10\n",
        "print(x)"
      ],
      "execution_count": 259,
      "outputs": [
        {
          "output_type": "stream",
          "text": [
            "[ 0 89 89  3 89  5  6  7 89  9]\n"
          ],
          "name": "stdout"
        }
      ]
    },
    {
      "metadata": {
        "id": "aW1RZSwlnes4",
        "colab_type": "code",
        "colab": {
          "base_uri": "https://localhost:8080/",
          "height": 35
        },
        "outputId": "f6334734-47f0-4d0b-9107-89e7bfa0f6df"
      },
      "cell_type": "code",
      "source": [
        "x = np.zeros(10)\n",
        "x[[0, 0]] = [4, 6]\n",
        "print(x)"
      ],
      "execution_count": 260,
      "outputs": [
        {
          "output_type": "stream",
          "text": [
            "[6. 0. 0. 0. 0. 0. 0. 0. 0. 0.]\n"
          ],
          "name": "stdout"
        }
      ]
    },
    {
      "metadata": {
        "id": "3R2zYBJAnhj6",
        "colab_type": "code",
        "colab": {
          "base_uri": "https://localhost:8080/",
          "height": 35
        },
        "outputId": "489fcee3-708b-4a85-e620-4760db548965"
      },
      "cell_type": "code",
      "source": [
        "i = [2, 3, 3, 4, 4, 4]\n",
        "x[i] += 1\n",
        "x"
      ],
      "execution_count": 261,
      "outputs": [
        {
          "output_type": "execute_result",
          "data": {
            "text/plain": [
              "array([6., 0., 1., 1., 1., 0., 0., 0., 0., 0.])"
            ]
          },
          "metadata": {
            "tags": []
          },
          "execution_count": 261
        }
      ]
    },
    {
      "metadata": {
        "id": "4iABTkJcnlDC",
        "colab_type": "code",
        "colab": {
          "base_uri": "https://localhost:8080/",
          "height": 35
        },
        "outputId": "bb38238b-f279-4abd-8013-cd0d4af57bde"
      },
      "cell_type": "code",
      "source": [
        "x = np.zeros(10)\n",
        "np.add.at(x, i, 1)\n",
        "print(x)"
      ],
      "execution_count": 262,
      "outputs": [
        {
          "output_type": "stream",
          "text": [
            "[0. 0. 1. 2. 3. 0. 0. 0. 0. 0.]\n"
          ],
          "name": "stdout"
        }
      ]
    },
    {
      "metadata": {
        "id": "TmyhcoBhnoSW",
        "colab_type": "code",
        "colab": {}
      },
      "cell_type": "code",
      "source": [
        "np.random.seed(42)\n",
        "x = np.random.randn(100)\n",
        "\n",
        "# compute a histogram by hand\n",
        "bins = np.linspace(-5, 5, 20)\n",
        "counts = np.zeros_like(bins)\n",
        "\n",
        "# find the appropriate bin for each x\n",
        "i = np.searchsorted(bins, x)\n",
        "\n",
        "# add 1 to each of these bins\n",
        "np.add.at(counts, i, 1)"
      ],
      "execution_count": 0,
      "outputs": []
    },
    {
      "metadata": {
        "id": "xFK8dYGCnvj3",
        "colab_type": "code",
        "colab": {}
      },
      "cell_type": "code",
      "source": [
        "plt.rcParamsDefault?"
      ],
      "execution_count": 0,
      "outputs": []
    },
    {
      "metadata": {
        "id": "reBm0njmny8a",
        "colab_type": "code",
        "colab": {
          "base_uri": "https://localhost:8080/",
          "height": 340
        },
        "outputId": "cb643445-aebc-499a-ff0c-79b2cbd30c20"
      },
      "cell_type": "code",
      "source": [
        "plt.plot(bins, counts, linestyle='steps');"
      ],
      "execution_count": 270,
      "outputs": [
        {
          "output_type": "display_data",
          "data": {
            "image/png": "[encoded data removed]",
            "text/plain": [
              "<matplotlib.figure.Figure at 0x7f690606a7b8>"
            ]
          },
          "metadata": {
            "tags": []
          }
        }
      ]
    },
    {
      "metadata": {
        "id": "QdWtphFspAGz",
        "colab_type": "code",
        "colab": {
          "base_uri": "https://localhost:8080/",
          "height": 340
        },
        "outputId": "13076034-b179-459c-a469-17faff84e762"
      },
      "cell_type": "code",
      "source": [
        "plt.hist(x, bins, histtype='step');"
      ],
      "execution_count": 271,
      "outputs": [
        {
          "output_type": "display_data",
          "data": {
            "image/png": "[encoded data removed]",
            "text/plain": [
              "<matplotlib.figure.Figure at 0x7f690601ba90>"
            ]
          },
          "metadata": {
            "tags": []
          }
        }
      ]
    },
    {
      "metadata": {
        "id": "SuZ3wRgVou5t",
        "colab_type": "code",
        "colab": {
          "base_uri": "https://localhost:8080/",
          "height": 144
        },
        "outputId": "46be66ed-76a5-4fc7-b0ef-69d2b9c0a806"
      },
      "cell_type": "code",
      "source": [
        "print(\"NumPy routine:\")\n",
        "%timeit counts, edges = np.histogram(x, bins)\n",
        "\n",
        "print(\"Custom routine:\")\n",
        "%timeit np.add.at(counts, np.searchsorted(bins, x), 1)"
      ],
      "execution_count": 272,
      "outputs": [
        {
          "output_type": "stream",
          "text": [
            "NumPy routine:\n",
            "The slowest run took 5.68 times longer than the fastest. This could mean that an intermediate result is being cached.\n",
            "10000 loops, best of 3: 73.6 µs per loop\n",
            "Custom routine:\n",
            "The slowest run took 18.51 times longer than the fastest. This could mean that an intermediate result is being cached.\n",
            "100000 loops, best of 3: 15.4 µs per loop\n"
          ],
          "name": "stdout"
        }
      ]
    },
    {
      "metadata": {
        "id": "3C-tcvUupCJp",
        "colab_type": "code",
        "colab": {
          "base_uri": "https://localhost:8080/",
          "height": 88
        },
        "outputId": "2d6ae61d-80c1-49bf-de08-5ece43d8b9e9"
      },
      "cell_type": "code",
      "source": [
        "x = np.random.randn(1000000)\n",
        "print(\"NumPy routine:\")\n",
        "%timeit counts, edges = np.histogram(x, bins)\n",
        "\n",
        "print(\"Custom routine:\")\n",
        "%timeit np.add.at(counts, np.searchsorted(bins, x), 1)"
      ],
      "execution_count": 273,
      "outputs": [
        {
          "output_type": "stream",
          "text": [
            "NumPy routine:\n",
            "10 loops, best of 3: 79.6 ms per loop\n",
            "Custom routine:\n",
            "10 loops, best of 3: 125 ms per loop\n"
          ],
          "name": "stdout"
        }
      ]
    },
    {
      "metadata": {
        "id": "nj8pJDYipKqD",
        "colab_type": "text"
      },
      "cell_type": "markdown",
      "source": [
        "#Sorting Arrays"
      ]
    },
    {
      "metadata": {
        "id": "HpbH43RNpQEX",
        "colab_type": "code",
        "colab": {}
      },
      "cell_type": "code",
      "source": [
        "def selection_sort(x):\n",
        "    for i in range(len(x)):\n",
        "        swap = i + np.argmin(x[i:])\n",
        "        (x[i], x[swap]) = (x[swap], x[i])\n",
        "    return x"
      ],
      "execution_count": 0,
      "outputs": []
    },
    {
      "metadata": {
        "id": "5bUk8VjEpW7K",
        "colab_type": "code",
        "colab": {}
      },
      "cell_type": "code",
      "source": [
        "np.argmin?"
      ],
      "execution_count": 0,
      "outputs": []
    },
    {
      "metadata": {
        "id": "YBJ6G7ttt8x1",
        "colab_type": "text"
      },
      "cell_type": "markdown",
      "source": [
        "Fast Sorting in NumPy: np.sort and np.argsort"
      ]
    },
    {
      "metadata": {
        "id": "5QPcqeKbptUl",
        "colab_type": "code",
        "colab": {
          "base_uri": "https://localhost:8080/",
          "height": 35
        },
        "outputId": "a89a8b1b-907d-4508-911e-80074f77fa9c"
      },
      "cell_type": "code",
      "source": [
        "x = np.array([2, 1, 4, 3, 5])\n",
        "selection_sort(x)"
      ],
      "execution_count": 277,
      "outputs": [
        {
          "output_type": "execute_result",
          "data": {
            "text/plain": [
              "array([1, 2, 3, 4, 5])"
            ]
          },
          "metadata": {
            "tags": []
          },
          "execution_count": 277
        }
      ]
    },
    {
      "metadata": {
        "id": "yqs7bjT_pyDT",
        "colab_type": "code",
        "colab": {
          "base_uri": "https://localhost:8080/",
          "height": 35
        },
        "outputId": "c061c94f-7d7c-4ea5-ee17-2b5ada354a24"
      },
      "cell_type": "code",
      "source": [
        "y = np.array([4,8,1,2,6])\n",
        "selection_sort(y)"
      ],
      "execution_count": 279,
      "outputs": [
        {
          "output_type": "execute_result",
          "data": {
            "text/plain": [
              "array([1, 2, 4, 6, 8])"
            ]
          },
          "metadata": {
            "tags": []
          },
          "execution_count": 279
        }
      ]
    },
    {
      "metadata": {
        "id": "3K69bdG_p9HS",
        "colab_type": "code",
        "colab": {}
      },
      "cell_type": "code",
      "source": [
        "def bogosort(x):\n",
        "    while np.any(x[:-1] > x[1:]):\n",
        "        np.random.shuffle(x)\n",
        "    return x"
      ],
      "execution_count": 0,
      "outputs": []
    },
    {
      "metadata": {
        "id": "VJBhkoBus5dl",
        "colab_type": "code",
        "colab": {
          "base_uri": "https://localhost:8080/",
          "height": 35
        },
        "outputId": "efff01c2-82cf-4940-d2a9-afa4f4ef060c"
      },
      "cell_type": "code",
      "source": [
        "x = np.array([2, 1, 4, 3, 5])\n",
        "bogosort(x)"
      ],
      "execution_count": 282,
      "outputs": [
        {
          "output_type": "execute_result",
          "data": {
            "text/plain": [
              "array([1, 2, 3, 4, 5])"
            ]
          },
          "metadata": {
            "tags": []
          },
          "execution_count": 282
        }
      ]
    },
    {
      "metadata": {
        "id": "9rZsSVxws-Uw",
        "colab_type": "code",
        "colab": {
          "base_uri": "https://localhost:8080/",
          "height": 35
        },
        "outputId": "e975edac-7960-49e9-a758-553d9b0abe0f"
      },
      "cell_type": "code",
      "source": [
        "x = np.array([2, 1, 4, 3, 5])\n",
        "np.sort(x)"
      ],
      "execution_count": 283,
      "outputs": [
        {
          "output_type": "execute_result",
          "data": {
            "text/plain": [
              "array([1, 2, 3, 4, 5])"
            ]
          },
          "metadata": {
            "tags": []
          },
          "execution_count": 283
        }
      ]
    },
    {
      "metadata": {
        "id": "rMwb2_RTtCW7",
        "colab_type": "code",
        "colab": {
          "base_uri": "https://localhost:8080/",
          "height": 35
        },
        "outputId": "cc1ba412-a899-4831-cb6c-ada79df4acf4"
      },
      "cell_type": "code",
      "source": [
        "x.sort()\n",
        "print(x)"
      ],
      "execution_count": 284,
      "outputs": [
        {
          "output_type": "stream",
          "text": [
            "[1 2 3 4 5]\n"
          ],
          "name": "stdout"
        }
      ]
    },
    {
      "metadata": {
        "id": "dGwURKXntF_s",
        "colab_type": "code",
        "colab": {
          "base_uri": "https://localhost:8080/",
          "height": 35
        },
        "outputId": "9a83b415-c3e9-4b65-a4ab-3d9da9097ab4"
      },
      "cell_type": "code",
      "source": [
        "x = np.array([2, 1, 4, 3, 5])\n",
        "i = np.argsort(x)\n",
        "print(i)  #returns the indices"
      ],
      "execution_count": 285,
      "outputs": [
        {
          "output_type": "stream",
          "text": [
            "[1 0 3 2 4]\n"
          ],
          "name": "stdout"
        }
      ]
    },
    {
      "metadata": {
        "id": "TJe6Nv43tP_c",
        "colab_type": "code",
        "colab": {
          "base_uri": "https://localhost:8080/",
          "height": 35
        },
        "outputId": "5fda891f-0cf4-4448-cd7f-33cc76414271"
      },
      "cell_type": "code",
      "source": [
        "x[i]"
      ],
      "execution_count": 286,
      "outputs": [
        {
          "output_type": "execute_result",
          "data": {
            "text/plain": [
              "array([1, 2, 3, 4, 5])"
            ]
          },
          "metadata": {
            "tags": []
          },
          "execution_count": 286
        }
      ]
    },
    {
      "metadata": {
        "id": "L-w9SiIMtwbS",
        "colab_type": "text"
      },
      "cell_type": "markdown",
      "source": [
        "Sorting along row or columns"
      ]
    },
    {
      "metadata": {
        "id": "wM1vvx_UtXDw",
        "colab_type": "code",
        "colab": {
          "base_uri": "https://localhost:8080/",
          "height": 88
        },
        "outputId": "48c7dc74-8f49-4707-9053-c0d440537395"
      },
      "cell_type": "code",
      "source": [
        "rand = np.random.RandomState(42)\n",
        "X = rand.randint(0, 10, (4, 6))\n",
        "print(X)"
      ],
      "execution_count": 287,
      "outputs": [
        {
          "output_type": "stream",
          "text": [
            "[[6 3 7 4 6 9]\n",
            " [2 6 7 4 3 7]\n",
            " [7 2 5 4 1 7]\n",
            " [5 1 4 0 9 5]]\n"
          ],
          "name": "stdout"
        }
      ]
    },
    {
      "metadata": {
        "id": "AsA3w3detbcZ",
        "colab_type": "code",
        "colab": {
          "base_uri": "https://localhost:8080/",
          "height": 88
        },
        "outputId": "1802dbef-613e-435c-82fb-db9208541061"
      },
      "cell_type": "code",
      "source": [
        "np.sort(X, axis=0)"
      ],
      "execution_count": 288,
      "outputs": [
        {
          "output_type": "execute_result",
          "data": {
            "text/plain": [
              "array([[2, 1, 4, 0, 1, 5],\n",
              "       [5, 2, 5, 4, 3, 7],\n",
              "       [6, 3, 7, 4, 6, 7],\n",
              "       [7, 6, 7, 4, 9, 9]])"
            ]
          },
          "metadata": {
            "tags": []
          },
          "execution_count": 288
        }
      ]
    },
    {
      "metadata": {
        "id": "z09NzOBhteRl",
        "colab_type": "code",
        "colab": {
          "base_uri": "https://localhost:8080/",
          "height": 88
        },
        "outputId": "fb4a2a91-1727-4798-ea51-e6a56282681c"
      },
      "cell_type": "code",
      "source": [
        "np.sort(X, axis=1)"
      ],
      "execution_count": 289,
      "outputs": [
        {
          "output_type": "execute_result",
          "data": {
            "text/plain": [
              "array([[3, 4, 6, 6, 7, 9],\n",
              "       [2, 3, 4, 6, 7, 7],\n",
              "       [1, 2, 4, 5, 7, 7],\n",
              "       [0, 1, 4, 5, 5, 9]])"
            ]
          },
          "metadata": {
            "tags": []
          },
          "execution_count": 289
        }
      ]
    },
    {
      "metadata": {
        "id": "QnLlkKTAthCJ",
        "colab_type": "text"
      },
      "cell_type": "markdown",
      "source": [
        "Partial Sorts: Partitioning"
      ]
    },
    {
      "metadata": {
        "id": "PMPuAWZwtqJn",
        "colab_type": "code",
        "colab": {
          "base_uri": "https://localhost:8080/",
          "height": 35
        },
        "outputId": "efd03613-cf8f-4eb0-dddf-c010dab746c2"
      },
      "cell_type": "code",
      "source": [
        "x = np.array([7, 2, 3, 1, 6, 5, 4])\n",
        "np.partition(x, 3)"
      ],
      "execution_count": 290,
      "outputs": [
        {
          "output_type": "execute_result",
          "data": {
            "text/plain": [
              "array([2, 1, 3, 4, 6, 5, 7])"
            ]
          },
          "metadata": {
            "tags": []
          },
          "execution_count": 290
        }
      ]
    },
    {
      "metadata": {
        "id": "l-s4W5Zxts-x",
        "colab_type": "code",
        "colab": {
          "base_uri": "https://localhost:8080/",
          "height": 88
        },
        "outputId": "e555de32-e2af-4254-8069-49a6e1a36b6c"
      },
      "cell_type": "code",
      "source": [
        "np.partition(X, 2, axis=1)"
      ],
      "execution_count": 291,
      "outputs": [
        {
          "output_type": "execute_result",
          "data": {
            "text/plain": [
              "array([[3, 4, 6, 7, 6, 9],\n",
              "       [2, 3, 4, 7, 6, 7],\n",
              "       [1, 2, 4, 5, 7, 7],\n",
              "       [0, 1, 4, 5, 9, 5]])"
            ]
          },
          "metadata": {
            "tags": []
          },
          "execution_count": 291
        }
      ]
    }
  ]
}