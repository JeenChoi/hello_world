{
  "nbformat": 4,
  "nbformat_minor": 0,
  "metadata": {
    "colab": {
      "name": "연습문제",
      "version": "0.3.2",
      "provenance": [],
      "collapsed_sections": []
    },
    "kernelspec": {
      "name": "python2",
      "display_name": "Python 2"
    }
  },
  "cells": [
    {
      "metadata": {
        "id": "KVYktIRa_6XU",
        "colab_type": "code",
        "outputId": "41016cf8-ee22-4875-bf18-aaf9412f850f",
        "colab": {
          "base_uri": "https://localhost:8080/",
          "height": 36
        }
      },
      "cell_type": "code",
      "source": [
        "#[2-1 문제 1] 점수의 평균\n",
        "(80+75+55)/3"
      ],
      "execution_count": 0,
      "outputs": [
        {
          "output_type": "execute_result",
          "data": {
            "text/plain": [
              "70"
            ]
          },
          "metadata": {
            "tags": []
          },
          "execution_count": 1
        }
      ]
    },
    {
      "metadata": {
        "id": "UQ_1D4O1MLk0",
        "colab_type": "code",
        "outputId": "014d3d94-ad6a-4019-9457-69e3287328ad",
        "colab": {
          "base_uri": "https://localhost:8080/",
          "height": 36
        }
      },
      "cell_type": "code",
      "source": [
        "#[2-1 문제2] 나눗셈의 몫\n",
        "17 / 3"
      ],
      "execution_count": 0,
      "outputs": [
        {
          "output_type": "execute_result",
          "data": {
            "text/plain": [
              "5"
            ]
          },
          "metadata": {
            "tags": []
          },
          "execution_count": 3
        }
      ]
    },
    {
      "metadata": {
        "id": "wQ63zFh7MPx7",
        "colab_type": "code",
        "outputId": "1d7d31c9-bb89-4eb9-d372-8d97f5bd5966",
        "colab": {
          "base_uri": "https://localhost:8080/",
          "height": 36
        }
      },
      "cell_type": "code",
      "source": [
        "#[2-1 문제3] 나눗셈의 나머지\n",
        "17 % 3"
      ],
      "execution_count": 0,
      "outputs": [
        {
          "output_type": "execute_result",
          "data": {
            "text/plain": [
              "2"
            ]
          },
          "metadata": {
            "tags": []
          },
          "execution_count": 4
        }
      ]
    },
    {
      "metadata": {
        "id": "djbCaYRQMeoz",
        "colab_type": "code",
        "outputId": "8332d934-de22-47af-ab71-504d0f4c8667",
        "colab": {
          "base_uri": "https://localhost:8080/",
          "height": 55
        }
      },
      "cell_type": "code",
      "source": [
        "#[2-1 문제4_version 1] 자연수의 홀짝\n",
        "def odd_even_number_distinction(num):\n",
        "  if (num % 2) == 0:\n",
        "    print('짝수')\n",
        "  elif (num % 2) == 1:\n",
        "    print ('홀수')\n",
        "  else:\n",
        "    print ('자연수가 아닙니다. 다시 입력하세요')\n",
        "    \n",
        "odd_even_number_distinction(2)\n",
        "odd_even_number_distinction(3.2)"
      ],
      "execution_count": 0,
      "outputs": [
        {
          "output_type": "stream",
          "text": [
            "짝수\n",
            "자연수가 아닙니다. 다시 입력하세요\n"
          ],
          "name": "stdout"
        }
      ]
    },
    {
      "metadata": {
        "id": "ZBEKdba2Uzoy",
        "colab_type": "code",
        "colab": {}
      },
      "cell_type": "code",
      "source": [
        "#[문제4 _version 2] 자연수의 홀짝\n",
        "def num_distinction():\n",
        "  #짝수와 홀수를 판단하는 함수입니다.\n",
        "  num = input(\"자연수를 입력하세요: \")\n",
        "  if (num % 2) == 0:\n",
        "    print('짝수')\n",
        "  elif (num % 2) == 1:\n",
        "    print ('홀수')\n",
        "  else:\n",
        "    input('자연수가 아닙니다. 다시 입력하세요: ')\n",
        "    \n",
        "##input으로 해보아도 '자연수를 입력하세요'가 뜨지 않습니다ㅠㅠ "
      ],
      "execution_count": 0,
      "outputs": []
    },
    {
      "metadata": {
        "id": "tagY4vjUZk0F",
        "colab_type": "code",
        "outputId": "1f70b01b-d115-4aa8-e5b5-734b2486e366",
        "colab": {
          "base_uri": "https://localhost:8080/",
          "height": 36
        }
      },
      "cell_type": "code",
      "source": [
        "#[2-2 문제1] 문자열 출력1\n",
        "print ('\"점프 투 파이썬\" 문제를 풀어보자')"
      ],
      "execution_count": 0,
      "outputs": [
        {
          "output_type": "stream",
          "text": [
            "\"점프 투 파이썬\" 문제를 풀어보자\n"
          ],
          "name": "stdout"
        }
      ]
    },
    {
      "metadata": {
        "id": "frckcMZJaViP",
        "colab_type": "code",
        "outputId": "b971472a-71bb-40ad-beed-c9c27ab2ae3b",
        "colab": {
          "base_uri": "https://localhost:8080/",
          "height": 55
        }
      },
      "cell_type": "code",
      "source": [
        "#[2-2 문제2]\n",
        "print (\"\"\"Life is too short\n",
        "You need Python\"\"\")"
      ],
      "execution_count": 0,
      "outputs": [
        {
          "output_type": "stream",
          "text": [
            "Life is too short\n",
            "You need Python\n"
          ],
          "name": "stdout"
        }
      ]
    },
    {
      "metadata": {
        "id": "5UxQ2u_VagM8",
        "colab_type": "code",
        "outputId": "ac8a655f-21ee-4c31-8dfd-a10c879e45a0",
        "colab": {
          "base_uri": "https://localhost:8080/",
          "height": 36
        }
      },
      "cell_type": "code",
      "source": [
        "#[2-2 문제3]\n",
        "print(\" \"*24 + \"PYTHON\")"
      ],
      "execution_count": 0,
      "outputs": [
        {
          "output_type": "stream",
          "text": [
            "                        PYTHON\n"
          ],
          "name": "stdout"
        }
      ]
    },
    {
      "metadata": {
        "id": "xALaWOava-Tf",
        "colab_type": "code",
        "outputId": "59f1461f-0c21-4aab-8bbc-2510e117f6e6",
        "colab": {
          "base_uri": "https://localhost:8080/",
          "height": 55
        }
      },
      "cell_type": "code",
      "source": [
        "#[2-2 문제4]\n",
        "a = \"881120-1068234\"\n",
        "birthday = \"19\"+ a[0:2] + a[2:4] + a[4:6]\n",
        "c= a[7:]\n",
        "\n",
        "print birthday\n",
        "print c"
      ],
      "execution_count": 0,
      "outputs": [
        {
          "output_type": "stream",
          "text": [
            "19881120\n",
            "1068234\n"
          ],
          "name": "stdout"
        }
      ]
    },
    {
      "metadata": {
        "id": "O7dAr_1UivLO",
        "colab_type": "code",
        "outputId": "c26c6df7-8d9a-4b1b-a291-84da2d0cbf79",
        "colab": {
          "base_uri": "https://localhost:8080/",
          "height": 36
        }
      },
      "cell_type": "code",
      "source": [
        "#[2-2 문제5]\n",
        "pin = \"881120-1068234\"\n",
        "pin[7]"
      ],
      "execution_count": 0,
      "outputs": [
        {
          "output_type": "execute_result",
          "data": {
            "text/plain": [
              "'1'"
            ]
          },
          "metadata": {
            "tags": []
          },
          "execution_count": 112
        }
      ]
    },
    {
      "metadata": {
        "id": "jugGpgGgjRrn",
        "colab_type": "code",
        "outputId": "bdd5c9b2-cc77-4f56-ef26-eb3253983d70",
        "colab": {
          "base_uri": "https://localhost:8080/",
          "height": 36
        }
      },
      "cell_type": "code",
      "source": [
        "#[2-2 문제6]\n",
        "a = \"1980M1120\"\n",
        "a[4] + a[:4] + a[5:]"
      ],
      "execution_count": 0,
      "outputs": [
        {
          "output_type": "execute_result",
          "data": {
            "text/plain": [
              "'M19801120'"
            ]
          },
          "metadata": {
            "tags": []
          },
          "execution_count": 115
        }
      ]
    },
    {
      "metadata": {
        "id": "gsUJVOKhkwGu",
        "colab_type": "code",
        "outputId": "363fa3f6-63d7-4e57-e2e1-c0c43b4c6658",
        "colab": {
          "base_uri": "https://localhost:8080/",
          "height": 36
        }
      },
      "cell_type": "code",
      "source": [
        "#[2-2 문제7]\n",
        "a = \"LIfe is too short. You need Python\"\n",
        "a.find('s',7)"
      ],
      "execution_count": 0,
      "outputs": [
        {
          "output_type": "execute_result",
          "data": {
            "text/plain": [
              "12"
            ]
          },
          "metadata": {
            "tags": []
          },
          "execution_count": 129
        }
      ]
    },
    {
      "metadata": {
        "id": "Y64Xe6Ijm2A7",
        "colab_type": "code",
        "colab": {}
      },
      "cell_type": "code",
      "source": [
        "#[2-2 문제8]\n",
        "a = \"a:b:c:d\"\n",
        "a.replace(\":\", \"#\")"
      ],
      "execution_count": 0,
      "outputs": []
    },
    {
      "metadata": {
        "id": "3GKFQbLzmwCf",
        "colab_type": "code",
        "outputId": "f48d42f3-306b-4282-9611-818eae8be7cc",
        "colab": {
          "base_uri": "https://localhost:8080/",
          "height": 36
        }
      },
      "cell_type": "code",
      "source": [
        "#[2-2 문제9]\n",
        "a = \"a:b:c:d\"\n",
        "b = a.split(':')\n",
        "c=\"#\"\n",
        "c.join(b)"
      ],
      "execution_count": 0,
      "outputs": [
        {
          "output_type": "execute_result",
          "data": {
            "text/plain": [
              "'a#b#c#d'"
            ]
          },
          "metadata": {
            "tags": []
          },
          "execution_count": 142
        }
      ]
    },
    {
      "metadata": {
        "id": "rekuseaBrDsb",
        "colab_type": "code",
        "outputId": "8204a81f-a5c5-40d4-c674-d30c19a869e4",
        "colab": {
          "base_uri": "https://localhost:8080/",
          "height": 36
        }
      },
      "cell_type": "code",
      "source": [
        "#[2-3 문제1]\n",
        "a = ['Life', 'is', 'too', 'short', 'you', 'need', 'python']\n",
        "a[4] + \" \" + a[2]"
      ],
      "execution_count": 0,
      "outputs": [
        {
          "output_type": "execute_result",
          "data": {
            "text/plain": [
              "'you too'"
            ]
          },
          "metadata": {
            "tags": []
          },
          "execution_count": 144
        }
      ]
    },
    {
      "metadata": {
        "id": "rRx-jbCVvNL4",
        "colab_type": "code",
        "outputId": "2b2fa5e4-d3b8-4b3a-8c83-f430ef0506a1",
        "colab": {
          "base_uri": "https://localhost:8080/",
          "height": 36
        }
      },
      "cell_type": "code",
      "source": [
        "#[2-3 문제2]\n",
        "a = ['Life', 'is', 'too', 'short']\n",
        "b = \" \"\n",
        "b.join(a)"
      ],
      "execution_count": 0,
      "outputs": [
        {
          "output_type": "execute_result",
          "data": {
            "text/plain": [
              "'Life is too short'"
            ]
          },
          "metadata": {
            "tags": []
          },
          "execution_count": 147
        }
      ]
    },
    {
      "metadata": {
        "id": "6BJiQb6oqxlZ",
        "colab_type": "code",
        "outputId": "f8399ae6-9aa8-43d2-a022-9b3ba9d814b0",
        "colab": {
          "base_uri": "https://localhost:8080/",
          "height": 36
        }
      },
      "cell_type": "code",
      "source": [
        "#[2-3 문제3]\n",
        "a = [1, 2, 3]\n",
        "len(a)"
      ],
      "execution_count": 0,
      "outputs": [
        {
          "output_type": "execute_result",
          "data": {
            "text/plain": [
              "3"
            ]
          },
          "metadata": {
            "tags": []
          },
          "execution_count": 148
        }
      ]
    },
    {
      "metadata": {
        "id": "HU0G6zAVxTdn",
        "colab_type": "code",
        "outputId": "f151dedf-550b-4e3c-cff2-9f6b9ecb9103",
        "colab": {
          "base_uri": "https://localhost:8080/",
          "height": 55
        }
      },
      "cell_type": "code",
      "source": [
        "#[2-3 문제4]\n",
        "a = [1, 2, 3]\n",
        "a.append([4,5]) # 리스트 마지막에 새로운 리스트로 '[4,5]' 추가\n",
        "print (a)\n",
        "b = [1, 2, 3]   # 리스트 마지막에 각각 리스트 요소로서 '4', '5' 추가\n",
        "b.extend([4,5])\n",
        "print (b)"
      ],
      "execution_count": 0,
      "outputs": [
        {
          "output_type": "stream",
          "text": [
            "[1, 2, 3, [4, 5]]\n",
            "[1, 2, 3, 4, 5]\n"
          ],
          "name": "stdout"
        }
      ]
    },
    {
      "metadata": {
        "id": "9sWjce_sn7F9",
        "colab_type": "code",
        "outputId": "d9b7928e-5fd8-4c48-cc41-334b5772b9dc",
        "colab": {
          "base_uri": "https://localhost:8080/",
          "height": 36
        }
      },
      "cell_type": "code",
      "source": [
        "#[2-3 문제5]\n",
        "a = [1,3,5,4,2]\n",
        "a.sort()\n",
        "a.reverse()\n",
        "print(a)"
      ],
      "execution_count": 0,
      "outputs": [
        {
          "output_type": "stream",
          "text": [
            "[5, 4, 3, 2, 1]\n"
          ],
          "name": "stdout"
        }
      ]
    },
    {
      "metadata": {
        "id": "34T8N2_3mgy6",
        "colab_type": "code",
        "outputId": "d73c32b3-9ac1-438b-eb66-f7e7b10b5ab7",
        "colab": {
          "base_uri": "https://localhost:8080/",
          "height": 36
        }
      },
      "cell_type": "code",
      "source": [
        "#[2-3 문제6]\n",
        "a = [1,2,3,4,5]\n",
        "a.remove(2)\n",
        "a.remove(4)\n",
        "print(a)"
      ],
      "execution_count": 0,
      "outputs": [
        {
          "output_type": "stream",
          "text": [
            "[1, 3, 5]\n"
          ],
          "name": "stdout"
        }
      ]
    },
    {
      "metadata": {
        "id": "UmvfReSp1QSc",
        "colab_type": "code",
        "colab": {}
      },
      "cell_type": "code",
      "source": [
        "#[2-4 문제1]\n",
        "t1=(3,)"
      ],
      "execution_count": 0,
      "outputs": []
    },
    {
      "metadata": {
        "id": "2iZTN_Eo4If8",
        "colab_type": "code",
        "outputId": "d743ac02-2c4e-4948-bce3-55a5e7c95430",
        "colab": {
          "base_uri": "https://localhost:8080/",
          "height": 139
        }
      },
      "cell_type": "code",
      "source": [
        "#[2-4 문제2]\n",
        ">>> a = (1, 2, 3)\n",
        ">>> a[1] = 4\n",
        "Traceback (most recent call last):\n",
        "  File \"<stdin>\", line 1, in <module>\n",
        "TypeError: 'tuple' object does not support item assignment\n",
        "# 위에 쓰인 바와 같이 한 번 정해진 튜플은 대체될 수 없다."
      ],
      "execution_count": 0,
      "outputs": [
        {
          "output_type": "error",
          "ename": "SyntaxError",
          "evalue": "ignored",
          "traceback": [
            "\u001b[0;36m  File \u001b[0;32m\"<ipython-input-172-0544a49bdc6d>\"\u001b[0;36m, line \u001b[0;32m3\u001b[0m\n\u001b[0;31m    Traceback (most recent call last):\u001b[0m\n\u001b[0m                         ^\u001b[0m\n\u001b[0;31mSyntaxError\u001b[0m\u001b[0;31m:\u001b[0m invalid syntax\n"
          ]
        }
      ]
    },
    {
      "metadata": {
        "id": "mbTrQJiT4aeU",
        "colab_type": "code",
        "outputId": "b416df5e-b49d-4ae5-c961-384a4eb6d7f4",
        "colab": {
          "base_uri": "https://localhost:8080/",
          "height": 36
        }
      },
      "cell_type": "code",
      "source": [
        "#[2-4 문제3]\n",
        "t1 = (1,2,3)\n",
        "t2 = (4,)\n",
        "t1 + t2"
      ],
      "execution_count": 0,
      "outputs": [
        {
          "output_type": "execute_result",
          "data": {
            "text/plain": [
              "(1, 2, 3, 4)"
            ]
          },
          "metadata": {
            "tags": []
          },
          "execution_count": 174
        }
      ]
    },
    {
      "metadata": {
        "id": "qjSiGA0c42BG",
        "colab_type": "code",
        "colab": {}
      },
      "cell_type": "code",
      "source": [
        "#[2-5 문제1]\n",
        "dic = {'name':'홍길동', 'birth':'1128', 'age':'30'}"
      ],
      "execution_count": 0,
      "outputs": []
    },
    {
      "metadata": {
        "id": "zbTOH7TQIsNn",
        "colab_type": "code",
        "colab": {}
      },
      "cell_type": "code",
      "source": [
        "#[2-5 문제2]\n",
        "# 3번 / 딕셔너리 a 의 key 값에는 변형이 가능한 리스트가 올 수 없다."
      ],
      "execution_count": 0,
      "outputs": []
    },
    {
      "metadata": {
        "id": "mUx1ZhgwJLe1",
        "colab_type": "code",
        "outputId": "6514fcea-d7a7-4ced-fce3-cb32dd07d6bb",
        "colab": {
          "base_uri": "https://localhost:8080/",
          "height": 55
        }
      },
      "cell_type": "code",
      "source": [
        "#[2-5 문제3]\n",
        "a = {'A':90, 'B':80, 'C':70}\n",
        "print(a['B'])\n",
        "del a ['B']\n",
        "print(a)"
      ],
      "execution_count": 0,
      "outputs": [
        {
          "output_type": "stream",
          "text": [
            "80\n",
            "{'A': 90, 'C': 70}\n"
          ],
          "name": "stdout"
        }
      ]
    },
    {
      "metadata": {
        "id": "nqj2qXV6Kw-p",
        "colab_type": "code",
        "outputId": "3cc37821-afbe-43aa-975a-ff0f8e37f894",
        "colab": {
          "base_uri": "https://localhost:8080/",
          "height": 55
        }
      },
      "cell_type": "code",
      "source": [
        "#[2-5 문제4]\n",
        "a = {'A':90, 'B':80}\n",
        "a['C'] = 70\n",
        "print(a)\n",
        "a['C']"
      ],
      "execution_count": 0,
      "outputs": [
        {
          "output_type": "stream",
          "text": [
            "{'A': 90, 'C': 70, 'B': 80}\n"
          ],
          "name": "stdout"
        },
        {
          "output_type": "execute_result",
          "data": {
            "text/plain": [
              "70"
            ]
          },
          "metadata": {
            "tags": []
          },
          "execution_count": 204
        }
      ]
    },
    {
      "metadata": {
        "id": "NR3yeynpL6Pr",
        "colab_type": "code",
        "outputId": "a3c32547-cd14-4b80-d1ab-b8b754f1d603",
        "colab": {
          "base_uri": "https://localhost:8080/",
          "height": 36
        }
      },
      "cell_type": "code",
      "source": [
        "#[2-5 문제5]\n",
        "a = {'A':90, 'B':80, 'C':70}\n",
        "print(min(a.values()))"
      ],
      "execution_count": 0,
      "outputs": [
        {
          "output_type": "stream",
          "text": [
            "70\n"
          ],
          "name": "stdout"
        }
      ]
    },
    {
      "metadata": {
        "id": "sAs9bqORKprv",
        "colab_type": "code",
        "outputId": "1a331a7e-c105-4176-b318-b0dded0bb5f7",
        "colab": {
          "base_uri": "https://localhost:8080/",
          "height": 36
        }
      },
      "cell_type": "code",
      "source": [
        "#[2-5 문제6]\n",
        "a = {'A':90, 'B':80, 'C':70}\n",
        "a.items()"
      ],
      "execution_count": 0,
      "outputs": [
        {
          "output_type": "execute_result",
          "data": {
            "text/plain": [
              "[('A', 90), ('C', 70), ('B', 80)]"
            ]
          },
          "metadata": {
            "tags": []
          },
          "execution_count": 200
        }
      ]
    },
    {
      "metadata": {
        "id": "2i2a1pU1KYlF",
        "colab_type": "code",
        "outputId": "55fd16f4-a44e-4885-8e4f-755e60867a49",
        "colab": {
          "base_uri": "https://localhost:8080/",
          "height": 36
        }
      },
      "cell_type": "code",
      "source": [
        "#[2-6 문제1]\n",
        "s1 = set(['a', 'b', 'c'])\n",
        "s1"
      ],
      "execution_count": 0,
      "outputs": [
        {
          "output_type": "execute_result",
          "data": {
            "text/plain": [
              "{'a', 'b', 'c'}"
            ]
          },
          "metadata": {
            "tags": []
          },
          "execution_count": 208
        }
      ]
    },
    {
      "metadata": {
        "id": "oJqMQ3RfJ7b_",
        "colab_type": "code",
        "outputId": "845cf70a-bab2-4efd-f535-883a4a7cd40e",
        "colab": {
          "base_uri": "https://localhost:8080/",
          "height": 36
        }
      },
      "cell_type": "code",
      "source": [
        "#[2-6 문제2]\n",
        "a = [1, 1, 1, 2, 2, 3, 3, 3, 4, 4, 5]\n",
        "s1 = set(a)\n",
        "s1"
      ],
      "execution_count": 0,
      "outputs": [
        {
          "output_type": "execute_result",
          "data": {
            "text/plain": [
              "{1, 2, 3, 4, 5}"
            ]
          },
          "metadata": {
            "tags": []
          },
          "execution_count": 211
        }
      ]
    },
    {
      "metadata": {
        "id": "3wRw6FYiJ2cE",
        "colab_type": "code",
        "outputId": "fb4d8b06-c11a-4e08-84e9-9cbb64d73d38",
        "colab": {
          "base_uri": "https://localhost:8080/",
          "height": 36
        }
      },
      "cell_type": "code",
      "source": [
        "#[2-6 문제3]\n",
        "s1 = set(['a', 'b', 'c', 'd', 'e'])\n",
        "s2 = set(['c', 'd', 'e', 'f', 'g'])\n",
        "\n",
        "s3 = s1-s2\n",
        "s4 = s1.difference(s2)\n",
        "\n",
        "s3==s4"
      ],
      "execution_count": 0,
      "outputs": [
        {
          "output_type": "execute_result",
          "data": {
            "text/plain": [
              "True"
            ]
          },
          "metadata": {
            "tags": []
          },
          "execution_count": 216
        }
      ]
    },
    {
      "metadata": {
        "id": "1KqJ3WNmMHZ1",
        "colab_type": "code",
        "outputId": "9b200be7-32bd-43e3-dafb-3965642df7dd",
        "colab": {
          "base_uri": "https://localhost:8080/",
          "height": 36
        }
      },
      "cell_type": "code",
      "source": [
        "#[2-6 문제4]\n",
        "a = {'a', 'b', 'c'}\n",
        "a - a\n"
      ],
      "execution_count": 0,
      "outputs": [
        {
          "output_type": "execute_result",
          "data": {
            "text/plain": [
              "set()"
            ]
          },
          "metadata": {
            "tags": []
          },
          "execution_count": 218
        }
      ]
    },
    {
      "metadata": {
        "id": "_eFcZ_Y2Sc2S",
        "colab_type": "code",
        "outputId": "964a7960-a926-4134-f7f0-6341714dd865",
        "colab": {
          "base_uri": "https://localhost:8080/",
          "height": 36
        }
      },
      "cell_type": "code",
      "source": [
        "#[2-6 문제5]\n",
        "a = {'a', 'b', 'c'}\n",
        "a.update(['d', 'e', 'f'])\n",
        "a"
      ],
      "execution_count": 0,
      "outputs": [
        {
          "output_type": "execute_result",
          "data": {
            "text/plain": [
              "{'a', 'b', 'c', 'd', 'e', 'f'}"
            ]
          },
          "metadata": {
            "tags": []
          },
          "execution_count": 225
        }
      ]
    },
    {
      "metadata": {
        "id": "TJMoTXwKS0wZ",
        "colab_type": "code",
        "outputId": "4214565f-dacb-4bd0-d6fd-b88dfe2432ab",
        "colab": {
          "base_uri": "https://localhost:8080/",
          "height": 36
        }
      },
      "cell_type": "code",
      "source": [
        "#[2-7 문제1]\n",
        "1 != 1                     # False\n",
        "3 > 1                      # True\n",
        "'a' in 'abc'               -----# False?!\n",
        "'a' not in [1, 2, 3]       # True\n"
      ],
      "execution_count": 0,
      "outputs": [
        {
          "output_type": "execute_result",
          "data": {
            "text/plain": [
              "True"
            ]
          },
          "metadata": {
            "tags": []
          },
          "execution_count": 228
        }
      ]
    },
    {
      "metadata": {
        "id": "m3eixwPXS6LR",
        "colab_type": "code",
        "outputId": "6413ca27-5d78-4863-9e4a-29dacd444873",
        "colab": {
          "base_uri": "https://localhost:8080/",
          "height": 36
        }
      },
      "cell_type": "code",
      "source": [
        "#[2-7 문제2]\n",
        "a = \"python\"\n",
        "bool(a)"
      ],
      "execution_count": 0,
      "outputs": [
        {
          "output_type": "execute_result",
          "data": {
            "text/plain": [
              "True"
            ]
          },
          "metadata": {
            "tags": []
          },
          "execution_count": 236
        }
      ]
    },
    {
      "metadata": {
        "id": "x4ba15xbU4uJ",
        "colab_type": "code",
        "outputId": "320c9f8d-224a-45ae-e050-7ac283c10faf",
        "colab": {
          "base_uri": "https://localhost:8080/",
          "height": 36
        }
      },
      "cell_type": "code",
      "source": [
        "b = \"\"\n",
        "bool(b)"
      ],
      "execution_count": 0,
      "outputs": [
        {
          "output_type": "execute_result",
          "data": {
            "text/plain": [
              "False"
            ]
          },
          "metadata": {
            "tags": []
          },
          "execution_count": 237
        }
      ]
    },
    {
      "metadata": {
        "id": "Z2sVhzLxU7pQ",
        "colab_type": "code",
        "outputId": "bebf41d5-62fd-4476-add8-014b1d3033c7",
        "colab": {
          "base_uri": "https://localhost:8080/",
          "height": 36
        }
      },
      "cell_type": "code",
      "source": [
        "c = (1,2,3)\n",
        "bool(c)"
      ],
      "execution_count": 0,
      "outputs": [
        {
          "output_type": "execute_result",
          "data": {
            "text/plain": [
              "True"
            ]
          },
          "metadata": {
            "tags": []
          },
          "execution_count": 238
        }
      ]
    },
    {
      "metadata": {
        "id": "4iGDGtRCVBJG",
        "colab_type": "code",
        "outputId": "e59c5421-fe0a-42c7-d30c-124654a0409d",
        "colab": {
          "base_uri": "https://localhost:8080/",
          "height": 36
        }
      },
      "cell_type": "code",
      "source": [
        "d = 0\n",
        "bool(d)"
      ],
      "execution_count": 0,
      "outputs": [
        {
          "output_type": "execute_result",
          "data": {
            "text/plain": [
              "False"
            ]
          },
          "metadata": {
            "tags": []
          },
          "execution_count": 239
        }
      ]
    },
    {
      "metadata": {
        "id": "EAFtWyu1VB6A",
        "colab_type": "code",
        "outputId": "7f6fe4e3-3a45-492b-c225-54e174195ff2",
        "colab": {
          "base_uri": "https://localhost:8080/",
          "height": 36
        }
      },
      "cell_type": "code",
      "source": [
        "#[2-8 문제1]\n",
        "a = [1, 2, 3]\n",
        "b = [1, 2, 3]\n",
        "a is b\n",
        "\n",
        "#False / a와 b가 가르키는 객체가 서로 다름."
      ],
      "execution_count": 0,
      "outputs": [
        {
          "output_type": "execute_result",
          "data": {
            "text/plain": [
              "False"
            ]
          },
          "metadata": {
            "tags": []
          },
          "execution_count": 255
        }
      ]
    },
    {
      "metadata": {
        "id": "6py-HF81S6li",
        "colab_type": "code",
        "outputId": "d0297829-7135-47fe-e231-50d40eb4e6c8",
        "colab": {
          "base_uri": "https://localhost:8080/",
          "height": 36
        }
      },
      "cell_type": "code",
      "source": [
        "#[2-8 문제2]\n",
        "a = [1, 2, 3]\n",
        "b = a\n",
        "a is b\n",
        "\n",
        "# True / b=a라고 정의"
      ],
      "execution_count": 0,
      "outputs": [
        {
          "output_type": "execute_result",
          "data": {
            "text/plain": [
              "True"
            ]
          },
          "metadata": {
            "tags": []
          },
          "execution_count": 257
        }
      ]
    },
    {
      "metadata": {
        "id": "I4sScS6kcSjg",
        "colab_type": "code",
        "outputId": "132c7f3f-ea58-4ad1-ea83-176437cca40e",
        "colab": {
          "base_uri": "https://localhost:8080/",
          "height": 36
        }
      },
      "cell_type": "code",
      "source": [
        "#[2-8 문제3]\n",
        "a = b = [1, 2, 3]\n",
        "a[1] = 4\n",
        "print(b)\n",
        "\n",
        "# b는 a와 객체가 같다고 정의되었으므로 list a 가 변화하면 b도 a와 같이 변화한다."
      ],
      "execution_count": 0,
      "outputs": [
        {
          "output_type": "stream",
          "text": [
            "[1, 4, 3]\n"
          ],
          "name": "stdout"
        }
      ]
    },
    {
      "metadata": {
        "id": "QChysuWqcVxI",
        "colab_type": "code",
        "colab": {}
      },
      "cell_type": "code",
      "source": [
        "#[2-8 문제4]\n",
        "a = [1, 2, 3]\n",
        "b = a[:]\n",
        "a is b\n",
        "\n",
        "# False / 객체도 다르고 리스트 값도 다르다.\n"
      ],
      "execution_count": 0,
      "outputs": []
    },
    {
      "metadata": {
        "id": "pfaZTR7ycWr7",
        "colab_type": "code",
        "outputId": "25a591d2-1082-455d-8842-9dbb0312c0dd",
        "colab": {
          "base_uri": "https://localhost:8080/",
          "height": 36
        }
      },
      "cell_type": "code",
      "source": [
        "#[2-8 문제5]\n",
        "a = [1, 2, 3]\n",
        "b = a[:]\n",
        "a[1] = 4\n",
        "\n",
        "print(b)\n",
        "# [1, 2, 3]으로 출력된다. 리스트 값만 동일하게 b가 복사되었기 때문이다."
      ],
      "execution_count": 0,
      "outputs": [
        {
          "output_type": "stream",
          "text": [
            "[1, 2, 3]\n"
          ],
          "name": "stdout"
        }
      ]
    },
    {
      "metadata": {
        "id": "wf1yObHEcXF6",
        "colab_type": "code",
        "colab": {}
      },
      "cell_type": "code",
      "source": [
        "#[2-8 문제6]\n",
        "#"
      ],
      "execution_count": 0,
      "outputs": []
    },
    {
      "metadata": {
        "id": "VHKxg9XkcX4v",
        "colab_type": "code",
        "colab": {}
      },
      "cell_type": "code",
      "source": [
        "#[2-8 문제7]\n"
      ],
      "execution_count": 0,
      "outputs": []
    },
    {
      "metadata": {
        "id": "mqxEBG6hglI1",
        "colab_type": "code",
        "outputId": "a760e7e0-2094-426b-c0ba-44ba0eaa77af",
        "colab": {
          "base_uri": "https://localhost:8080/",
          "height": 36
        }
      },
      "cell_type": "code",
      "source": [
        "#[3-1 문제1]\n",
        "money = 5000\n",
        "card = False\n",
        "\n",
        "if money>= 4000:\n",
        "  print(\"택시이용가능\")\n",
        "elif card == True:\n",
        "  print(\"택시이용가능\")\n",
        "else:\n",
        "  print(\"택시이용불가\")"
      ],
      "execution_count": 0,
      "outputs": [
        {
          "output_type": "stream",
          "text": [
            "택시이용가능\n"
          ],
          "name": "stdout"
        }
      ]
    },
    {
      "metadata": {
        "id": "clZbfnW0gpN1",
        "colab_type": "code",
        "outputId": "5259b254-0dc5-4681-ad37-a887d54af983",
        "colab": {
          "base_uri": "https://localhost:8080/",
          "height": 36
        }
      },
      "cell_type": "code",
      "source": [
        "#[3-1 문제2]\n",
        "lucky_list = [1, 9, 23, 46]\n",
        "\n",
        "if 23 in lucky_list:\n",
        "  print(\"야호!\")"
      ],
      "execution_count": 0,
      "outputs": [
        {
          "output_type": "stream",
          "text": [
            "야호!\n"
          ],
          "name": "stdout"
        }
      ]
    },
    {
      "metadata": {
        "id": "78pNvVNsgr6M",
        "colab_type": "code",
        "colab": {}
      },
      "cell_type": "code",
      "source": [
        "#[3-1 문제3]\n",
        "\n",
        "# 2-1장 문제와 동일..."
      ],
      "execution_count": 0,
      "outputs": []
    },
    {
      "metadata": {
        "id": "SaMedTXmgshX",
        "colab_type": "code",
        "outputId": "224609b0-1c51-492c-ad60-443c086685a0",
        "colab": {
          "base_uri": "https://localhost:8080/",
          "height": 251
        }
      },
      "cell_type": "code",
      "source": [
        "#[3-1 문제4]\n",
        "dic = {'나이':30,'키':180}\n",
        "\n",
        "if dic.values('나이') < 30 and dic.values('키')>= 175:\n",
        "  print (\"YES\")\n",
        "else:\n",
        "  print (\"NO\")"
      ],
      "execution_count": 0,
      "outputs": [
        {
          "output_type": "error",
          "ename": "TypeError",
          "evalue": "ignored",
          "traceback": [
            "\u001b[0;31m\u001b[0m",
            "\u001b[0;31mTypeError\u001b[0mTraceback (most recent call last)",
            "\u001b[0;32m<ipython-input-278-fce78ea89538>\u001b[0m in \u001b[0;36m<module>\u001b[0;34m()\u001b[0m\n\u001b[1;32m      1\u001b[0m \u001b[0mdic\u001b[0m \u001b[0;34m=\u001b[0m \u001b[0;34m{\u001b[0m\u001b[0;34m'나이'\u001b[0m\u001b[0;34m:\u001b[0m\u001b[0;36m30\u001b[0m\u001b[0;34m,\u001b[0m\u001b[0;34m'키'\u001b[0m\u001b[0;34m:\u001b[0m\u001b[0;36m180\u001b[0m\u001b[0;34m}\u001b[0m\u001b[0;34m\u001b[0m\u001b[0m\n\u001b[1;32m      2\u001b[0m \u001b[0;34m\u001b[0m\u001b[0m\n\u001b[0;32m----> 3\u001b[0;31m \u001b[0;32mif\u001b[0m \u001b[0mdic\u001b[0m\u001b[0;34m.\u001b[0m\u001b[0mvalues\u001b[0m\u001b[0;34m(\u001b[0m\u001b[0;34m'나이'\u001b[0m\u001b[0;34m)\u001b[0m \u001b[0;34m<\u001b[0m \u001b[0;36m30\u001b[0m \u001b[0;32mand\u001b[0m \u001b[0mdic\u001b[0m\u001b[0;34m.\u001b[0m\u001b[0mvalues\u001b[0m\u001b[0;34m(\u001b[0m\u001b[0;34m'키'\u001b[0m\u001b[0;34m)\u001b[0m\u001b[0;34m>=\u001b[0m \u001b[0;36m175\u001b[0m\u001b[0;34m:\u001b[0m\u001b[0;34m\u001b[0m\u001b[0m\n\u001b[0m\u001b[1;32m      4\u001b[0m   \u001b[0;32mprint\u001b[0m \u001b[0;34m(\u001b[0m\u001b[0;34m\"YES\"\u001b[0m\u001b[0;34m)\u001b[0m\u001b[0;34m\u001b[0m\u001b[0m\n\u001b[1;32m      5\u001b[0m \u001b[0;32melse\u001b[0m\u001b[0;34m:\u001b[0m\u001b[0;34m\u001b[0m\u001b[0m\n",
            "\u001b[0;31mTypeError\u001b[0m: values() takes no arguments (1 given)"
          ]
        }
      ]
    },
    {
      "metadata": {
        "id": "Q_TzCgTggtHD",
        "colab_type": "code",
        "colab": {}
      },
      "cell_type": "code",
      "source": [
        "#[3-1 문제5]\n",
        "# shirt"
      ],
      "execution_count": 0,
      "outputs": []
    },
    {
      "metadata": {
        "id": "2tyL9E-QliKx",
        "colab_type": "code",
        "outputId": "eb032c95-0933-49af-dc28-98ad605f1d00",
        "colab": {
          "base_uri": "https://localhost:8080/",
          "height": 36
        }
      },
      "cell_type": "code",
      "source": [
        "#[3-2 문제1]\n",
        "sum = 0\n",
        "num = 1\n",
        "while num <= 100:\n",
        "  sum += num\n",
        "  num +=1\n",
        "  \n",
        "print (sum) "
      ],
      "execution_count": 0,
      "outputs": [
        {
          "output_type": "stream",
          "text": [
            "5050\n"
          ],
          "name": "stdout"
        }
      ]
    },
    {
      "metadata": {
        "id": "BSW5Lz0slmub",
        "colab_type": "code",
        "outputId": "7ac94ea5-7f8e-459c-c802-68068742a5f5",
        "colab": {
          "base_uri": "https://localhost:8080/",
          "height": 36
        }
      },
      "cell_type": "code",
      "source": [
        "#[3-2 문제2]\n",
        "sum = 0\n",
        "i = 1\n",
        "while i <= 300:\n",
        "  i +=1\n",
        "  if i % 3 == 0:\n",
        "    sum += i\n",
        "\n",
        "print (sum)    "
      ],
      "execution_count": 0,
      "outputs": [
        {
          "output_type": "stream",
          "text": [
            "15150\n"
          ],
          "name": "stdout"
        }
      ]
    },
    {
      "metadata": {
        "id": "fGoe497UlnHF",
        "colab_type": "code",
        "outputId": "13e6279c-fadb-45cd-b563-2218d77ebad6",
        "colab": {
          "base_uri": "https://localhost:8080/",
          "height": 36
        }
      },
      "cell_type": "code",
      "source": [
        "#[3-2 문제3]\n",
        "\n",
        "A = [20, 55, 67, 82, 45, 33, 90, 87, 100, 25]\n",
        "\n",
        "total = 0\n",
        "for scr in A:\n",
        "  if scr >= 50:\n",
        "    total += scr\n",
        "\n",
        "print (total)    "
      ],
      "execution_count": 0,
      "outputs": [
        {
          "output_type": "stream",
          "text": [
            "481\n"
          ],
          "name": "stdout"
        }
      ]
    },
    {
      "metadata": {
        "id": "5No7CEEpfMUq",
        "colab_type": "code",
        "outputId": "beefb294-e837-43b9-8616-32da601b913c",
        "colab": {
          "base_uri": "https://localhost:8080/",
          "height": 36
        }
      },
      "cell_type": "code",
      "source": [
        "A = [20, 55, 67, 82, 45, 33, 90, 87, 100, 25]\n",
        "\n",
        "total = 0\n",
        "while scr >= 50 in A:\n",
        "  total += scr\n",
        "\n",
        "print (total) \n",
        "\n",
        "#while문 으로는?"
      ],
      "execution_count": 0,
      "outputs": [
        {
          "output_type": "stream",
          "text": [
            "0\n"
          ],
          "name": "stdout"
        }
      ]
    },
    {
      "metadata": {
        "id": "zSZi10oUlnc_",
        "colab_type": "code",
        "outputId": "9f73bc18-7efb-4026-de64-087f66990fea",
        "colab": {
          "base_uri": "https://localhost:8080/",
          "height": 92
        }
      },
      "cell_type": "code",
      "source": [
        "#[3-2 문제4]\n",
        "\n",
        "i = 0\n",
        "while i <= 3:\n",
        "    i += 1\n",
        "    print (\"*\"*i)"
      ],
      "execution_count": 0,
      "outputs": [
        {
          "output_type": "stream",
          "text": [
            "*\n",
            "**\n",
            "***\n",
            "****\n"
          ],
          "name": "stdout"
        }
      ]
    },
    {
      "metadata": {
        "id": "_07js6swXOVV",
        "colab_type": "code",
        "outputId": "a95afb2e-a67b-483d-fa80-bd4457d88dbc",
        "colab": {
          "base_uri": "https://localhost:8080/",
          "height": 92
        }
      },
      "cell_type": "code",
      "source": [
        "#[3-2 문제5]\n",
        "\n",
        "a = 7\n",
        "b = 0\n",
        "while a > 0:\n",
        "  print(\" \"* b+ \"*\" * a)\n",
        "  a -= 2\n",
        "  b += 1"
      ],
      "execution_count": 0,
      "outputs": [
        {
          "output_type": "stream",
          "text": [
            "*******\n",
            " *****\n",
            "  ***\n",
            "   *\n"
          ],
          "name": "stdout"
        }
      ]
    },
    {
      "metadata": {
        "id": "v0hk1NFiloRQ",
        "colab_type": "code",
        "outputId": "783f0fda-ac49-4ab7-be1c-942388d7b5ff",
        "colab": {
          "base_uri": "https://localhost:8080/",
          "height": 1884
        }
      },
      "cell_type": "code",
      "source": [
        "#[3-3 문제1]\n",
        "i = 1\n",
        "for i in range(1,101):\n",
        "  print i"
      ],
      "execution_count": 0,
      "outputs": [
        {
          "output_type": "stream",
          "text": [
            "1\n",
            "2\n",
            "3\n",
            "4\n",
            "5\n",
            "6\n",
            "7\n",
            "8\n",
            "9\n",
            "10\n",
            "11\n",
            "12\n",
            "13\n",
            "14\n",
            "15\n",
            "16\n",
            "17\n",
            "18\n",
            "19\n",
            "20\n",
            "21\n",
            "22\n",
            "23\n",
            "24\n",
            "25\n",
            "26\n",
            "27\n",
            "28\n",
            "29\n",
            "30\n",
            "31\n",
            "32\n",
            "33\n",
            "34\n",
            "35\n",
            "36\n",
            "37\n",
            "38\n",
            "39\n",
            "40\n",
            "41\n",
            "42\n",
            "43\n",
            "44\n",
            "45\n",
            "46\n",
            "47\n",
            "48\n",
            "49\n",
            "50\n",
            "51\n",
            "52\n",
            "53\n",
            "54\n",
            "55\n",
            "56\n",
            "57\n",
            "58\n",
            "59\n",
            "60\n",
            "61\n",
            "62\n",
            "63\n",
            "64\n",
            "65\n",
            "66\n",
            "67\n",
            "68\n",
            "69\n",
            "70\n",
            "71\n",
            "72\n",
            "73\n",
            "74\n",
            "75\n",
            "76\n",
            "77\n",
            "78\n",
            "79\n",
            "80\n",
            "81\n",
            "82\n",
            "83\n",
            "84\n",
            "85\n",
            "86\n",
            "87\n",
            "88\n",
            "89\n",
            "90\n",
            "91\n",
            "92\n",
            "93\n",
            "94\n",
            "95\n",
            "96\n",
            "97\n",
            "98\n",
            "99\n",
            "100\n"
          ],
          "name": "stdout"
        }
      ]
    },
    {
      "metadata": {
        "id": "vKt1oWCbYj_W",
        "colab_type": "code",
        "outputId": "bd29e8ec-8366-4e79-e362-5938785a173e",
        "colab": {
          "base_uri": "https://localhost:8080/",
          "height": 36
        }
      },
      "cell_type": "code",
      "source": [
        "#[3-3 문제2]\n",
        "i = 1\n",
        "sum = 0\n",
        "for i in range(1,1000):\n",
        "  if i % 5 == 0:\n",
        "    sum +=i\n",
        "\n",
        "print (sum)   "
      ],
      "execution_count": 0,
      "outputs": [
        {
          "output_type": "stream",
          "text": [
            "99500\n"
          ],
          "name": "stdout"
        }
      ]
    },
    {
      "metadata": {
        "id": "Wyy9XtQYYkg5",
        "colab_type": "code",
        "outputId": "df7387c7-2839-4ab1-fdda-c3dab2486e3f",
        "colab": {
          "base_uri": "https://localhost:8080/",
          "height": 36
        }
      },
      "cell_type": "code",
      "source": [
        "#[3-3 문제3]\n",
        "A = [70, 60, 55, 75, 95, 90, 80, 80, 85, 100]\n",
        "\n",
        "total = 0\n",
        "for i in A:\n",
        "  total += i\n",
        "\n",
        "avr = total / len(A)\n",
        "print (avr)"
      ],
      "execution_count": 0,
      "outputs": [
        {
          "output_type": "stream",
          "text": [
            "79\n"
          ],
          "name": "stdout"
        }
      ]
    },
    {
      "metadata": {
        "id": "xZf7wIWfYk8e",
        "colab_type": "code",
        "outputId": "71cfe2de-2bf3-4091-f3d1-3b1a2cf3972a",
        "colab": {
          "base_uri": "https://localhost:8080/",
          "height": 92
        }
      },
      "cell_type": "code",
      "source": [
        "#[3-3 문제4]\n",
        "a = ['A', 'B', 'A', 'O', 'AB', 'AB', 'O', 'A', 'B', 'O', 'B', 'AB']\n",
        "\n",
        "A = B = O = AB = 0\n",
        "for bt in a:\n",
        "  if bt == 'A':\n",
        "    A += 1\n",
        "  elif bt == 'B':\n",
        "    B += 1\n",
        "  elif bt == 'O':\n",
        "    O += 1\n",
        "  else:\n",
        "    AB +=1\n",
        "    \n",
        "print (A)\n",
        "print (B)\n",
        "print (O)\n",
        "print (AB)"
      ],
      "execution_count": 0,
      "outputs": [
        {
          "output_type": "stream",
          "text": [
            "3\n",
            "3\n",
            "3\n",
            "3\n"
          ],
          "name": "stdout"
        }
      ]
    },
    {
      "metadata": {
        "id": "0835rp4SYlYq",
        "colab_type": "code",
        "outputId": "846a2bf9-2b6c-4d65-c98e-18957c65a05d",
        "colab": {
          "base_uri": "https://localhost:8080/",
          "height": 36
        }
      },
      "cell_type": "code",
      "source": [
        "#[3-3 문제5]\n",
        "\n",
        "numbers = [1, 2, 3, 4, 5]\n",
        "result = [n*2 for n in numbers]\n",
        "print (result)"
      ],
      "execution_count": 0,
      "outputs": [
        {
          "output_type": "stream",
          "text": [
            "[2, 4, 6, 8, 10]\n"
          ],
          "name": "stdout"
        }
      ]
    }
  ]
}