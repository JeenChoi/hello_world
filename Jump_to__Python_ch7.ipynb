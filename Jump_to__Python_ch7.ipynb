{
  "nbformat": 4,
  "nbformat_minor": 0,
  "metadata": {
    "colab": {
      "name": "Jump_to _Python_ch7.ipynb",
      "version": "0.3.2",
      "provenance": [],
      "collapsed_sections": [],
      "include_colab_link": true
    },
    "kernelspec": {
      "name": "python3",
      "display_name": "Python 3"
    }
  },
  "cells": [
    {
      "cell_type": "markdown",
      "metadata": {
        "id": "view-in-github",
        "colab_type": "text"
      },
      "source": [
        "<a href=\"https://colab.research.google.com/github/JeenChoi/hello_world/blob/master/Jump_to__Python_ch7.ipynb\" target=\"_parent\"><img src=\"https://colab.research.google.com/assets/colab-badge.svg\" alt=\"Open In Colab\"/></a>"
      ]
    },
    {
      "metadata": {
        "id": "MrZbzhbKtFlh",
        "colab_type": "code",
        "colab": {}
      },
      "cell_type": "code",
      "source": [
        "import re"
      ],
      "execution_count": 0,
      "outputs": []
    },
    {
      "metadata": {
        "id": "KR2JZOb9tKus",
        "colab_type": "code",
        "colab": {
          "base_uri": "https://localhost:8080/",
          "height": 35
        },
        "outputId": "736de7e1-1b57-4ab9-e442-0b882fa96bcb"
      },
      "cell_type": "code",
      "source": [
        "p = re.compile('hel+o')\n",
        "m = p.match('hello')\n",
        "\n",
        "print(m)"
      ],
      "execution_count": 4,
      "outputs": [
        {
          "output_type": "stream",
          "text": [
            "<_sre.SRE_Match object; span=(0, 5), match='hello'>\n"
          ],
          "name": "stdout"
        }
      ]
    },
    {
      "metadata": {
        "id": "iciGYhRdw7W4",
        "colab_type": "code",
        "colab": {
          "base_uri": "https://localhost:8080/",
          "height": 35
        },
        "outputId": "34122bc6-89e1-44f1-9b8d-1e83e51ade78"
      },
      "cell_type": "code",
      "source": [
        "m2 = p.match('hello world!')\n",
        "\n",
        "print(m2)"
      ],
      "execution_count": 7,
      "outputs": [
        {
          "output_type": "stream",
          "text": [
            "<_sre.SRE_Match object; span=(0, 5), match='hello'>\n"
          ],
          "name": "stdout"
        }
      ]
    },
    {
      "metadata": {
        "id": "emv6TUyKw_gY",
        "colab_type": "code",
        "colab": {
          "base_uri": "https://localhost:8080/",
          "height": 35
        },
        "outputId": "adec69b3-aacb-48fb-cc71-8d92d2192e5a"
      },
      "cell_type": "code",
      "source": [
        "m3 = p.match('world hello') # match는 처음부터 찾아서 만족하는 것이 있으면 ok \n",
        "                            # (반대로 말하면 만족하는 것이 있더라도 처음시작점을 점유하지 못하면.. 의미 없는 것)\n",
        "                            # search는 상관 없이 전체에서 만족하는 것이 있으면 ok\n",
        "\n",
        "print(m3)"
      ],
      "execution_count": 9,
      "outputs": [
        {
          "output_type": "stream",
          "text": [
            "None\n"
          ],
          "name": "stdout"
        }
      ]
    },
    {
      "metadata": {
        "id": "uCFum257vSD1",
        "colab_type": "code",
        "colab": {
          "base_uri": "https://localhost:8080/",
          "height": 35
        },
        "outputId": "62a64f3f-971d-4e0f-9bf6-0a1b385809eb"
      },
      "cell_type": "code",
      "source": [
        "s = p.search('hello world')\n",
        "\n",
        "print(s)"
      ],
      "execution_count": 6,
      "outputs": [
        {
          "output_type": "stream",
          "text": [
            "<_sre.SRE_Match object; span=(0, 5), match='hello'>\n"
          ],
          "name": "stdout"
        }
      ]
    },
    {
      "metadata": {
        "id": "5inZqDwxwsvF",
        "colab_type": "code",
        "colab": {
          "base_uri": "https://localhost:8080/",
          "height": 35
        },
        "outputId": "7351e4c9-9eb2-4a68-93ea-cb560ff81b9c"
      },
      "cell_type": "code",
      "source": [
        "s2 = p.search('world hello')\n",
        "\n",
        "print(s2)"
      ],
      "execution_count": 10,
      "outputs": [
        {
          "output_type": "stream",
          "text": [
            "<_sre.SRE_Match object; span=(6, 11), match='hello'>\n"
          ],
          "name": "stdout"
        }
      ]
    },
    {
      "metadata": {
        "id": "pX7DI_aHx1lF",
        "colab_type": "code",
        "colab": {}
      },
      "cell_type": "code",
      "source": [
        "# 연습문제 2-1\n",
        "#답: 2"
      ],
      "execution_count": 0,
      "outputs": []
    },
    {
      "metadata": {
        "id": "8M2yLLXi8btQ",
        "colab_type": "code",
        "colab": {}
      },
      "cell_type": "code",
      "source": [
        "# 연습문제 2-2\n",
        "# m.star()= 2 , m.end()= 8 -> 10"
      ],
      "execution_count": 0,
      "outputs": []
    },
    {
      "metadata": {
        "id": "yda0RfhL84Ct",
        "colab_type": "code",
        "colab": {
          "base_uri": "https://localhost:8080/",
          "height": 111
        },
        "outputId": "80896553-dc73-40f0-fead-8fc7b1d19f8d"
      },
      "cell_type": "code",
      "source": [
        "# 연습문제 3-1\n",
        "\n",
        "data = \"\"\"\n",
        "park 010-9999-9988\n",
        "kim 010-9909-7789\n",
        "lee 010-8789-7768\n",
        "\"\"\"\n",
        "\n",
        "p = re.compile(\"([010-]\\d{4})[-]\\d{4}\")\n",
        "print(p.sub(\"\\g<1>\", data))"
      ],
      "execution_count": 47,
      "outputs": [
        {
          "output_type": "stream",
          "text": [
            "\n",
            "park 010-9999\n",
            "kim 010-9909\n",
            "lee 010-8789\n",
            "\n"
          ],
          "name": "stdout"
        }
      ]
    },
    {
      "metadata": {
        "id": "dO_puH69K6hK",
        "colab_type": "code",
        "colab": {
          "base_uri": "https://localhost:8080/",
          "height": 111
        },
        "outputId": "b4cd99bd-d193-49de-ef87-cc9e586ab49f"
      },
      "cell_type": "code",
      "source": [
        "new = p.sub(\"\\g<1>-####\", data)\n",
        "print(new)"
      ],
      "execution_count": 50,
      "outputs": [
        {
          "output_type": "stream",
          "text": [
            "\n",
            "park 010-9999-####\n",
            "kim 010-9909-####\n",
            "lee 010-8789-####\n",
            "\n"
          ],
          "name": "stdout"
        }
      ]
    },
    {
      "metadata": {
        "id": "blc7VtkyN7eC",
        "colab_type": "code",
        "colab": {
          "base_uri": "https://localhost:8080/",
          "height": 36
        },
        "outputId": "4afdb1dc-96ce-4f7d-c6a3-8ecdf6bfcb6e"
      },
      "cell_type": "code",
      "source": [
        "# 연습문제 3-2\n",
        "\n",
        "address =\"\"\"park@naver.com\n",
        "kim@daum.net\n",
        "lee@myhome.co.kr\"\"\"\n",
        "\n",
        "p = re.compile(\".*[@].*[.](?=com$|net$).*$\", re.M)\n",
        "\n",
        "print(p.match(address))"
      ],
      "execution_count": 56,
      "outputs": [
        {
          "output_type": "stream",
          "text": [
            "<_sre.SRE_Match object; span=(0, 14), match='park@naver.com'>\n"
          ],
          "name": "stdout"
        }
      ]
    }
  ]
}